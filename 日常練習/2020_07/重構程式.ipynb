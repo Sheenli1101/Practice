{
 "cells": [
  {
   "cell_type": "code",
   "execution_count": null,
   "metadata": {},
   "outputs": [],
   "source": [
    "# 一個function一個功能\n",
    "# 要會運用參數\n",
    "# refactor 重構\n",
    "import random\n",
    "import os # operating system\n",
    "\n",
    "def read_file(filename):\n",
    "\tproducts = [] # 不管檔案存不存在都要做這行\n",
    "\twith open(filename, 'r', encoding = 'utf-8') as f:\n",
    "\t\tfor line in f:\n",
    "\t\t\tif '商品,價格' in line:\n",
    "\t\t\t\tcontinue\n",
    "\t\t\tname, price = line.strip().split(',')\n",
    "\t\t\tproducts.append([name, price])\n",
    "\treturn products\n",
    "\n",
    "\n",
    "# 使用者輸入\n",
    "def user_input(products):\n",
    "\twhile True:\n",
    "\t\tname = input('請輸入商品名稱: ')\n",
    "\t\tif name == 'q':\n",
    "\t\t\tbreak\n",
    "\t\tprice = input('請輸入商品價格:' )\n",
    "\t\tprice = int(price)\n",
    "\t\tproducts.append([name, price])\n",
    "\tprint(products)\n",
    "\treturn products\n",
    "\n",
    "def print_products(products):\n",
    "\tfor p in products:\n",
    "\t\tprint(p[0], '的價格是', p[1])\n",
    "\n",
    "#寫入綁案\n",
    "def write_file(filename, products):\n",
    "\twith open(filename, 'w', encoding = 'utf-8') as f:\n",
    "\t\tf.write('商品,價格\\n')\n",
    "\t\tfor p in products:\n",
    "\t\t\tf.write((p[0]) + ',' + str(p[1]) + '\\n')\n",
    "\n",
    "def main():\n",
    "\tfilename = 'products.csv'\n",
    "\tif os.path.isfile(filename):\n",
    "\t\tprint(\"yeah! 找到檔案了!\")\n",
    "\t\tproducts = read_file(filename)\n",
    "\telse:\n",
    "\t\tprint('找不到檔案')\n",
    "\n",
    "\tproducts = read_file('products.csv')\n",
    "\tproducts = user_input(products)\n",
    "\tprint_products(products)\n",
    "\twrite_file('products.csv', products)\n",
    "\n",
    "main()"
   ]
  }
 ],
 "metadata": {
  "kernelspec": {
   "display_name": "Python 3",
   "language": "python",
   "name": "python3"
  },
  "language_info": {
   "codemirror_mode": {
    "name": "ipython",
    "version": 3
   },
   "file_extension": ".py",
   "mimetype": "text/x-python",
   "name": "python",
   "nbconvert_exporter": "python",
   "pygments_lexer": "ipython3",
   "version": "3.7.3"
  }
 },
 "nbformat": 4,
 "nbformat_minor": 2
}
