{
 "cells": [
  {
   "cell_type": "code",
   "execution_count": null,
   "metadata": {},
   "outputs": [],
   "source": [
    "import random\n",
    "import os # operating system\n",
    "products = [] # 不管檔案存不存在都要做這行\n",
    "# 檢查檔案在不在\n",
    "if os.path.isfile('products.csv'):\n",
    "\tprint('yeah! 找到檔案')\n",
    "\twith open('products.csv', 'r', encoding = 'utf-8') as f:\n",
    "\t\tfor line in f:\n",
    "\t\t\tif '商品,價格' in line:\n",
    "\t\t\t\tcontinue\n",
    "\t\t\tname, price = line.strip().split(',')\n",
    "\t\t\tproducts.append([name, price])\n",
    "\tprint(products)\n",
    "else:\n",
    "\tprint('找不到檔案........')\n",
    "\n",
    "# 使用者輸入\n",
    "while True:\n",
    "\tname = input('請輸入商品名稱: ')\n",
    "\tif name == 'q':\n",
    "\t\tbreak\n",
    "\tprice = input('請輸入商品價格:' )\n",
    "\tprice = int(price)\n",
    "\tproducts.append([name, price])\n",
    "print(products)\n",
    "\n",
    "for p in products:\n",
    "\tprint(p[0], '的價格是', p[1])\n",
    "\n",
    "#寫入綁案\n",
    "with open('products.csv', 'w', encoding = 'utf-8') as f:\n",
    "\tf.write('商品,價格\\n')\n",
    "\tfor p in products:\n",
    "\t\tf.write((p[0]) + ',' + str(p[1]) + '\\n')\n"
   ]
  }
 ],
 "metadata": {
  "kernelspec": {
   "display_name": "Python 3",
   "language": "python",
   "name": "python3"
  },
  "language_info": {
   "codemirror_mode": {
    "name": "ipython",
    "version": 3
   },
   "file_extension": ".py",
   "mimetype": "text/x-python",
   "name": "python",
   "nbconvert_exporter": "python",
   "pygments_lexer": "ipython3",
   "version": "3.7.3"
  }
 },
 "nbformat": 4,
 "nbformat_minor": 2
}
