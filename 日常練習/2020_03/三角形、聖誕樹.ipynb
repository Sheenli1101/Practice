{
 "cells": [
  {
   "cell_type": "code",
   "execution_count": 58,
   "metadata": {},
   "outputs": [
    {
     "name": "stdout",
     "output_type": "stream",
     "text": [
      "* \n",
      "* * * \n",
      "* * * * * \n",
      "* * * * * * * \n",
      "* * * * * * * * * \n"
     ]
    }
   ],
   "source": [
    "for i in range(5):\n",
    "\tfor j in range(2 * i + 1):\n",
    "\t\tprint(\"*\", end = ' ')    #end表示沒有enter，print在python內建一個enter\n",
    "\tprint()\t #換行\n"
   ]
  },
  {
   "cell_type": "code",
   "execution_count": 97,
   "metadata": {},
   "outputs": [
    {
     "name": "stdout",
     "output_type": "stream",
     "text": [
      "       *\n",
      "      ***\n",
      "     *****\n",
      "    *******\n",
      "   *********\n"
     ]
    }
   ],
   "source": [
    "\n",
    "for i in range(5):\n",
    "    for a in range(10 - i - 3):\n",
    "        print(' ',end='')\n",
    "    for b in range(2 * i + 1):    \n",
    "        print('*',end='')\n",
    "    \n",
    "    print()  \n",
    "   "
   ]
  },
  {
   "cell_type": "code",
   "execution_count": 109,
   "metadata": {},
   "outputs": [
    {
     "name": "stdout",
     "output_type": "stream",
     "text": [
      "         *\n",
      "        ***\n",
      "       *****\n",
      "      *******\n",
      "     *********\n",
      "         *\n",
      "        ***\n",
      "       *****\n",
      "      *******\n",
      "     *********\n",
      "         *\n",
      "        ***\n",
      "       *****\n",
      "      *******\n",
      "     *********\n",
      "         *\n",
      "         *\n",
      "         *\n"
     ]
    }
   ],
   "source": [
    "for s in range(3):       # 印出三個三角形\n",
    "    for i in range(5):  #每個三角形有5層\n",
    "        for a in range(10 - i - 1):  #先印出空格\n",
    "            print(' ',end ='')\n",
    "        for b in range(2 * i + 1):   #再印出*號   \n",
    "            print('*',end = '')\n",
    "        print()\n",
    "for t in range(3):              #樹幹的部分\n",
    "    print('        ','*')\n",
    "\n",
    "   "
   ]
  },
  {
   "cell_type": "code",
   "execution_count": null,
   "metadata": {},
   "outputs": [],
   "source": []
  }
 ],
 "metadata": {
  "kernelspec": {
   "display_name": "Python 3",
   "language": "python",
   "name": "python3"
  },
  "language_info": {
   "codemirror_mode": {
    "name": "ipython",
    "version": 3
   },
   "file_extension": ".py",
   "mimetype": "text/x-python",
   "name": "python",
   "nbconvert_exporter": "python",
   "pygments_lexer": "ipython3",
   "version": "3.7.3"
  }
 },
 "nbformat": 4,
 "nbformat_minor": 2
}
