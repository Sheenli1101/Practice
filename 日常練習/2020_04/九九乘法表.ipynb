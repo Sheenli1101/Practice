{
 "cells": [
  {
   "cell_type": "code",
   "execution_count": 2,
   "metadata": {},
   "outputs": [
    {
     "name": "stdout",
     "output_type": "stream",
     "text": [
      "1 * 1 =  1   2 * 1 =  2   3 * 1 =  3   \n",
      "1 * 2 =  2   2 * 2 =  4   3 * 2 =  6   \n",
      "1 * 3 =  3   2 * 3 =  6   3 * 3 =  9   \n",
      "1 * 4 =  4   2 * 4 =  8   3 * 4 = 12   \n",
      "1 * 5 =  5   2 * 5 = 10   3 * 5 = 15   \n",
      "1 * 6 =  6   2 * 6 = 12   3 * 6 = 18   \n",
      "1 * 7 =  7   2 * 7 = 14   3 * 7 = 21   \n",
      "1 * 8 =  8   2 * 8 = 16   3 * 8 = 24   \n",
      "1 * 9 =  9   2 * 9 = 18   3 * 9 = 27   \n",
      "\n",
      "4 * 1 =  4   5 * 1 =  5   6 * 1 =  6   \n",
      "4 * 2 =  8   5 * 2 = 10   6 * 2 = 12   \n",
      "4 * 3 = 12   5 * 3 = 15   6 * 3 = 18   \n",
      "4 * 4 = 16   5 * 4 = 20   6 * 4 = 24   \n",
      "4 * 5 = 20   5 * 5 = 25   6 * 5 = 30   \n",
      "4 * 6 = 24   5 * 6 = 30   6 * 6 = 36   \n",
      "4 * 7 = 28   5 * 7 = 35   6 * 7 = 42   \n",
      "4 * 8 = 32   5 * 8 = 40   6 * 8 = 48   \n",
      "4 * 9 = 36   5 * 9 = 45   6 * 9 = 54   \n",
      "\n",
      "7 * 1 =  7   8 * 1 =  8   9 * 1 =  9   \n",
      "7 * 2 = 14   8 * 2 = 16   9 * 2 = 18   \n",
      "7 * 3 = 21   8 * 3 = 24   9 * 3 = 27   \n",
      "7 * 4 = 28   8 * 4 = 32   9 * 4 = 36   \n",
      "7 * 5 = 35   8 * 5 = 40   9 * 5 = 45   \n",
      "7 * 6 = 42   8 * 6 = 48   9 * 6 = 54   \n",
      "7 * 7 = 49   8 * 7 = 56   9 * 7 = 63   \n",
      "7 * 8 = 56   8 * 8 = 64   9 * 8 = 72   \n",
      "7 * 9 = 63   8 * 9 = 72   9 * 9 = 81   \n",
      "\n"
     ]
    }
   ],
   "source": [
    "# 九九乘法表\n",
    "for i in range(3):\n",
    "    for j in range(9):\n",
    "            for k in range(1 + i*3, 4 + i*3):\n",
    "                print(\"%d * %d = %2d\" % (k,j + 1,(j + 1) * k), end = '   ')\n",
    "            print()        \n",
    "    print()\n",
    "    \n",
    "    \n",
    "        "
   ]
  }
 ],
 "metadata": {
  "kernelspec": {
   "display_name": "Python 3",
   "language": "python",
   "name": "python3"
  },
  "language_info": {
   "codemirror_mode": {
    "name": "ipython",
    "version": 3
   },
   "file_extension": ".py",
   "mimetype": "text/x-python",
   "name": "python",
   "nbconvert_exporter": "python",
   "pygments_lexer": "ipython3",
   "version": "3.7.3"
  }
 },
 "nbformat": 4,
 "nbformat_minor": 2
}
