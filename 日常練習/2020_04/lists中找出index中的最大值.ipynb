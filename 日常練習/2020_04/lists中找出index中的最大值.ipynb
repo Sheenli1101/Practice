{
 "cells": [
  {
   "cell_type": "markdown",
   "metadata": {},
   "source": [
    "<font color=#0000FF>(004)以下有三個list，請寫一個函數getMaxList(A, B, C)回傳每一個index的最大值</font>\n",
    "- getMaxList(A, B, C)\n",
    "    - A, B, C 皆為 list\n",
    "- 例如輸入以下三個list，回傳結果[7,9,8,3]\n",
    "    - X=[6,3,1]\n",
    "    - Y=[2,9]\n",
    "    - Z=[7,2,8,3]\n",
    "- 提示，可以利用numpy內建的屬性\n",
    "    - PINF(正無窮大)\n",
    "    - NINF(負無窮大)"
   ]
  },
  {
   "cell_type": "code",
   "execution_count": 2,
   "metadata": {},
   "outputs": [
    {
     "name": "stdout",
     "output_type": "stream",
     "text": [
      "inf\n",
      "-inf\n"
     ]
    }
   ],
   "source": [
    "import numpy as np\n",
    "print(np.PINF)\n",
    "print(np.NINF)"
   ]
  },
  {
   "cell_type": "code",
   "execution_count": 4,
   "metadata": {},
   "outputs": [],
   "source": [
    "def getMaxList(A, B, C):\n",
    "    n1 = len(A)\n",
    "    n2 = len(B)\n",
    "    n3 = len(C)\n",
    "    for i in range(n3 - n1):\n",
    "        A.append(0)\n",
    "    for j in range(n3 - n2):\n",
    "        B.append(0)\n",
    "    W = [A, B, C]\n",
    "    W = np.array(W)\n",
    "    W = np.amax(W, axis = 0)\n",
    "    ans = list(W)\n",
    "    return ans"
   ]
  },
  {
   "cell_type": "code",
   "execution_count": 6,
   "metadata": {},
   "outputs": [
    {
     "name": "stdout",
     "output_type": "stream",
     "text": [
      "[7, 9, 8, 3]\n"
     ]
    }
   ],
   "source": [
    "X = [6,3,1]\n",
    "Y = [2,9]\n",
    "Z = [7,2,8,3]\n",
    "print(getMaxList(X, Y, Z))"
   ]
  }
 ],
 "metadata": {
  "kernelspec": {
   "display_name": "Python 3",
   "language": "python",
   "name": "python3"
  },
  "language_info": {
   "codemirror_mode": {
    "name": "ipython",
    "version": 3
   },
   "file_extension": ".py",
   "mimetype": "text/x-python",
   "name": "python",
   "nbconvert_exporter": "python",
   "pygments_lexer": "ipython3",
   "version": "3.7.3"
  }
 },
 "nbformat": 4,
 "nbformat_minor": 2
}
