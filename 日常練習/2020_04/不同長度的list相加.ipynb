{
 "cells": [
  {
   "cell_type": "markdown",
   "metadata": {},
   "source": [
    "<font color=#0000FF>(003)在R中有一個稱為vector的物件，當兩個長度不一樣時，短的vector會被重複使用，請用Pythoh寫出兩個list物件相加的函數，如同R中的vector效果</font>\n",
    "- addList(A, B) : return list\n",
    "    - A, B 都是 list, 可以不等長\n",
    "- 例如 :\n",
    "    - X=[1,2,3], Y=[4,5,6,7,8], addList(X, Y) 應該回傳 : [5,7,9,8,10] 就是 [1+4, 2+5, 3+6, 1+7, 2+8]的結果\n",
    "    - 由於X只有三個元素，Y有五個元素，所以X的元素會被重複使用"
   ]
  },
  {
   "cell_type": "code",
   "execution_count": 1,
   "metadata": {},
   "outputs": [],
   "source": [
    "def addList(A, B):\n",
    "    sumlist = []\n",
    "    n1 = len(A) \n",
    "    n2 = len(B) \n",
    "    while len(A) != len(B):\n",
    "        if len(A) < len (B):\n",
    "            for i in range(n2 - n1):\n",
    "                A.append(A[i])\n",
    "        elif len(A) > len(B):\n",
    "            for j in range(n1 - n2):\n",
    "                B.append(B[j])\n",
    "    for x,y in zip(A, B):\n",
    "        sumlist.append(x + y)\n",
    "    return sumlist"
   ]
  },
  {
   "cell_type": "code",
   "execution_count": 2,
   "metadata": {},
   "outputs": [
    {
     "name": "stdout",
     "output_type": "stream",
     "text": [
      "[5, 7, 9, 8, 10]\n"
     ]
    }
   ],
   "source": [
    "X=[1,2,3]\n",
    "Y=[4,5,6,7,8]\n",
    "print(addList(X,Y))"
   ]
  }
 ],
 "metadata": {
  "kernelspec": {
   "display_name": "Python 3",
   "language": "python",
   "name": "python3"
  },
  "language_info": {
   "codemirror_mode": {
    "name": "ipython",
    "version": 3
   },
   "file_extension": ".py",
   "mimetype": "text/x-python",
   "name": "python",
   "nbconvert_exporter": "python",
   "pygments_lexer": "ipython3",
   "version": "3.7.3"
  }
 },
 "nbformat": 4,
 "nbformat_minor": 2
}
