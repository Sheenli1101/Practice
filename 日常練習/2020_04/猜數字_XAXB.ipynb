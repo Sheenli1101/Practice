{
 "cells": [
  {
   "cell_type": "markdown",
   "metadata": {},
   "source": [
    "<font color=#0000FF>(002-01)小時候我們常常玩猜數字遊戲，現在我們要寫一個小小的遊戲與電腦玩，規則如下:</font>\n",
    "1. 電腦先隨機產生一組四位數的數字，例如:<font color=#FF0000>5691</font>，每一個數字不可以重複，左邊第一個數字不可以為0\n",
    "2. 使用者不斷猜這一組數字，只要猜到的數字有在其中，位置相同數字相同就給個A，位置不同數字相同就給個B，例如猜 <font color=#FF0000>1650</font>，因為有猜到 1, 5, 6，其中 6 的位置又相同，其他位置不同，所以電腦要給 1A2B。\n"
   ]
  },
  {
   "cell_type": "markdown",
   "metadata": {},
   "source": [
    "1.電腦先隨機產生一組四位數的數字，例如:5691，每一個數字不可以重複，左邊第一個數字不可以為0"
   ]
  },
  {
   "cell_type": "code",
   "execution_count": 26,
   "metadata": {},
   "outputs": [
    {
     "data": {
      "text/plain": [
       "6745"
      ]
     },
     "execution_count": 26,
     "metadata": {},
     "output_type": "execute_result"
    }
   ],
   "source": [
    "import random\n",
    "numbers = range(1000,10000)\n",
    "answer = numbers[random.randint(0,8999)]\n",
    "answer"
   ]
  },
  {
   "cell_type": "markdown",
   "metadata": {},
   "source": [
    "2.使用者不斷猜這一組數字，只要猜到的數字有在其中，位置相同數字相同就給個A，位置不同數字相同就給個B，例如猜 1650，因為有猜到 1, 5, 6，其中 6 的位置又相同，其他位置不同，所以電腦要給 1A2B。"
   ]
  },
  {
   "cell_type": "code",
   "execution_count": 32,
   "metadata": {
    "scrolled": true
   },
   "outputs": [
    {
     "name": "stdout",
     "output_type": "stream",
     "text": [
      "請輸入你想猜的數字: 6470\n",
      "1A2B\n"
     ]
    }
   ],
   "source": [
    "answer = str(answer)\n",
    "a = 0\n",
    "b = 0\n",
    "guess = input('請輸入你想猜的數字: ')\n",
    "for i in range(4):\n",
    "    if guess[i] == answer[i]:\n",
    "        a = a + 1\n",
    "            \n",
    "for j in range(4):\n",
    "    for k in range(4):\n",
    "        if guess[j] == answer[k]:\n",
    "            b = b + 1\n",
    "b = b - a                \n",
    "print('%dA%dB'%(a,b))            "
   ]
  }
 ],
 "metadata": {
  "kernelspec": {
   "display_name": "Python 3",
   "language": "python",
   "name": "python3"
  },
  "language_info": {
   "codemirror_mode": {
    "name": "ipython",
    "version": 3
   },
   "file_extension": ".py",
   "mimetype": "text/x-python",
   "name": "python",
   "nbconvert_exporter": "python",
   "pygments_lexer": "ipython3",
   "version": "3.7.3"
  }
 },
 "nbformat": 4,
 "nbformat_minor": 2
}
