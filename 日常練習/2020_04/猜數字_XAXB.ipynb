{
 "cells": [
  {
   "cell_type": "markdown",
   "metadata": {},
   "source": [
    "<font color=#0000FF>(002-01)小時候我們常常玩猜數字遊戲，現在我們要寫一個小小的遊戲與電腦玩，規則如下:</font>\n",
    "1. 電腦先隨機產生一組四位數的數字，例如:<font color=#FF0000>5691</font>，每一個數字不可以重複，左邊第一個數字不可以為0\n",
    "2. 使用者不斷猜這一組數字，只要猜到的數字有在其中，位置相同數字相同就給個A，位置不同數字相同就給個B，例如猜 <font color=#FF0000>1650</font>，因為有猜到 1, 5, 6，其中 6 的位置又相同，其他位置不同，所以電腦要給 1A2B。\n"
   ]
  },
  {
   "cell_type": "markdown",
   "metadata": {},
   "source": [
    "1.電腦先隨機產生一組四位數的數字，例如:5691，每一個數字不可以重複，左邊第一個數字不可以為0"
   ]
  },
  {
   "cell_type": "code",
   "execution_count": 1,
   "metadata": {},
   "outputs": [
    {
     "data": {
      "text/plain": [
       "'2797'"
      ]
     },
     "execution_count": 1,
     "metadata": {},
     "output_type": "execute_result"
    }
   ],
   "source": [
    "import random\n",
    "numbers = range(1000,10000)\n",
    "answer = str(numbers[random.randint(0,8999)])\n",
    "answer"
   ]
  },
  {
   "cell_type": "markdown",
   "metadata": {},
   "source": [
    "2.使用者不斷猜這一組數字，只要猜到的數字有在其中，位置相同數字相同就給個A，位置不同數字相同就給個B，例如猜 1650，因為有猜到 1, 5, 6，其中 6 的位置又相同，其他位置不同，所以電腦要給 1A2B。"
   ]
  },
  {
   "cell_type": "code",
   "execution_count": 2,
   "metadata": {
    "scrolled": true
   },
   "outputs": [
    {
     "name": "stdout",
     "output_type": "stream",
     "text": [
      "請輸入你想猜的數字: 2797\n",
      "4A2B\n"
     ]
    }
   ],
   "source": [
    "a = 0\n",
    "b = 0\n",
    "guess = input('請輸入你想猜的數字: ')\n",
    "for i in range(4):\n",
    "    if guess[i] == answer[i]:\n",
    "        a = a + 1\n",
    "            \n",
    "for j in range(4):\n",
    "    for k in range(4):\n",
    "        if guess[j] == answer[k]:\n",
    "            b = b + 1\n",
    "b = b - a                \n",
    "print('%dA%dB'%(a,b))            "
   ]
  },
  {
   "cell_type": "markdown",
   "metadata": {},
   "source": [
    "(002-02)以上的題目，請用迴圈更改成可以不斷猜，直到使用者輸入\"0000\"表示放棄不玩，或是猜對為止。結束後，系統必須告知答案，以及使用者總共玩了幾次，猜過哪些數字"
   ]
  },
  {
   "cell_type": "code",
   "execution_count": 3,
   "metadata": {},
   "outputs": [
    {
     "name": "stdout",
     "output_type": "stream",
     "text": [
      "6481\n"
     ]
    }
   ],
   "source": [
    "import numpy as np\n",
    "n = 4\n",
    "answer = \"\"\n",
    "while answer == \"\" or answer[0] == \"0\":\n",
    "    answer = \"\".join([str(num) for num in np.random.choice(range(10), n, replace = False)])\n",
    "print(answer)"
   ]
  },
  {
   "cell_type": "code",
   "execution_count": 4,
   "metadata": {},
   "outputs": [
    {
     "name": "stdout",
     "output_type": "stream",
     "text": [
      "請輸入你想猜的數字(或者輸入0000結束遊戲): 6681\n",
      "這次答案是3A1B\n",
      "這是你猜的第 1 次\n",
      "請輸入你想猜的數字(或者輸入0000結束遊戲): 6481\n",
      "你答對了喔!\n",
      "答案是 6481\n",
      "你總共玩 2 次\n",
      "你猜過這些數字: [6681, 6481]\n"
     ]
    }
   ],
   "source": [
    "count = 0\n",
    "your_answer = []\n",
    "while True:\n",
    "    count += 1\n",
    "    guess = input('請輸入你想猜的數字(或者輸入0000結束遊戲): ')\n",
    "    your_answer.append(int(guess))\n",
    "    if guess == '0000':\n",
    "        print('你總共玩', count - 1, '次')\n",
    "        print('別氣餒，下次再來玩')\n",
    "        break\n",
    "    else:\n",
    "        if guess == answer:\n",
    "            print('你答對了喔!')\n",
    "            print('答案是',int(answer))\n",
    "            print('你總共玩', count, '次')\n",
    "            print('你猜過這些數字:', your_answer)\n",
    "            break\n",
    "        else:\n",
    "                a = 0\n",
    "                b = 0\n",
    "                n = len(answer)\n",
    "                for i in range(n):\n",
    "                    if guess[i] == answer[i]:\n",
    "                        a = a + 1\n",
    "                    elif guess[i] in answer:\n",
    "                        b = b + 1                    \n",
    "                print('這次答案是%dA%dB'%(a,b))\n",
    "                print('這是你猜的第', count, '次')"
   ]
  },
  {
   "cell_type": "code",
   "execution_count": null,
   "metadata": {},
   "outputs": [],
   "source": []
  }
 ],
 "metadata": {
  "kernelspec": {
   "display_name": "Python 3",
   "language": "python",
   "name": "python3"
  },
  "language_info": {
   "codemirror_mode": {
    "name": "ipython",
    "version": 3
   },
   "file_extension": ".py",
   "mimetype": "text/x-python",
   "name": "python",
   "nbconvert_exporter": "python",
   "pygments_lexer": "ipython3",
   "version": "3.7.3"
  }
 },
 "nbformat": 4,
 "nbformat_minor": 2
}
