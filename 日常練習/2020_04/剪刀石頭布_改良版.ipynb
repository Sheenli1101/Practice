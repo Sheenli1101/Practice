{
 "cells": [
  {
   "cell_type": "code",
   "execution_count": null,
   "metadata": {},
   "outputs": [],
   "source": [
    "import random\n",
    "# 設定電腦出拳類型\n",
    "game = ['剪刀', '石頭', '布']\n",
    "cm_choose = game[random.randint(0,2)]\n",
    "\n",
    "while True:\n",
    "    you_choose = input('你該出拳囉: ')\n",
    "    if you_choose in game:\n",
    "        print('電腦出', cm_choose)\n",
    "        if you_choose == cm_choose:\n",
    "            print('Tie') \n",
    "        else:\n",
    "            if((you_choose == '剪刀' and cm_choose == '布')or\n",
    "            (you_choose ==  '石頭'  and cm_choose == '剪刀')or\n",
    "            (you_choose ==  '布'  and cm_choose == '石頭')):\n",
    "                print('you win!')\n",
    "                break\n",
    "            else:\n",
    "                print('You lose')\n",
    "                break\n",
    "    else:\n",
    "        print('賣亂來')\n",
    "        "
   ]
  }
 ],
 "metadata": {
  "kernelspec": {
   "display_name": "Python 3",
   "language": "python",
   "name": "python3"
  },
  "language_info": {
   "codemirror_mode": {
    "name": "ipython",
    "version": 3
   },
   "file_extension": ".py",
   "mimetype": "text/x-python",
   "name": "python",
   "nbconvert_exporter": "python",
   "pygments_lexer": "ipython3",
   "version": "3.7.3"
  }
 },
 "nbformat": 4,
 "nbformat_minor": 2
}
