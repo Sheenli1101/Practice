{
 "cells": [
  {
   "cell_type": "markdown",
   "metadata": {},
   "source": [
    "# Try and Except"
   ]
  },
  {
   "cell_type": "code",
   "execution_count": 1,
   "metadata": {},
   "outputs": [
    {
     "name": "stdout",
     "output_type": "stream",
     "text": [
      "Something went wrong...\n"
     ]
    }
   ],
   "source": [
    "def safe_divide(x, y):\n",
    "    try:\n",
    "        return x / y\n",
    "    except:\n",
    "        return \"Something went wrong...\"\n",
    "print(safe_divide(5566,0))"
   ]
  },
  {
   "cell_type": "markdown",
   "metadata": {},
   "source": [
    "# 彈性參數\n",
    "彈性參數用在不確定會輸入幾個參數"
   ]
  },
  {
   "cell_type": "code",
   "execution_count": 5,
   "metadata": {},
   "outputs": [],
   "source": [
    "def get_fahrenheits(*args):\n",
    "    fahrenheits = []\n",
    "    for i in args:\n",
    "        f = i * 9/5 +32\n",
    "        fahrenheits.append(f)\n",
    "    return fahrenheits"
   ]
  },
  {
   "cell_type": "code",
   "execution_count": 7,
   "metadata": {},
   "outputs": [
    {
     "data": {
      "text/plain": [
       "[41.0, 64.4]"
      ]
     },
     "execution_count": 7,
     "metadata": {},
     "output_type": "execute_result"
    }
   ],
   "source": [
    "get_fahrenheits(5,18)"
   ]
  },
  {
   "cell_type": "code",
   "execution_count": 8,
   "metadata": {},
   "outputs": [],
   "source": [
    "def get_mean(*args):\n",
    "    summation = sum(args)\n",
    "    length = len(args)\n",
    "    x_bar = summation / length\n",
    "    return x_bar"
   ]
  },
  {
   "cell_type": "code",
   "execution_count": 11,
   "metadata": {},
   "outputs": [
    {
     "name": "stdout",
     "output_type": "stream",
     "text": [
      "4.0\n"
     ]
    }
   ],
   "source": [
    "print(get_mean(1, 2, 3, 9, 5))"
   ]
  },
  {
   "cell_type": "code",
   "execution_count": 15,
   "metadata": {},
   "outputs": [],
   "source": [
    "def get_std(*args):\n",
    "    summation = sum(args)\n",
    "    length = len(args)\n",
    "    x_bar = summation / length\n",
    "    sum_squared_error = 0\n",
    "    for i in args:\n",
    "        error = i - x_bar\n",
    "        squared_error = error**2\n",
    "        sum_squared_error += squared_error\n",
    "    try:\n",
    "        std = (sum_squared_error / (length - 1))**0.5\n",
    "        return std\n",
    "    except:\n",
    "        return \"at least 2 numbers\"\n",
    "        \n",
    "        "
   ]
  },
  {
   "cell_type": "code",
   "execution_count": 16,
   "metadata": {},
   "outputs": [
    {
     "name": "stdout",
     "output_type": "stream",
     "text": [
      "3.1622776601683795\n",
      "1.5811388300841898\n",
      "at least 2 numbers\n"
     ]
    }
   ],
   "source": [
    "print(get_std(1, 3, 5, 7, 9))\n",
    "print(get_std(3, 4, 5, 6, 7))\n",
    "print(get_std(3))"
   ]
  },
  {
   "cell_type": "markdown",
   "metadata": {},
   "source": [
    "# 匿名函數\n",
    "又稱 lambda函數"
   ]
  },
  {
   "cell_type": "code",
   "execution_count": 2,
   "metadata": {},
   "outputs": [
    {
     "data": {
      "text/plain": [
       "4"
      ]
     },
     "execution_count": 2,
     "metadata": {},
     "output_type": "execute_result"
    }
   ],
   "source": [
    "# def square(x):\n",
    "#     return x**2\n",
    "#搭配 迭代函數\n",
    "squared = lambda x: x**2  # x是輸入 :是return x**2是輸出\n",
    "squared(2)"
   ]
  },
  {
   "cell_type": "markdown",
   "metadata": {},
   "source": [
    "# 迭代函數\n",
    "- map()\n",
    "- filter()"
   ]
  },
  {
   "cell_type": "code",
   "execution_count": 4,
   "metadata": {},
   "outputs": [
    {
     "data": {
      "text/plain": [
       "[64.4, 68.0, 71.6]"
      ]
     },
     "execution_count": 4,
     "metadata": {},
     "output_type": "execute_result"
    }
   ],
   "source": [
    "def get_fahrenheit(c):\n",
    "    return c*9/5 + 32\n",
    "\n",
    "temp_c = [18, 20, 22]\n",
    "temp_f = map(get_fahrenheit, temp_c)\n",
    "list(temp_f)"
   ]
  },
  {
   "cell_type": "code",
   "execution_count": 21,
   "metadata": {},
   "outputs": [
    {
     "data": {
      "text/plain": [
       "[64.4, 68.0, 71.6]"
      ]
     },
     "execution_count": 21,
     "metadata": {},
     "output_type": "execute_result"
    }
   ],
   "source": [
    "temp_c = [18, 20, 22]\n",
    "temp_f = map(lambda x : x * 9/5 +32, temp_c)\n",
    "list(temp_f)"
   ]
  },
  {
   "cell_type": "code",
   "execution_count": 10,
   "metadata": {},
   "outputs": [
    {
     "data": {
      "text/plain": [
       "[-10, -5, -3]"
      ]
     },
     "execution_count": 10,
     "metadata": {},
     "output_type": "execute_result"
    }
   ],
   "source": [
    "# filter()\n",
    "temp_c = [-10, 18, 20, -5, -3]\n",
    "below_zero = filter(lambda x: x < 0, temp_c)\n",
    "list(below_zero)"
   ]
  },
  {
   "cell_type": "markdown",
   "metadata": {},
   "source": [
    "# 其他常用迭代函數\n",
    "- enumerate() : 同時取用一個iterable中的index與value\n",
    "- zip() : 同時取用多個iterables中的values"
   ]
  },
  {
   "cell_type": "code",
   "execution_count": 11,
   "metadata": {},
   "outputs": [
    {
     "name": "stdout",
     "output_type": "stream",
     "text": [
      "['The Avengers', 'Avengers: Age of Ultron', 'Avengers: Infinity War', 'Avengers: Endgame']\n"
     ]
    }
   ],
   "source": [
    "the_avenger_movies = [\"The Avengers\", \"Avengers: Age of Ultron\", \"Avengers: Infinity War\", \"Avengers: Endgame\"]\n",
    "print(the_avenger_movies)"
   ]
  },
  {
   "cell_type": "code",
   "execution_count": 13,
   "metadata": {},
   "outputs": [
    {
     "name": "stdout",
     "output_type": "stream",
     "text": [
      "復仇者聯盟第1集 : The Avengers\n",
      "復仇者聯盟第2集 : Avengers: Age of Ultron\n",
      "復仇者聯盟第3集 : Avengers: Infinity War\n",
      "復仇者聯盟第4集 : Avengers: Endgame\n"
     ]
    }
   ],
   "source": [
    "for i in range(len(the_avenger_movies)):\n",
    "    print('復仇者聯盟第{}集 : {}'.format(i+1, the_avenger_movies[i]))"
   ]
  },
  {
   "cell_type": "code",
   "execution_count": 18,
   "metadata": {},
   "outputs": [
    {
     "name": "stdout",
     "output_type": "stream",
     "text": [
      "復仇者聯盟第1集 : The Avengers\n",
      "復仇者聯盟第2集 : Avengers: Age of Ultron\n",
      "復仇者聯盟第3集 : Avengers: Infinity War\n",
      "復仇者聯盟第4集 : Avengers: Endgame\n"
     ]
    }
   ],
   "source": [
    "for i, val in enumerate(the_avenger_movies):\n",
    "    print('復仇者聯盟第{}集 : {}'.format(i+1, val))"
   ]
  },
  {
   "cell_type": "code",
   "execution_count": 19,
   "metadata": {},
   "outputs": [
    {
     "name": "stdout",
     "output_type": "stream",
     "text": [
      "The Avengers上映年份 2012\n",
      "Avengers: Age of Ultron上映年份 2015\n",
      "Avengers: Infinity War上映年份 2018\n",
      "Avengers: Endgame上映年份 2019\n"
     ]
    }
   ],
   "source": [
    "release_years = [2012, 2015, 2018, 2019]\n",
    "for year, movie in zip(release_years, the_avenger_movies):\n",
    "    print(\"{}上映年份 {}\".format(movie, year))"
   ]
  },
  {
   "cell_type": "markdown",
   "metadata": {},
   "source": [
    "# List Comprehensions\n",
    "將loop構建list壓縮為簡潔單行的方法"
   ]
  },
  {
   "cell_type": "code",
   "execution_count": 22,
   "metadata": {},
   "outputs": [
    {
     "name": "stdout",
     "output_type": "stream",
     "text": [
      "[0, 1, 4, 9, 16, 25, 36, 49, 64, 81]\n"
     ]
    }
   ],
   "source": [
    "# loop construction\n",
    "squared_list = []\n",
    "for i in range(10):\n",
    "    squared_list.append(i**2)\n",
    "print(squared_list)"
   ]
  },
  {
   "cell_type": "code",
   "execution_count": 24,
   "metadata": {},
   "outputs": [
    {
     "name": "stdout",
     "output_type": "stream",
     "text": [
      "[0, 1, 4, 9, 16, 25, 36, 49, 64, 81]\n"
     ]
    }
   ],
   "source": [
    "squared_list = [i**2 for i in range(10)] \n",
    "print(squared_list)"
   ]
  },
  {
   "cell_type": "code",
   "execution_count": 26,
   "metadata": {},
   "outputs": [
    {
     "name": "stdout",
     "output_type": "stream",
     "text": [
      "[0, 2, 4, 6, 8]\n"
     ]
    }
   ],
   "source": [
    "even_numbers = []\n",
    "for i in range(10):\n",
    "    if i % 2 == 0:\n",
    "        even_numbers.append(i)\n",
    "print(even_numbers)"
   ]
  },
  {
   "cell_type": "code",
   "execution_count": 41,
   "metadata": {},
   "outputs": [
    {
     "name": "stdout",
     "output_type": "stream",
     "text": [
      "[0, 2, 4, 6, 8]\n"
     ]
    }
   ],
   "source": [
    "even_numbers = [i for i in range(10) if i % 2 == 0]\n",
    "print(even_numbers)"
   ]
  },
  {
   "cell_type": "code",
   "execution_count": 39,
   "metadata": {},
   "outputs": [
    {
     "name": "stdout",
     "output_type": "stream",
     "text": [
      "[0, 0, 2, 0, 4, 0, 6, 0, 8, 0]\n"
     ]
    }
   ],
   "source": [
    "even_numbers = [i if i % 2 == 0 else 0 for i in range(10) ]\n",
    "print(even_numbers)"
   ]
  },
  {
   "cell_type": "code",
   "execution_count": 38,
   "metadata": {},
   "outputs": [
    {
     "name": "stdout",
     "output_type": "stream",
     "text": [
      "[True, False, True, False, True, False, True, False, True, False]\n"
     ]
    }
   ],
   "source": [
    "# list comprehension with if-else\n",
    "is_even_numbers = [True if i % 2 == 0 else False for i in range(10)]\n",
    "print(is_even_numbers)"
   ]
  },
  {
   "cell_type": "code",
   "execution_count": 33,
   "metadata": {},
   "outputs": [
    {
     "name": "stdout",
     "output_type": "stream",
     "text": [
      "[0.994192, 1.86411, 3.1068499999999997, 6.213699999999999, 13.10780015, 26.21870715]\n"
     ]
    }
   ],
   "source": [
    "kilometers = [1.6, 3, 5, 10, 21.095, 42.195]\n",
    "miles = []\n",
    "for kilometer in kilometers:\n",
    "    miles.append(kilometer*0.62137)\n",
    "print(miles)"
   ]
  },
  {
   "cell_type": "code",
   "execution_count": 34,
   "metadata": {},
   "outputs": [
    {
     "name": "stdout",
     "output_type": "stream",
     "text": [
      "[0.994192, 1.86411, 3.1068499999999997, 6.213699999999999, 13.10780015, 26.21870715]\n"
     ]
    }
   ],
   "source": [
    "kilometers = [1.6, 3, 5, 10, 21.095, 42.195]\n",
    "miles = [i*0.62137 for i in kilometers]\n",
    "print(miles)"
   ]
  },
  {
   "cell_type": "markdown",
   "metadata": {},
   "source": [
    "# Generators\n",
    "-特性1:告訴資料存放在哪\n",
    "-特性2:要具體化 list\n",
    "-特性3:具體化一次後 內容物就不見"
   ]
  },
  {
   "cell_type": "code",
   "execution_count": 42,
   "metadata": {},
   "outputs": [
    {
     "data": {
      "text/plain": [
       "[0.994192,\n",
       " 1.86411,\n",
       " 3.1068499999999997,\n",
       " 6.213699999999999,\n",
       " 13.10780015,\n",
       " 26.21870715]"
      ]
     },
     "execution_count": 42,
     "metadata": {},
     "output_type": "execute_result"
    }
   ],
   "source": [
    "kilometers = [1.6, 3, 5, 10, 21.095, 42.195]\n",
    "miles = (i*0.62137 for i in kilometers)\n",
    "list(miles)"
   ]
  },
  {
   "cell_type": "code",
   "execution_count": 44,
   "metadata": {},
   "outputs": [
    {
     "data": {
      "text/plain": [
       "[]"
      ]
     },
     "execution_count": 44,
     "metadata": {},
     "output_type": "execute_result"
    }
   ],
   "source": [
    "list(miles)"
   ]
  },
  {
   "cell_type": "code",
   "execution_count": 49,
   "metadata": {},
   "outputs": [
    {
     "name": "stdout",
     "output_type": "stream",
     "text": [
      "<map object at 0x00000197D6080208>\n"
     ]
    }
   ],
   "source": [
    "temp_c = [18, 20, 22]\n",
    "temp_f = map(get_fahrenheit, temp_c)\n",
    "print(temp_f) #繼承generator特性類別的物件"
   ]
  },
  {
   "cell_type": "code",
   "execution_count": 50,
   "metadata": {},
   "outputs": [
    {
     "data": {
      "text/plain": [
       "[64.4, 68.0, 71.6]"
      ]
     },
     "execution_count": 50,
     "metadata": {},
     "output_type": "execute_result"
    }
   ],
   "source": [
    "list(temp_f)"
   ]
  },
  {
   "cell_type": "code",
   "execution_count": 51,
   "metadata": {},
   "outputs": [
    {
     "data": {
      "text/plain": [
       "[]"
      ]
     },
     "execution_count": 51,
     "metadata": {},
     "output_type": "execute_result"
    }
   ],
   "source": [
    "#輸入一次之後 值就會消失\n",
    "list(temp_f)"
   ]
  },
  {
   "cell_type": "code",
   "execution_count": 52,
   "metadata": {},
   "outputs": [
    {
     "name": "stdout",
     "output_type": "stream",
     "text": [
      "<map object at 0x00000197D618A2B0>\n",
      "<class 'map'>\n"
     ]
    },
    {
     "data": {
      "text/plain": [
       "[0.994192,\n",
       " 1.86411,\n",
       " 3.1068499999999997,\n",
       " 6.213699999999999,\n",
       " 13.10780015,\n",
       " 26.21870715]"
      ]
     },
     "execution_count": 52,
     "metadata": {},
     "output_type": "execute_result"
    }
   ],
   "source": [
    "kilometers = [1.6, 3, 5, 10, 21.095, 42.195]\n",
    "miles = map(lambda x: x*0.62137, kilometers)\n",
    "print(miles)\n",
    "print(type(miles))\n",
    "list(miles)"
   ]
  },
  {
   "cell_type": "code",
   "execution_count": 53,
   "metadata": {},
   "outputs": [
    {
     "data": {
      "text/plain": [
       "[]"
      ]
     },
     "execution_count": 53,
     "metadata": {},
     "output_type": "execute_result"
    }
   ],
   "source": [
    "list(miles)"
   ]
  },
  {
   "cell_type": "code",
   "execution_count": 54,
   "metadata": {},
   "outputs": [
    {
     "name": "stdout",
     "output_type": "stream",
     "text": [
      "<class 'enumerate'>\n",
      "<enumerate object at 0x00000197D6737048>\n"
     ]
    }
   ],
   "source": [
    "# enumerate()\n",
    "the_avenger_movies = [\"The Avengers\", \"Avengers: Age of Ultron\", \"Avengers: Infinity War\", \"Avengers: Endgame\"]\n",
    "enumerate_generator = enumerate(the_avenger_movies)\n",
    "print(type(enumerate_generator))\n",
    "print(enumerate_generator)"
   ]
  },
  {
   "cell_type": "code",
   "execution_count": 55,
   "metadata": {},
   "outputs": [
    {
     "data": {
      "text/plain": [
       "[(0, 'The Avengers'),\n",
       " (1, 'Avengers: Age of Ultron'),\n",
       " (2, 'Avengers: Infinity War'),\n",
       " (3, 'Avengers: Endgame')]"
      ]
     },
     "execution_count": 55,
     "metadata": {},
     "output_type": "execute_result"
    }
   ],
   "source": [
    "list(enumerate_generator)"
   ]
  },
  {
   "cell_type": "code",
   "execution_count": 56,
   "metadata": {},
   "outputs": [
    {
     "name": "stdout",
     "output_type": "stream",
     "text": [
      "<class 'zip'>\n",
      "<zip object at 0x00000197D6072608>\n"
     ]
    }
   ],
   "source": [
    "# zip()\n",
    "release_years = [2012, 2015, 2018, 2019]\n",
    "the_avenger_movies = [\"The Avengers\", \"Avengers: Age of Ultron\", \"Avengers: Infinity War\", \"Avengers: Endgame\"]\n",
    "zip_generator = zip(release_years, the_avenger_movies)\n",
    "print(type(zip_generator))\n",
    "print(zip_generator)"
   ]
  },
  {
   "cell_type": "code",
   "execution_count": 57,
   "metadata": {},
   "outputs": [
    {
     "data": {
      "text/plain": [
       "[(2012, 'The Avengers'),\n",
       " (2015, 'Avengers: Age of Ultron'),\n",
       " (2018, 'Avengers: Infinity War'),\n",
       " (2019, 'Avengers: Endgame')]"
      ]
     },
     "execution_count": 57,
     "metadata": {},
     "output_type": "execute_result"
    }
   ],
   "source": [
    "list(zip_generator)"
   ]
  },
  {
   "cell_type": "markdown",
   "metadata": {},
   "source": [
    "# 常用文字方法"
   ]
  },
  {
   "cell_type": "markdown",
   "metadata": {},
   "source": [
    "## 格式化文字\n",
    ".format()"
   ]
  },
  {
   "cell_type": "code",
   "execution_count": 60,
   "metadata": {},
   "outputs": [
    {
     "name": "stdout",
     "output_type": "stream",
     "text": [
      "圓周率的值為: 3.14159\n"
     ]
    }
   ],
   "source": [
    "pi = 3.14159\n",
    "print(\"圓周率的值為: {}\".format(pi))"
   ]
  },
  {
   "cell_type": "code",
   "execution_count": 61,
   "metadata": {},
   "outputs": [
    {
     "name": "stdout",
     "output_type": "stream",
     "text": [
      "圓周率取兩位小數為: 3.14\n",
      "圓周率整數部分是 3\n"
     ]
    }
   ],
   "source": [
    "pi_str = \"圓周率\"\n",
    "pi = 3.14159\n",
    "# 調整小數位數\n",
    "print(\"{}取兩位小數為: {:.2f}\".format(pi_str, pi))\n",
    "print(\"{}整數部分是 {:.0f}\".format(pi_str, pi))"
   ]
  },
  {
   "cell_type": "markdown",
   "metadata": {},
   "source": [
    "## 更改文字大小寫的方法\n",
    ".title()\n",
    ".upper()\n",
    ".loxer()"
   ]
  },
  {
   "cell_type": "code",
   "execution_count": 62,
   "metadata": {},
   "outputs": [
    {
     "name": "stdout",
     "output_type": "stream",
     "text": [
      "Luke, Use The Force!\n",
      "LUKE, USE THE FORCE!\n",
      "luke, use the force!\n"
     ]
    }
   ],
   "source": [
    "use_the_force = \"Luke, use the Force!\"\n",
    "\n",
    "print(use_the_force.title())\n",
    "print(use_the_force.upper())\n",
    "print(use_the_force.lower())"
   ]
  },
  {
   "cell_type": "markdown",
   "metadata": {},
   "source": [
    "## 去除多餘的空白、換行符號的方法\n",
    ".rstrip()\n",
    ".lstrip()\n",
    ".strip()"
   ]
  },
  {
   "cell_type": "code",
   "execution_count": 63,
   "metadata": {},
   "outputs": [
    {
     "data": {
      "text/plain": [
       "'\\n     \\nLuke, use the Force!\\n     \\n'"
      ]
     },
     "execution_count": 63,
     "metadata": {},
     "output_type": "execute_result"
    }
   ],
   "source": [
    "use_the_force = \"\"\"\n",
    "     \n",
    "Luke, use the Force!\n",
    "     \n",
    "\"\"\"\n",
    "\n",
    "use_the_force"
   ]
  },
  {
   "cell_type": "code",
   "execution_count": 67,
   "metadata": {},
   "outputs": [
    {
     "name": "stdout",
     "output_type": "stream",
     "text": [
      "\n",
      "     \n",
      "Luke, use the Force!\n"
     ]
    }
   ],
   "source": [
    "print(use_the_force.rstrip())"
   ]
  },
  {
   "cell_type": "code",
   "execution_count": 65,
   "metadata": {},
   "outputs": [
    {
     "name": "stdout",
     "output_type": "stream",
     "text": [
      "Luke, use the Force!\n",
      "     \n",
      "\n"
     ]
    }
   ],
   "source": [
    "print(use_the_force.lstrip())"
   ]
  },
  {
   "cell_type": "code",
   "execution_count": 66,
   "metadata": {},
   "outputs": [
    {
     "name": "stdout",
     "output_type": "stream",
     "text": [
      "Luke, use the Force!\n"
     ]
    }
   ],
   "source": [
    "print(use_the_force.strip())"
   ]
  },
  {
   "cell_type": "markdown",
   "metadata": {},
   "source": [
    "## 取代文字的方法\n",
    ".replace()"
   ]
  },
  {
   "cell_type": "code",
   "execution_count": 68,
   "metadata": {},
   "outputs": [
    {
     "name": "stdout",
     "output_type": "stream",
     "text": [
      "Anakin Skywalker\n",
      "Luke Skywalker\n"
     ]
    }
   ],
   "source": [
    "skywalker = \"Anakin Skywalker\"\n",
    "print(skywalker)\n",
    "print(skywalker.replace(\"Anakin\", \"Luke\"))"
   ]
  },
  {
   "cell_type": "markdown",
   "metadata": {},
   "source": [
    "## 切割文字的方法\n",
    ".split()"
   ]
  },
  {
   "cell_type": "code",
   "execution_count": 69,
   "metadata": {},
   "outputs": [
    {
     "name": "stdout",
     "output_type": "stream",
     "text": [
      "['Luke,', 'use', 'the', 'Force!']\n",
      "['Luke', ' use the Force!']\n"
     ]
    }
   ],
   "source": [
    "# string 會轉成 list型別\n",
    "use_the_force = \"Luke, use the Force!\"\n",
    "print(use_the_force.split())\n",
    "print(use_the_force.split(\",\"))"
   ]
  },
  {
   "cell_type": "markdown",
   "metadata": {},
   "source": [
    "## 計算文字頻率的簡單方法"
   ]
  },
  {
   "cell_type": "code",
   "execution_count": 70,
   "metadata": {},
   "outputs": [],
   "source": [
    "episode_ix_opening_crawl = \"\"\"\n",
    "A long time ago in a galaxy far, far away....\n",
    "\n",
    "The dead speak! The galaxy has heard a mysterious broadcast, a threat of REVENGE in the sinister voice of the late EMPEROR PALPATINE. \n",
    "\n",
    "GENERAL LEIA ORGANA dispatches secret agents to gather intelligence, while REY, the last hope of the Jedi, trains for battle against the diabolical FIRST ORDER.\n",
    "\n",
    "Meanwhile, Supreme Leader KYLO REN rages in search of the phantom Emperor, determined to destroy any threat to his power....\n",
    "\"\"\""
   ]
  },
  {
   "cell_type": "code",
   "execution_count": 72,
   "metadata": {},
   "outputs": [
    {
     "data": {
      "text/plain": [
       "78"
      ]
     },
     "execution_count": 72,
     "metadata": {},
     "output_type": "execute_result"
    }
   ],
   "source": [
    "len(episode_ix_opening_crawl.split())"
   ]
  },
  {
   "cell_type": "code",
   "execution_count": 71,
   "metadata": {},
   "outputs": [],
   "source": [
    "def get_word_frequency(long_str):\n",
    "    long_str_split = long_str.split()\n",
    "    word_frequency = {}\n",
    "    for i in long_str_split:\n",
    "        if i not in word_frequency.keys():\n",
    "            word_frequency[i] = 1\n",
    "        else:\n",
    "            word_frequency[i] += 1\n",
    "    return word_frequency"
   ]
  },
  {
   "cell_type": "code",
   "execution_count": 73,
   "metadata": {},
   "outputs": [
    {
     "data": {
      "text/plain": [
       "{'A': 1,\n",
       " 'long': 1,\n",
       " 'time': 1,\n",
       " 'ago': 1,\n",
       " 'in': 3,\n",
       " 'a': 3,\n",
       " 'galaxy': 2,\n",
       " 'far,': 1,\n",
       " 'far': 1,\n",
       " 'away....': 1,\n",
       " 'The': 2,\n",
       " 'dead': 1,\n",
       " 'speak!': 1,\n",
       " 'has': 1,\n",
       " 'heard': 1,\n",
       " 'mysterious': 1,\n",
       " 'broadcast,': 1,\n",
       " 'threat': 2,\n",
       " 'of': 4,\n",
       " 'REVENGE': 1,\n",
       " 'the': 6,\n",
       " 'sinister': 1,\n",
       " 'voice': 1,\n",
       " 'late': 1,\n",
       " 'EMPEROR': 1,\n",
       " 'PALPATINE.': 1,\n",
       " 'GENERAL': 1,\n",
       " 'LEIA': 1,\n",
       " 'ORGANA': 1,\n",
       " 'dispatches': 1,\n",
       " 'secret': 1,\n",
       " 'agents': 1,\n",
       " 'to': 3,\n",
       " 'gather': 1,\n",
       " 'intelligence,': 1,\n",
       " 'while': 1,\n",
       " 'REY,': 1,\n",
       " 'last': 1,\n",
       " 'hope': 1,\n",
       " 'Jedi,': 1,\n",
       " 'trains': 1,\n",
       " 'for': 1,\n",
       " 'battle': 1,\n",
       " 'against': 1,\n",
       " 'diabolical': 1,\n",
       " 'FIRST': 1,\n",
       " 'ORDER.': 1,\n",
       " 'Meanwhile,': 1,\n",
       " 'Supreme': 1,\n",
       " 'Leader': 1,\n",
       " 'KYLO': 1,\n",
       " 'REN': 1,\n",
       " 'rages': 1,\n",
       " 'search': 1,\n",
       " 'phantom': 1,\n",
       " 'Emperor,': 1,\n",
       " 'determined': 1,\n",
       " 'destroy': 1,\n",
       " 'any': 1,\n",
       " 'his': 1,\n",
       " 'power....': 1}"
      ]
     },
     "execution_count": 73,
     "metadata": {},
     "output_type": "execute_result"
    }
   ],
   "source": [
    "get_word_frequency(episode_ix_opening_crawl)"
   ]
  },
  {
   "cell_type": "code",
   "execution_count": null,
   "metadata": {},
   "outputs": [],
   "source": []
  }
 ],
 "metadata": {
  "kernelspec": {
   "display_name": "Python 3",
   "language": "python",
   "name": "python3"
  },
  "language_info": {
   "codemirror_mode": {
    "name": "ipython",
    "version": 3
   },
   "file_extension": ".py",
   "mimetype": "text/x-python",
   "name": "python",
   "nbconvert_exporter": "python",
   "pygments_lexer": "ipython3",
   "version": "3.7.3"
  }
 },
 "nbformat": 4,
 "nbformat_minor": 2
}
