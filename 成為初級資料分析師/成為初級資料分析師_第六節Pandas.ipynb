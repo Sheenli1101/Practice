{
 "cells": [
  {
   "cell_type": "markdown",
   "metadata": {},
   "source": [
    "# Pandas"
   ]
  },
  {
   "cell_type": "markdown",
   "metadata": {},
   "source": [
    "Python 一直以來都非常適合資料處理，但她的分析能力很薄弱，pandas 的開發有助於補足 Python 資料分析的需求，讓使用者能夠在 Python 中執行完整的資料分析流程，而無需切換到 data-centric 的特定語言，如 R。"
   ]
  },
  {
   "cell_type": "code",
   "execution_count": 1,
   "metadata": {},
   "outputs": [
    {
     "ename": "NameError",
     "evalue": "name 'stock_tickers' is not defined",
     "output_type": "error",
     "traceback": [
      "\u001b[1;31m---------------------------------------------------------------------------\u001b[0m",
      "\u001b[1;31mNameError\u001b[0m                                 Traceback (most recent call last)",
      "\u001b[1;32m<ipython-input-1-6a16b102ce96>\u001b[0m in \u001b[0;36m<module>\u001b[1;34m\u001b[0m\n\u001b[0;32m      2\u001b[0m \u001b[1;33m\u001b[0m\u001b[0m\n\u001b[0;32m      3\u001b[0m \u001b[0mdf\u001b[0m \u001b[1;33m=\u001b[0m \u001b[0mpd\u001b[0m\u001b[1;33m.\u001b[0m\u001b[0mDataFrame\u001b[0m\u001b[1;33m(\u001b[0m\u001b[1;33m)\u001b[0m\u001b[1;33m\u001b[0m\u001b[1;33m\u001b[0m\u001b[0m\n\u001b[1;32m----> 4\u001b[1;33m \u001b[0mdf\u001b[0m\u001b[1;33m[\u001b[0m\u001b[1;34m\"ticker\"\u001b[0m\u001b[1;33m]\u001b[0m \u001b[1;33m=\u001b[0m \u001b[0mstock_tickers\u001b[0m\u001b[1;33m\u001b[0m\u001b[1;33m\u001b[0m\u001b[0m\n\u001b[0m\u001b[0;32m      5\u001b[0m \u001b[0mdf\u001b[0m\u001b[1;33m[\u001b[0m\u001b[1;34m\"stock_name\"\u001b[0m\u001b[1;33m]\u001b[0m \u001b[1;33m=\u001b[0m \u001b[0mstock_names\u001b[0m\u001b[1;33m\u001b[0m\u001b[1;33m\u001b[0m\u001b[0m\n\u001b[0;32m      6\u001b[0m \u001b[0mdf\u001b[0m\u001b[1;33m[\u001b[0m\u001b[1;34m\"price\"\u001b[0m\u001b[1;33m]\u001b[0m \u001b[1;33m=\u001b[0m \u001b[0mprices\u001b[0m\u001b[1;33m\u001b[0m\u001b[1;33m\u001b[0m\u001b[0m\n",
      "\u001b[1;31mNameError\u001b[0m: name 'stock_tickers' is not defined"
     ]
    }
   ],
   "source": [
    "import pandas as pd\n",
    "\n",
    "df = pd.DataFrame()\n",
    "df[\"ticker\"] = stock_tickers\n",
    "df[\"stock_name\"] = stock_names\n",
    "df[\"price\"] = prices\n",
    "df.head()"
   ]
  },
  {
   "cell_type": "code",
   "execution_count": 2,
   "metadata": {},
   "outputs": [
    {
     "ename": "KeyError",
     "evalue": "'stock_name'",
     "output_type": "error",
     "traceback": [
      "\u001b[1;31m---------------------------------------------------------------------------\u001b[0m",
      "\u001b[1;31mKeyError\u001b[0m                                  Traceback (most recent call last)",
      "\u001b[1;32m~\\Anaconda3\\lib\\site-packages\\pandas\\core\\indexes\\base.py\u001b[0m in \u001b[0;36mget_loc\u001b[1;34m(self, key, method, tolerance)\u001b[0m\n\u001b[0;32m   2890\u001b[0m             \u001b[1;32mtry\u001b[0m\u001b[1;33m:\u001b[0m\u001b[1;33m\u001b[0m\u001b[1;33m\u001b[0m\u001b[0m\n\u001b[1;32m-> 2891\u001b[1;33m                 \u001b[1;32mreturn\u001b[0m \u001b[0mself\u001b[0m\u001b[1;33m.\u001b[0m\u001b[0m_engine\u001b[0m\u001b[1;33m.\u001b[0m\u001b[0mget_loc\u001b[0m\u001b[1;33m(\u001b[0m\u001b[0mcasted_key\u001b[0m\u001b[1;33m)\u001b[0m\u001b[1;33m\u001b[0m\u001b[1;33m\u001b[0m\u001b[0m\n\u001b[0m\u001b[0;32m   2892\u001b[0m             \u001b[1;32mexcept\u001b[0m \u001b[0mKeyError\u001b[0m \u001b[1;32mas\u001b[0m \u001b[0merr\u001b[0m\u001b[1;33m:\u001b[0m\u001b[1;33m\u001b[0m\u001b[1;33m\u001b[0m\u001b[0m\n",
      "\u001b[1;32mpandas\\_libs\\index.pyx\u001b[0m in \u001b[0;36mpandas._libs.index.IndexEngine.get_loc\u001b[1;34m()\u001b[0m\n",
      "\u001b[1;32mpandas\\_libs\\index.pyx\u001b[0m in \u001b[0;36mpandas._libs.index.IndexEngine.get_loc\u001b[1;34m()\u001b[0m\n",
      "\u001b[1;32mpandas\\_libs\\hashtable_class_helper.pxi\u001b[0m in \u001b[0;36mpandas._libs.hashtable.PyObjectHashTable.get_item\u001b[1;34m()\u001b[0m\n",
      "\u001b[1;32mpandas\\_libs\\hashtable_class_helper.pxi\u001b[0m in \u001b[0;36mpandas._libs.hashtable.PyObjectHashTable.get_item\u001b[1;34m()\u001b[0m\n",
      "\u001b[1;31mKeyError\u001b[0m: 'stock_name'",
      "\nThe above exception was the direct cause of the following exception:\n",
      "\u001b[1;31mKeyError\u001b[0m                                  Traceback (most recent call last)",
      "\u001b[1;32m<ipython-input-2-f455c219565b>\u001b[0m in \u001b[0;36m<module>\u001b[1;34m\u001b[0m\n\u001b[0;32m      1\u001b[0m \u001b[1;31m# boolean indexing\u001b[0m\u001b[1;33m\u001b[0m\u001b[1;33m\u001b[0m\u001b[1;33m\u001b[0m\u001b[0m\n\u001b[1;32m----> 2\u001b[1;33m \u001b[0mdf\u001b[0m\u001b[1;33m[\u001b[0m\u001b[0mdf\u001b[0m\u001b[1;33m[\u001b[0m\u001b[1;34m\"stock_name\"\u001b[0m\u001b[1;33m]\u001b[0m\u001b[1;33m.\u001b[0m\u001b[0mstr\u001b[0m\u001b[1;33m.\u001b[0m\u001b[0mcontains\u001b[0m\u001b[1;33m(\u001b[0m\u001b[1;34m\"KY\"\u001b[0m\u001b[1;33m)\u001b[0m\u001b[1;33m]\u001b[0m\u001b[1;33m\u001b[0m\u001b[1;33m\u001b[0m\u001b[0m\n\u001b[0m",
      "\u001b[1;32m~\\Anaconda3\\lib\\site-packages\\pandas\\core\\frame.py\u001b[0m in \u001b[0;36m__getitem__\u001b[1;34m(self, key)\u001b[0m\n\u001b[0;32m   2900\u001b[0m             \u001b[1;32mif\u001b[0m \u001b[0mself\u001b[0m\u001b[1;33m.\u001b[0m\u001b[0mcolumns\u001b[0m\u001b[1;33m.\u001b[0m\u001b[0mnlevels\u001b[0m \u001b[1;33m>\u001b[0m \u001b[1;36m1\u001b[0m\u001b[1;33m:\u001b[0m\u001b[1;33m\u001b[0m\u001b[1;33m\u001b[0m\u001b[0m\n\u001b[0;32m   2901\u001b[0m                 \u001b[1;32mreturn\u001b[0m \u001b[0mself\u001b[0m\u001b[1;33m.\u001b[0m\u001b[0m_getitem_multilevel\u001b[0m\u001b[1;33m(\u001b[0m\u001b[0mkey\u001b[0m\u001b[1;33m)\u001b[0m\u001b[1;33m\u001b[0m\u001b[1;33m\u001b[0m\u001b[0m\n\u001b[1;32m-> 2902\u001b[1;33m             \u001b[0mindexer\u001b[0m \u001b[1;33m=\u001b[0m \u001b[0mself\u001b[0m\u001b[1;33m.\u001b[0m\u001b[0mcolumns\u001b[0m\u001b[1;33m.\u001b[0m\u001b[0mget_loc\u001b[0m\u001b[1;33m(\u001b[0m\u001b[0mkey\u001b[0m\u001b[1;33m)\u001b[0m\u001b[1;33m\u001b[0m\u001b[1;33m\u001b[0m\u001b[0m\n\u001b[0m\u001b[0;32m   2903\u001b[0m             \u001b[1;32mif\u001b[0m \u001b[0mis_integer\u001b[0m\u001b[1;33m(\u001b[0m\u001b[0mindexer\u001b[0m\u001b[1;33m)\u001b[0m\u001b[1;33m:\u001b[0m\u001b[1;33m\u001b[0m\u001b[1;33m\u001b[0m\u001b[0m\n\u001b[0;32m   2904\u001b[0m                 \u001b[0mindexer\u001b[0m \u001b[1;33m=\u001b[0m \u001b[1;33m[\u001b[0m\u001b[0mindexer\u001b[0m\u001b[1;33m]\u001b[0m\u001b[1;33m\u001b[0m\u001b[1;33m\u001b[0m\u001b[0m\n",
      "\u001b[1;32m~\\Anaconda3\\lib\\site-packages\\pandas\\core\\indexes\\base.py\u001b[0m in \u001b[0;36mget_loc\u001b[1;34m(self, key, method, tolerance)\u001b[0m\n\u001b[0;32m   2891\u001b[0m                 \u001b[1;32mreturn\u001b[0m \u001b[0mself\u001b[0m\u001b[1;33m.\u001b[0m\u001b[0m_engine\u001b[0m\u001b[1;33m.\u001b[0m\u001b[0mget_loc\u001b[0m\u001b[1;33m(\u001b[0m\u001b[0mcasted_key\u001b[0m\u001b[1;33m)\u001b[0m\u001b[1;33m\u001b[0m\u001b[1;33m\u001b[0m\u001b[0m\n\u001b[0;32m   2892\u001b[0m             \u001b[1;32mexcept\u001b[0m \u001b[0mKeyError\u001b[0m \u001b[1;32mas\u001b[0m \u001b[0merr\u001b[0m\u001b[1;33m:\u001b[0m\u001b[1;33m\u001b[0m\u001b[1;33m\u001b[0m\u001b[0m\n\u001b[1;32m-> 2893\u001b[1;33m                 \u001b[1;32mraise\u001b[0m \u001b[0mKeyError\u001b[0m\u001b[1;33m(\u001b[0m\u001b[0mkey\u001b[0m\u001b[1;33m)\u001b[0m \u001b[1;32mfrom\u001b[0m \u001b[0merr\u001b[0m\u001b[1;33m\u001b[0m\u001b[1;33m\u001b[0m\u001b[0m\n\u001b[0m\u001b[0;32m   2894\u001b[0m \u001b[1;33m\u001b[0m\u001b[0m\n\u001b[0;32m   2895\u001b[0m         \u001b[1;32mif\u001b[0m \u001b[0mtolerance\u001b[0m \u001b[1;32mis\u001b[0m \u001b[1;32mnot\u001b[0m \u001b[1;32mNone\u001b[0m\u001b[1;33m:\u001b[0m\u001b[1;33m\u001b[0m\u001b[1;33m\u001b[0m\u001b[0m\n",
      "\u001b[1;31mKeyError\u001b[0m: 'stock_name'"
     ]
    }
   ],
   "source": [
    "# boolean indexing\n",
    "df[df[\"stock_name\"].str.contains(\"KY\")]"
   ]
  },
  {
   "cell_type": "markdown",
   "metadata": {},
   "source": [
    "pandas 提供了新的資料結構\n",
    "- Series 是具備索引的 ndarray\n",
    "- DataFrame 能完美處理表格式資料（tabular data）\n",
    "- Panel 能為 DataFrame 加入第三個維度，通常為時間（Pandas 0.20.0 版本之後取消了此類別）"
   ]
  },
  {
   "cell_type": "markdown",
   "metadata": {},
   "source": [
    "pandas 主要的應用場景\n",
    "- 表格式資料的讀取\n",
    "- 豐富的資料清理與分析函數\n",
    "- 視覺化：包裝了常用的 matplotlib.pyplot 圖形"
   ]
  },
  {
   "cell_type": "markdown",
   "metadata": {},
   "source": [
    "## 1.Pandas基礎"
   ]
  },
  {
   "cell_type": "markdown",
   "metadata": {},
   "source": [
    "pandas 的命名源自她的資料結構\n",
    "- Panel（自 Pandas 0.20.0 版本之後取消了此類別）\n",
    "- DataFrame\n",
    "- Series\n",
    "- Index"
   ]
  },
  {
   "cell_type": "markdown",
   "metadata": {},
   "source": [
    "### (1) pandas 中的 Series"
   ]
  },
  {
   "cell_type": "markdown",
   "metadata": {},
   "source": [
    "使用 pd.Series() 函數創建 Series 類別，Series 從 ndarray 繼承了所有特性，並加上一組 Index。"
   ]
  },
  {
   "cell_type": "code",
   "execution_count": null,
   "metadata": {},
   "outputs": [],
   "source": [
    "import pandas as pd\n",
    "\n",
    "movie_ratings = [8.0, 7.3, 8.5, 8.6]\n",
    "ser = pd.Series(movie_ratings)\n",
    "print(type(ser))\n",
    "print(ser)\n",
    "print(ser[3])"
   ]
  },
  {
   "cell_type": "markdown",
   "metadata": {},
   "source": [
    "這使得她不只能夠透過絕對位置來索引，亦可以透過像操作 dict 一般，以鍵（Key）作為選擇索引依據"
   ]
  },
  {
   "cell_type": "code",
   "execution_count": null,
   "metadata": {},
   "outputs": [],
   "source": [
    "movie_ratings = [8.0, 7.3, 8.5, 8.6]\n",
    "movie_titles = [\"The Avengers\", \"Avengers: Age of Ultron\", \"Avengers: Infinity War\", \"Avengers: Endgame\"]\n",
    "ser = pd.Series(movie_ratings, index=movie_titles)\n",
    "print(ser)\n",
    "print(ser[\"Avengers: Endgame\"])"
   ]
  },
  {
   "cell_type": "markdown",
   "metadata": {},
   "source": [
    "可以將 Series 視為一種較為泛用的 ndarray，同時具備 list 和 dict 的特性，以 .index 屬性與 .values 屬性可以將 Series 拆分為 Index 類別與 ndarray"
   ]
  },
  {
   "cell_type": "code",
   "execution_count": null,
   "metadata": {},
   "outputs": [],
   "source": [
    "movie_ratings = [8.0, 7.3, 8.5, 8.6]\n",
    "movie_titles = [\"The Avengers\", \"Avengers: Age of Ultron\", \"Avengers: Infinity War\", \"Avengers: Endgame\"]\n",
    "ser = pd.Series(movie_ratings, index=movie_titles)\n",
    "print(ser.index)\n",
    "print(ser.values)\n",
    "print(type(ser.index))\n",
    "print(type(ser.values))"
   ]
  },
  {
   "cell_type": "markdown",
   "metadata": {},
   "source": [
    "### (2) pandas 中的 DataFrame"
   ]
  },
  {
   "cell_type": "code",
   "execution_count": null,
   "metadata": {},
   "outputs": [],
   "source": [
    "movie_ratings = [8.0, 7.3, 8.5, 8.6]\n",
    "movie_titles = [\"The Avengers\", \"Avengers: Age of Ultron\", \"Avengers: Infinity War\", \"Avengers: Endgame\"]\n",
    "df = pd.DataFrame() # DataFrame 初始化\n",
    "df[\"title\"] = movie_titles\n",
    "df[\"rating\"] = movie_ratings\n",
    "print(type(df))\n",
    "df"
   ]
  },
  {
   "cell_type": "markdown",
   "metadata": {},
   "source": [
    "DataFrame 將多組共享 Index 的 Series 組合為一個具備列索引（row index）與欄標籤（column label）的資料集，我們可以進一步分拆成列索引、欄標籤與 Series"
   ]
  },
  {
   "cell_type": "code",
   "execution_count": null,
   "metadata": {},
   "outputs": [],
   "source": [
    "movie_ratings = [8.0, 7.3, 8.5, 8.6]\n",
    "movie_titles = [\"The Avengers\", \"Avengers: Age of Ultron\", \"Avengers: Infinity War\", \"Avengers: Endgame\"]\n",
    "df = pd.DataFrame()\n",
    "df[\"title\"] = movie_titles\n",
    "df[\"rating\"] = movie_ratings\n",
    "print(df.index)\n",
    "print(\"====\")\n",
    "print(df.columns)\n",
    "print(\"====\")\n",
    "print(df[\"title\"])\n",
    "print(\"====\")\n",
    "print(df[\"rating\"])"
   ]
  },
  {
   "cell_type": "code",
   "execution_count": null,
   "metadata": {},
   "outputs": [],
   "source": [
    "print(df['title'])\n",
    "print(type(df['title']))"
   ]
  },
  {
   "cell_type": "code",
   "execution_count": null,
   "metadata": {},
   "outputs": [],
   "source": [
    "print(df['rating'])\n",
    "print(type(df['rating']))"
   ]
  },
  {
   "cell_type": "markdown",
   "metadata": {},
   "source": [
    "### (3) pandas 中的 Index\n",
    "不論是 Series 或 DataFrame 物件都包含一個 Index 類別，作為萃取以及更新資料的根據，Index 可以被視為是一種結合了 tuple 的不可變（Immutable）特性以及 set 集合運算特性的資料結構類別，我們可以使用 pd.Index() 函數創建出下列的範例"
   ]
  },
  {
   "cell_type": "code",
   "execution_count": null,
   "metadata": {},
   "outputs": [],
   "source": [
    "pd_index = pd.Index([0, 2, 3, 4])"
   ]
  },
  {
   "cell_type": "code",
   "execution_count": null,
   "metadata": {},
   "outputs": [],
   "source": [
    "print(type(pd_index))\n",
    "print(pd_index)"
   ]
  },
  {
   "cell_type": "code",
   "execution_count": null,
   "metadata": {},
   "outputs": [],
   "source": [
    "# 繼承了tuple的不可變更性\n",
    "pd_index[0] = 1"
   ]
  },
  {
   "cell_type": "markdown",
   "metadata": {},
   "source": [
    "創建後不能更新，Index 也支援 Set 類別的集合運算，可以對兩組 Index 類別（如例子中的五個奇數、四個質數）使用交集、聯集與 XOR（Exclusive OR）\n",
    "\n",
    "set的用途\n",
    "- 取獨一值\n",
    "- 集合運算"
   ]
  },
  {
   "cell_type": "code",
   "execution_count": null,
   "metadata": {},
   "outputs": [],
   "source": [
    "odds_index = pd.Index([1, 3, 5, 7, 9])\n",
    "primes_index = pd.Index([2, 3, 5, 7])\n",
    "print(odds_index & primes_index) # and 是奇數也是偶數\n",
    "print(odds_index | primes_index) # or\n",
    "print(odds_index ^ primes_index) # exclusive or 彼此差異"
   ]
  },
  {
   "cell_type": "markdown",
   "metadata": {},
   "source": [
    "## 2. 基礎技巧"
   ]
  },
  {
   "cell_type": "markdown",
   "metadata": {},
   "source": [
    "- 創建\n",
    "- 資料載入\n",
    "- 索引、切割與篩選\n",
    "- 排序\n",
    "- 衍生變數\n",
    "- 摘要、分組摘要"
   ]
  },
  {
   "cell_type": "markdown",
   "metadata": {},
   "source": [
    "### (1) 創建\n",
    "- 方法一 : 傳入類似清單\n",
    "- 方法二 : 利用字典"
   ]
  },
  {
   "cell_type": "markdown",
   "metadata": {},
   "source": [
    "常見創建 Series 的方式是使用 pd.Series() 函數傳入一個「類似清單（list-like）」的物件，包含 list 、tuple 或 ndarray，如果沒有指定另外一個「類似清單」的物件作為索引，Series 會自動以類似 range() 函數設定對應長度的索引"
   ]
  },
  {
   "cell_type": "code",
   "execution_count": null,
   "metadata": {},
   "outputs": [],
   "source": [
    "# 創建Series 1\n",
    "import pandas as pd\n",
    "movie_ratings = [9.0, 8.9, 8.8, 8.7]\n",
    "ser = pd.Series(movie_ratings)\n",
    "print(ser)"
   ]
  },
  {
   "cell_type": "markdown",
   "metadata": {},
   "source": [
    "在 pd.Series() 函數中加入 index 參數指定對應長度的索引"
   ]
  },
  {
   "cell_type": "code",
   "execution_count": null,
   "metadata": {},
   "outputs": [],
   "source": [
    "movie_ratings = [9.0, 8.9, 8.8, 8.7]\n",
    "movie_titles = [\"The Dark Knight\", \"Schindler's List\", \"Forrest Gump\", \"Inception\"]\n",
    "ser = pd.Series(movie_ratings, index=movie_titles)\n",
    "print(ser.index)\n",
    "print(\"======\")\n",
    "print(ser.values)\n",
    "print(\"======\")\n",
    "print(ser)"
   ]
  },
  {
   "cell_type": "markdown",
   "metadata": {},
   "source": [
    "Series 被設計成由一組索引與一組資料所搭建而成的資料結構，因此我們亦可以在 pd.Series() 函數中傳入 dict，如此一來字典中的鍵（Keys）會被記錄成為索引、字典中的值（Values）則會被記錄成為陣列中的資料"
   ]
  },
  {
   "cell_type": "code",
   "execution_count": null,
   "metadata": {
    "scrolled": true
   },
   "outputs": [],
   "source": [
    "# 創建Series 2\n",
    "# 利用字典創造Series\n",
    "# dictionary's key reflect Series' key\n",
    "# dictionary's value reflect Series' value\n",
    "movie_dict = {\n",
    "    \"The Dark Knight\": 9.0,\n",
    "    \"Schindler's List\": 8.9,\n",
    "    \"Forrest Gump\": 8.8,\n",
    "    \"Inception\": 8.7\n",
    "}\n",
    "ser = pd.Series(movie_dict)\n",
    "print(movie_dict.keys())\n",
    "print(movie_dict.values())\n",
    "print(\"\\n\")\n",
    "print(ser.index)\n",
    "print(ser.values)\n",
    "print(ser)"
   ]
  },
  {
   "cell_type": "markdown",
   "metadata": {},
   "source": [
    "常見創建 DataFrame 的方式是使用 pd.DataFrame() 函數傳入多個「類似清單（list-like）」的物件，包含 list 、tuple 或 ndarray，並視需求指定變數名稱或索引；同樣地，若是在沒有指定索引的情況下，DataFrame 會自動以類似 range() 函數設定對應長度的索引"
   ]
  },
  {
   "cell_type": "code",
   "execution_count": null,
   "metadata": {
    "scrolled": true
   },
   "outputs": [],
   "source": [
    "movie_ratings = [9.0, 8.9, 8.8, 8.7]\n",
    "movie_titles = [\"The Dark Knight\", \"Schindler's List\", \"Forrest Gump\", \"Inception\"]\n",
    "df = pd.DataFrame()\n",
    "df[\"title\"] = movie_titles\n",
    "df[\"rating\"] = movie_ratings\n",
    "df"
   ]
  },
  {
   "cell_type": "markdown",
   "metadata": {},
   "source": [
    "與 Series 相同，DataFrame 被設計成由一組索引與多組類似清單資料所搭建而成的資料結構，因此我們亦可以在 pd.DataFrame() 函數中傳入 dict，如此一來字典中的鍵（Keys）會被記錄成為變數名稱、字典中的值（Values）則會被記錄成為陣列中的資料"
   ]
  },
  {
   "cell_type": "code",
   "execution_count": null,
   "metadata": {
    "scrolled": true
   },
   "outputs": [],
   "source": [
    "movie_dict = {\n",
    "    \"title\": [\"The Dark Knight\", \"Schindler's List\", \"Forrest Gump\", \"Inception\"],\n",
    "    \"rating\": [9.0, 8.9, 8.8, 8.7]\n",
    "}\n",
    "df = pd.DataFrame(movie_dict)\n",
    "df"
   ]
  },
  {
   "cell_type": "markdown",
   "metadata": {},
   "source": [
    "### (2) 資料載入"
   ]
  },
  {
   "cell_type": "markdown",
   "metadata": {},
   "source": [
    "實務應用資料框物件時，多數情況都不會是手動輸入資料內容，而是由外部資料源載入\n",
    "- 以逗號區隔變數的 CSV 文字檔\n",
    "- 以 JSON 所組成的陣列文字檔\n",
    "- 試算表\n",
    "- 資料庫中的表格"
   ]
  },
  {
   "cell_type": "code",
   "execution_count": null,
   "metadata": {
    "scrolled": true
   },
   "outputs": [],
   "source": [
    "# 資料源一\n",
    "# 使用 pd.read_csv() 函數讀入以逗號區隔變數的 CSV 文字檔\n",
    "df = pd.read_csv(\"https://python4ds.s3-ap-northeast-1.amazonaws.com/movies.csv\")\n",
    "df"
   ]
  },
  {
   "cell_type": "code",
   "execution_count": null,
   "metadata": {},
   "outputs": [],
   "source": [
    "# 資料源二 json => list of dictionary\n",
    "# 使用 pd.read_json() 函數讀入以 JSON 所組成的陣列文字檔\n",
    "df = pd.read_json(\"https://python4ds.s3-ap-northeast-1.amazonaws.com/movies.json\")\n",
    "df"
   ]
  },
  {
   "cell_type": "code",
   "execution_count": null,
   "metadata": {},
   "outputs": [],
   "source": [
    "# 資料源三\n",
    "# 使用 pd.read_excel() 函數讀入試算表\n",
    "df = pd.read_excel(\"https://python4ds.s3-ap-northeast-1.amazonaws.com/movies.xlsx\")\n",
    "df"
   ]
  },
  {
   "cell_type": "code",
   "execution_count": null,
   "metadata": {},
   "outputs": [],
   "source": [
    "# 資料源四\n",
    "# 使用 pd.read_sql() 函數讀入資料庫中的表格\n",
    "import sqlite3\n",
    "\n",
    "# Creating a demo.db database in working directory\n",
    "conn = sqlite3.connect('demo.db')\n",
    "# Importing a table\n",
    "movie_ratings = [9.0, 8.9, 8.8, 8.7]\n",
    "movie_titles = [\"The Dark Knight\", \"Schindler's List\", \"Forrest Gump\", \"Inception\"]\n",
    "df = pd.DataFrame()\n",
    "df[\"title\"] = movie_titles\n",
    "df[\"rating\"] = movie_ratings\n",
    "df.to_sql(\"movies\", index=False, con=conn, if_exists='replace')\n",
    "# Importing data from demo.movies\n",
    "query_str = \"\"\"\n",
    "SELECT *\n",
    "    FROM movies\n",
    "    WHERE rating < 9.0;\n",
    "\"\"\"\n",
    "pd.read_sql(query_str, con=conn)"
   ]
  },
  {
   "cell_type": "markdown",
   "metadata": {},
   "source": [
    "### (3) Series的索引、切割與篩選"
   ]
  },
  {
   "cell_type": "code",
   "execution_count": null,
   "metadata": {
    "scrolled": true
   },
   "outputs": [],
   "source": [
    "movie_ratings = [9.0, 8.9, 8.8, 8.7]\n",
    "movie_titles = [\"The Dark Knight\", \"Schindler's List\", \"Forrest Gump\", \"Inception\"]\n",
    "ser = pd.Series(movie_ratings, index=movie_titles)\n",
    "print(ser)\n",
    "print(ser[0])\n",
    "print(ser[\"Forrest Gump\"])"
   ]
  },
  {
   "cell_type": "markdown",
   "metadata": {},
   "source": [
    "進行資料值的切割時，可以在中括號輸入所需資料的起點與終點，傳入絕對位置則與 Python 慣例一致：不包含終點；若是傳入索引值則會包含終點"
   ]
  },
  {
   "cell_type": "code",
   "execution_count": null,
   "metadata": {},
   "outputs": [],
   "source": [
    "movie_ratings = [9.0, 8.9, 8.8, 8.7]\n",
    "movie_titles = [\"The Dark Knight\", \"Schindler's List\", \"Forrest Gump\", \"Inception\"]\n",
    "ser = pd.Series(movie_ratings, index=movie_titles)\n",
    "print(ser[1:4])\n",
    "print(\"          \")\n",
    "print(ser[\"Schindler's List\":\"Inception\"]) # 頭尾會包含"
   ]
  },
  {
   "cell_type": "markdown",
   "metadata": {},
   "source": [
    "Series 繼承了 ndarray 的所有特性，因此完全適用華麗索引與布林索引這兩個便利的技法"
   ]
  },
  {
   "cell_type": "code",
   "execution_count": null,
   "metadata": {},
   "outputs": [],
   "source": [
    "movie_ratings = [9.0, 8.9, 8.8, 8.7]\n",
    "movie_titles = [\"The Dark Knight\", \"Schindler's List\", \"Forrest Gump\", \"Inception\"]\n",
    "ser = pd.Series(movie_ratings, index=movie_titles)\n",
    "# Fancy indexing\n",
    "print(ser[[1, 2, 3]])\n",
    "print(ser[[\"Schindler's List\", \"Forrest Gump\", \"Inception\"]])\n",
    "print(\"  \")\n",
    "# Boolean indexing\n",
    "print(\"Boolean indexing\")\n",
    "print(ser < 9)\n",
    "print(\"  \")\n",
    "print(ser[ser < 9])"
   ]
  },
  {
   "cell_type": "markdown",
   "metadata": {},
   "source": [
    "DataFrame 的選擇與篩選\n",
    "利用 [COLUMN] 或 .COLUMN 能夠從資料框中選擇出單一或多個變數，成為一個 Series 或者變數欄位較少的資料框子集，實踐 SQL 語法中的 SELECT"
   ]
  },
  {
   "cell_type": "code",
   "execution_count": null,
   "metadata": {},
   "outputs": [],
   "source": [
    "movie_ratings = [9.0, 8.9, 8.8, 8.7]\n",
    "movie_titles = [\"The Dark Knight\", \"Schindler's List\", \"Forrest Gump\", \"Inception\"]\n",
    "release_years = [2008, 1993, 1994, 2010]\n",
    "df = pd.DataFrame()\n",
    "df[\"title\"] = movie_titles\n",
    "df[\"rating\"] = movie_ratings\n",
    "df[\"release_year\"] = release_years\n",
    "df\n",
    "print(df)\n",
    "print(\"   \")\n",
    "print(df[\"title\"])\n",
    "print(df.rating)\n",
    "df[[\"title\", \"release_year\"]] # 選取兩個column要用list包起來"
   ]
  },
  {
   "cell_type": "markdown",
   "metadata": {},
   "source": [
    "對資料框直接應用布林索引可以挑出符合條件（條件判斷結果為 True）的觀測值列數，實踐 SQL 語法中的 WHERE"
   ]
  },
  {
   "cell_type": "code",
   "execution_count": null,
   "metadata": {},
   "outputs": [],
   "source": [
    "movie_ratings = [9.0, 8.9, 8.8, 8.7]\n",
    "movie_titles = [\"The Dark Knight\", \"Schindler's List\", \"Forrest Gump\", \"Inception\"]\n",
    "release_years = [2008, 1993, 1994, 2010]\n",
    "df = pd.DataFrame()\n",
    "df[\"title\"] = movie_titles\n",
    "df[\"rating\"] = movie_ratings\n",
    "df[\"release_year\"] = release_years\n",
    "print(df[\"release_year\"] > 2000)\n",
    "df[df[\"release_year\"] > 2000]"
   ]
  },
  {
   "cell_type": "markdown",
   "metadata": {},
   "source": [
    "資料框類別尚有兩個索引語法（Indexer）可以方便使用者在一次的函數呼叫中就完成選擇與篩選兩個任務\n",
    "- .loc[ROW_LABEL, COLUMN_LABEL] ：純粹以列、欄標籤為準進行選擇跟篩選\n",
    "- .iloc[ROW_INDEX, COLUMN_INDEX] ：純粹以資料的整數位置（integer location）為準進行選擇跟篩選"
   ]
  },
  {
   "cell_type": "code",
   "execution_count": null,
   "metadata": {},
   "outputs": [],
   "source": [
    "movie_ratings = [9.0, 8.9, 8.8, 8.7]\n",
    "movie_titles = [\"The Dark Knight\", \"Schindler's List\", \"Forrest Gump\", \"Inception\"]\n",
    "release_years = [2008, 1993, 1994, 2010]\n",
    "\n",
    "df = pd.DataFrame()\n",
    "df[\"rating\"] = movie_ratings\n",
    "df[\"release_year\"] = release_years\n",
    "df.index = movie_titles\n",
    "df"
   ]
  },
  {
   "cell_type": "markdown",
   "metadata": {},
   "source": [
    "希望將上映年份在 2000 年之後的 “The Dark Knight” 與 “Inception” 利用索引語法選出來\n",
    "使用 .loc[] 時必須傳入列標籤（電影名稱）與欄標籤（評等和上映年份）"
   ]
  },
  {
   "cell_type": "code",
   "execution_count": null,
   "metadata": {},
   "outputs": [],
   "source": [
    "df.loc[[\"The Dark Knight\", \"Inception\"], [\"rating\", \"release_year\"]]"
   ]
  },
  {
   "cell_type": "code",
   "execution_count": null,
   "metadata": {},
   "outputs": [],
   "source": [
    "df.iloc[0, 0] #黑暗騎士的評分"
   ]
  },
  {
   "cell_type": "code",
   "execution_count": null,
   "metadata": {},
   "outputs": [],
   "source": [
    "df.iloc[3, 1] #全面啟動的評分"
   ]
  },
  {
   "cell_type": "code",
   "execution_count": null,
   "metadata": {},
   "outputs": [],
   "source": [
    "df.iloc[[0, 3], [0, 1]]"
   ]
  },
  {
   "cell_type": "code",
   "execution_count": null,
   "metadata": {},
   "outputs": [],
   "source": [
    "df.iloc[[0, 3], :] # :是全選"
   ]
  },
  {
   "cell_type": "markdown",
   "metadata": {},
   "source": [
    "### (4) 排序\n",
    "- df.sort_index() ：依照資料框的列標籤遞增（預設）或遞減排序\n",
    "- df.sort_values() ：依照指定的資料框欄標籤遞增（預設）或遞減排序"
   ]
  },
  {
   "cell_type": "code",
   "execution_count": null,
   "metadata": {},
   "outputs": [],
   "source": [
    "df = pd.DataFrame()\n",
    "df[\"rating\"] = movie_ratings\n",
    "df[\"release_year\"] = release_years\n",
    "df"
   ]
  },
  {
   "cell_type": "code",
   "execution_count": null,
   "metadata": {},
   "outputs": [],
   "source": [
    "# 排序預設值為遞增排序(True)\n",
    "df.sort_index(ascending=False)"
   ]
  },
  {
   "cell_type": "code",
   "execution_count": null,
   "metadata": {},
   "outputs": [],
   "source": [
    "df.sort_values('release_year')"
   ]
  },
  {
   "cell_type": "markdown",
   "metadata": {},
   "source": [
    "### (5) 衍生變數\n",
    "- 簡單運算\n",
    "- 類別對應類別\n",
    "- 數值對應類別\n",
    "- 函數映射"
   ]
  },
  {
   "cell_type": "markdown",
   "metadata": {},
   "source": [
    "#### 簡單運算\n",
    "過 Series 從 ndarray 繼承而來的元素級別運算（element-wise operation）特性即可實踐，像是運用身高、體重這兩個欄位衍生出球員的 BMI"
   ]
  },
  {
   "cell_type": "code",
   "execution_count": null,
   "metadata": {},
   "outputs": [],
   "source": [
    "player_profile = pd.read_csv(\"https://python4ds.s3-ap-northeast-1.amazonaws.com/player_profile.csv\")\n",
    "player_profile.head()\n",
    "# 衍生變數\n",
    "player_profile[\"bmi\"] = player_profile[\"weightKilograms\"] / player_profile[\"heightMeters\"]**2\n",
    "player_profile[[\"temporaryDisplayName\", \"bmi\"]].head()"
   ]
  },
  {
   "cell_type": "markdown",
   "metadata": {},
   "source": [
    "#### 類別對應類別\n",
    "透過 Series 的 .map() 方法來實踐，傳入 dict 作為對應的準則，字典的鍵（Key）為對應前的原始類別，字典的值（Value）為對應後的類別，例如將本來分類較細膩的鋒衛對應為較粗略的前場、後場"
   ]
  },
  {
   "cell_type": "code",
   "execution_count": null,
   "metadata": {},
   "outputs": [],
   "source": [
    "player_profile['pos'].value_counts()"
   ]
  },
  {
   "cell_type": "code",
   "execution_count": null,
   "metadata": {},
   "outputs": [],
   "source": [
    "pos_dict = {\n",
    "    \"G\": \"Backcourt\",\n",
    "    \"F\": \"Frontcourt\",\n",
    "    \"C\": \"Frontcourt\",\n",
    "    \"G-F\": \"Backcourt\",\n",
    "    \"F-C\": \"Frontcourt\",\n",
    "    \"F-G\": \"Frontcourt\",\n",
    "    \"C-F\": \"Frontcourt\"\n",
    "}\n",
    "player_profile = pd.read_csv(\"https://python4ds.s3-ap-northeast-1.amazonaws.com/player_profile.csv\")\n",
    "print(\"Pos before mapping:\")\n",
    "player_profile[\"pos\"].value_counts()"
   ]
  },
  {
   "cell_type": "code",
   "execution_count": null,
   "metadata": {},
   "outputs": [],
   "source": [
    "pos_recoded = player_profile['pos'].map(pos_dict)\n",
    "pos_recoded.value_counts()\n"
   ]
  },
  {
   "cell_type": "markdown",
   "metadata": {},
   "source": [
    "#### 數值對應類別\n",
    "透過 pd.cut() 函數將數值變數依照指定的門檻值或箱數切分成為類別變數，舉例來說將身高對應為小於等於 2 公尺以及超過 2 公尺兩個類別\n",
    "換句話說，就是連續型轉為間斷型"
   ]
  },
  {
   "cell_type": "code",
   "execution_count": null,
   "metadata": {},
   "outputs": [],
   "source": [
    "import numpy as np\n",
    "\n",
    "player_profile = pd.read_csv(\"https://python4ds.s3-ap-northeast-1.amazonaws.com/player_profile.csv\")\n",
    "# 兩個區段需要給三個切點\n",
    "player_profile[\"heightCategory\"] = pd.cut(player_profile[\"heightMeters\"], [0, 2, np.Inf], labels=[\"<= 2m\", \"> 2m\"])\n",
    "player_profile[[\"temporaryDisplayName\", \"heightMeters\", \"heightCategory\"]].head(10)"
   ]
  },
  {
   "cell_type": "markdown",
   "metadata": {},
   "source": [
    "#### 函數映射\n",
    "透過 .apply() 方法來實踐，傳入函數或 lambda 表示式作為映射的準則，例如將本來分類較細膩的鋒衛對應為較粗略的 G、F 與 C"
   ]
  },
  {
   "cell_type": "code",
   "execution_count": null,
   "metadata": {},
   "outputs": [],
   "source": [
    "def recode_pos(x):\n",
    "    if x[0] == 'G':\n",
    "        return 'G'\n",
    "    elif x[0] == 'F':\n",
    "        return 'F'\n",
    "    elif x[0] == 'C':\n",
    "        return 'C'\n",
    "\n",
    "player_profile[\"pos_recoded\"] = player_profile[\"pos\"].apply(recode_pos)\n",
    "player_profile[\"pos_recoded\"].value_counts()"
   ]
  },
  {
   "cell_type": "markdown",
   "metadata": {},
   "source": [
    "### (6) 摘要\n",
    "- .count() 計算列數\n",
    "- .mean() 與 .median() 計算平均和中位數\n",
    "- .min() 與 .max() 計算最小和最大值\n",
    "- .std() 與 .var() 計算標準差和變異數\n",
    "- .prod() 計算乘積\n",
    "- .sum() 計算總和"
   ]
  },
  {
   "cell_type": "code",
   "execution_count": null,
   "metadata": {},
   "outputs": [],
   "source": [
    "df.max()"
   ]
  },
  {
   "cell_type": "code",
   "execution_count": null,
   "metadata": {},
   "outputs": [],
   "source": [
    "# 對index做\n",
    "df.max(axis=1)"
   ]
  },
  {
   "cell_type": "code",
   "execution_count": null,
   "metadata": {},
   "outputs": [],
   "source": [
    "df['rating'].min()"
   ]
  },
  {
   "cell_type": "code",
   "execution_count": null,
   "metadata": {},
   "outputs": [],
   "source": [
    "# 獲取資料最大最小值的索引值\n",
    "# df[\"col_name\"].idxmax()\n",
    "# df[\"col_name\"].idxmin()\n",
    "# df.set_index('titles')\n",
    "df['title'] = [\"The Dark Knight\", \"Schindler's List\", \"Forrest Gump\", \"Inception\"]\n",
    "df.set_index('title')\n",
    "df['release_year'].idxmin()"
   ]
  },
  {
   "cell_type": "markdown",
   "metadata": {},
   "source": [
    "隨堂練習：誰的背號數字最大？"
   ]
  },
  {
   "cell_type": "code",
   "execution_count": null,
   "metadata": {},
   "outputs": [],
   "source": [
    "import pandas as pd\n",
    "\n",
    "numbers = [9, 23, 33, 91, 13]\n",
    "players = [\"Ron Harper\", \"Michael Jordan\", \"Scottie Pippen\", \"Dennis Rodman\", \"Luc Longley\"]\n",
    "df = pd.DataFrame()\n",
    "df[\"number\"] = numbers\n",
    "df[\"player\"] = players\n",
    "df"
   ]
  },
  {
   "cell_type": "code",
   "execution_count": null,
   "metadata": {},
   "outputs": [],
   "source": [
    "df = df.set_index('player')\n",
    "df"
   ]
  },
  {
   "cell_type": "code",
   "execution_count": null,
   "metadata": {},
   "outputs": [],
   "source": [
    "df['number'].idxmax()"
   ]
  },
  {
   "cell_type": "code",
   "execution_count": null,
   "metadata": {},
   "outputs": [],
   "source": [
    "df['number'].idxmin()"
   ]
  },
  {
   "cell_type": "markdown",
   "metadata": {},
   "source": [
    "### (7) 獲取類別資料的摘要\n",
    "- df[\"col_name\"].nunique()\n",
    "- df[\"col_name\"].unique()\n",
    "- df[\"col_name\"].value_counts()"
   ]
  },
  {
   "cell_type": "code",
   "execution_count": null,
   "metadata": {},
   "outputs": [],
   "source": [
    "player_profile['country']"
   ]
  },
  {
   "cell_type": "code",
   "execution_count": null,
   "metadata": {},
   "outputs": [],
   "source": [
    "player_profile['country'].nunique()"
   ]
  },
  {
   "cell_type": "code",
   "execution_count": null,
   "metadata": {},
   "outputs": [],
   "source": [
    "player_profile['country'].unique()"
   ]
  },
  {
   "cell_type": "code",
   "execution_count": null,
   "metadata": {},
   "outputs": [],
   "source": [
    "player_profile['country'].value_counts()"
   ]
  },
  {
   "cell_type": "markdown",
   "metadata": {},
   "source": [
    "### (8) 分組摘要\n",
    "更多的應用情境中我們會指定一些類別變數分組，在分組的前提下對資料框變數呼叫簡單的摘要方法，這樣的操作源自於 SQL 資料庫查詢語言的 GROUP BY 語法"
   ]
  },
  {
   "cell_type": "code",
   "execution_count": null,
   "metadata": {},
   "outputs": [],
   "source": [
    "player_profile['heightMeters'].mean()"
   ]
  },
  {
   "cell_type": "code",
   "execution_count": null,
   "metadata": {},
   "outputs": [],
   "source": [
    "# 若不用group_by 需要用迴圈!!!!\n",
    "# 是一種生成式\n",
    "groupby_object = player_profile.groupby(\"pos\")"
   ]
  },
  {
   "cell_type": "code",
   "execution_count": null,
   "metadata": {},
   "outputs": [],
   "source": [
    "print(groupby_object[\"heightMeters\"].mean()) # Average height by pos\n",
    "print(\"\\n\")\n",
    "print(groupby_object[\"weightKilograms\"].mean()) # Average weight by pos"
   ]
  },
  {
   "cell_type": "markdown",
   "metadata": {},
   "source": [
    "### (9) 常用的列索引相關方法\n",
    "- df.set_index(\"col_name\")\n",
    "- df.reset_index()"
   ]
  },
  {
   "cell_type": "code",
   "execution_count": null,
   "metadata": {},
   "outputs": [],
   "source": [
    "movie_ratings = [9.0, 8.9, 8.8, 8.7]\n",
    "movie_titles = [\"The Dark Knight\", \"Schindler's List\", \"Forrest Gump\", \"Inception\"]\n",
    "release_years = [2008, 1993, 1994, 2010]\n",
    "df = pd.DataFrame()\n",
    "df[\"title\"] = movie_titles\n",
    "df[\"rating\"] = movie_ratings\n",
    "df[\"release_year\"] = release_years\n",
    "df"
   ]
  },
  {
   "cell_type": "code",
   "execution_count": null,
   "metadata": {},
   "outputs": [],
   "source": [
    "df.set_index('title')"
   ]
  },
  {
   "cell_type": "code",
   "execution_count": null,
   "metadata": {},
   "outputs": [],
   "source": [
    "df.reset_index(drop=True)"
   ]
  },
  {
   "cell_type": "code",
   "execution_count": null,
   "metadata": {},
   "outputs": [],
   "source": [
    "final_df = df[df['release_year'] > 2005]\n",
    "final_df.reset_index(drop=True) #不保留舊索引"
   ]
  },
  {
   "cell_type": "markdown",
   "metadata": {},
   "source": [
    "## 奧運獎牌排行"
   ]
  },
  {
   "cell_type": "code",
   "execution_count": null,
   "metadata": {},
   "outputs": [],
   "source": [
    "import pandas as pd"
   ]
  },
  {
   "cell_type": "code",
   "execution_count": null,
   "metadata": {},
   "outputs": [],
   "source": [
    "df = pd.read_csv(\"https://python4ds.s3-ap-northeast-1.amazonaws.com/olympics.csv\", index_col=0)"
   ]
  },
  {
   "cell_type": "code",
   "execution_count": null,
   "metadata": {
    "scrolled": true
   },
   "outputs": [],
   "source": [
    "df.head()"
   ]
  },
  {
   "cell_type": "code",
   "execution_count": null,
   "metadata": {
    "scrolled": true
   },
   "outputs": [],
   "source": [
    "def answer_1(df):\n",
    "    return df['Gold'].idxmax()\n",
    "\n",
    "answer_1(df)"
   ]
  },
  {
   "cell_type": "code",
   "execution_count": null,
   "metadata": {
    "scrolled": true
   },
   "outputs": [],
   "source": [
    "#隨堂練習：哪個國家夏季奧運與冬季奧運的金牌數差距數最大？\n",
    "def answer_2(df):\n",
    "    return (df[\"Gold\"] - df[\"Gold.1\"]).abs().idxmax()\n",
    "\n",
    "answer_2(df)"
   ]
  },
  {
   "cell_type": "code",
   "execution_count": null,
   "metadata": {
    "scrolled": true
   },
   "outputs": [],
   "source": [
    "#隨堂練習：哪個國家夏季奧運與冬季奧運的金牌數差距除以總金牌數的比例最大？（僅考慮至少有一個夏季金牌與一個冬季金牌的國家）\n",
    "def answer_3(df):\n",
    "    ratio = (df[\"Gold\"] - df[\"Gold.1\"]) / df[\"Gold.2\"]\n",
    "    return ratio[ratio != 1].idxmax()\n",
    "\n",
    "answer_3(df)"
   ]
  },
  {
   "cell_type": "code",
   "execution_count": null,
   "metadata": {},
   "outputs": [],
   "source": [
    "#隨堂練習：計算 146 個國家的獎牌點數，金牌 3 點、銀牌 2 點、銅牌 1 點。\n",
    "def answer_4(df):\n",
    "    return 3*df['Gold.2'] + 2*df['Silver.2'] + df['Bronze.2']\n",
    "\n",
    "answer_4(df)"
   ]
  },
  {
   "cell_type": "markdown",
   "metadata": {},
   "source": [
    "## DataFrame的進階操作"
   ]
  },
  {
   "cell_type": "code",
   "execution_count": null,
   "metadata": {},
   "outputs": [],
   "source": []
  },
  {
   "cell_type": "markdown",
   "metadata": {},
   "source": [
    "## 美國普查"
   ]
  },
  {
   "cell_type": "code",
   "execution_count": null,
   "metadata": {},
   "outputs": [],
   "source": [
    "import pandas as pd\n",
    "\n",
    "census_df = pd.read_csv('https://storage.googleapis.com/py_ml_datasets/census.csv')\n",
    "census_df.shape"
   ]
  },
  {
   "cell_type": "code",
   "execution_count": null,
   "metadata": {},
   "outputs": [],
   "source": [
    "census_df.head()"
   ]
  },
  {
   "cell_type": "code",
   "execution_count": null,
   "metadata": {},
   "outputs": [],
   "source": [
    "#隨堂練習：哪個州（state）的郡（county）數最多？\n",
    "def answer_1(df):\n",
    "    ser = df[\"STNAME\"].value_counts()\n",
    "    return ser.idxmax()\n",
    "\n",
    "answer_1(census_df)"
   ]
  },
  {
   "cell_type": "code",
   "execution_count": null,
   "metadata": {},
   "outputs": [],
   "source": [
    "#隨堂練習：僅考慮每州（state）人口最多的三個郡（county）計算人口總和（CENSUS2010POP），哪三個州總和數最多？（請注意 SUMLEV 變數）\n"
   ]
  },
  {
   "cell_type": "code",
   "execution_count": null,
   "metadata": {},
   "outputs": [],
   "source": [
    "county_data = census_df[census_df[\"SUMLEV\"]==50]\n",
    "state_names = county_data[\"STNAME\"].unique()\n",
    "top3_pop_summation = []\n",
    "for state_name in state_names:\n",
    "    single_state = county_data[county_data['STNAME'] == state_name]\n",
    "    single_state_sorted = single_state.sort_values(\"CENSUS2010POP\", ascending=False)\n",
    "    top3_pop = single_state_sorted['CENSUS2010POP'].values[:3]\n",
    "    top3_pop_sum = top3_pop.sum()\n",
    "    top3_pop_summation.append(top3_pop_sum)\n",
    "print(top3_pop_summation)"
   ]
  },
  {
   "cell_type": "code",
   "execution_count": null,
   "metadata": {},
   "outputs": [],
   "source": [
    "ser = pd.Series(top3_pop_summation, index=state_names)"
   ]
  },
  {
   "cell_type": "code",
   "execution_count": null,
   "metadata": {},
   "outputs": [],
   "source": [
    "ser_sorted = ser.sort_values(ascending=False)\n",
    "ans = list(ser_sorted[:3].index)"
   ]
  },
  {
   "cell_type": "code",
   "execution_count": null,
   "metadata": {},
   "outputs": [],
   "source": [
    "def answer_2(df):\n",
    "    # filter county data\n",
    "    county_data = census_df[census_df[\"SUMLEV\"]==50]\n",
    "    # iteration for 51 states\n",
    "    state_names = county_data[\"STNAME\"].unique()\n",
    "    top3_pop_summation = []\n",
    "    for state_name in state_names:\n",
    "        single_state = county_data[county_data['STNAME'] == state_name]\n",
    "        single_state_sorted = single_state.sort_values(\"CENSUS2010POP\", ascending=False)\n",
    "        top3_pop = single_state_sorted['CENSUS2010POP'].values[:3]\n",
    "        top3_pop_sum = top3_pop.sum()\n",
    "        top3_pop_summation.append(top3_pop_sum)\n",
    "    \n",
    "    #Answer\n",
    "    ser = pd.Series(top3_pop_summation, index=state_names)\n",
    "    ser_sorted = ser.sort_values(ascending=False)\n",
    "    ans = list(ser_sorted[:3].index)\n",
    "    \n",
    "    return ans"
   ]
  },
  {
   "cell_type": "code",
   "execution_count": null,
   "metadata": {
    "scrolled": true
   },
   "outputs": [],
   "source": [
    "answer_2(census_df)"
   ]
  },
  {
   "cell_type": "code",
   "execution_count": null,
   "metadata": {},
   "outputs": [],
   "source": [
    "# 另解\n",
    "census_df['CENSUS2010POP'].nlargest(3)"
   ]
  },
  {
   "cell_type": "code",
   "execution_count": null,
   "metadata": {},
   "outputs": [],
   "source": [
    "groupby_object = county_data.groupby(\"STNAME\")"
   ]
  },
  {
   "cell_type": "code",
   "execution_count": null,
   "metadata": {
    "scrolled": true
   },
   "outputs": [],
   "source": [
    "top3_by_state = groupby_object['CENSUS2010POP'].nlargest(3)"
   ]
  },
  {
   "cell_type": "code",
   "execution_count": null,
   "metadata": {},
   "outputs": [],
   "source": [
    "groupby_object = top3_by_state.groupby('STNAME')\n",
    "ser = groupby_object.sum()"
   ]
  },
  {
   "cell_type": "code",
   "execution_count": null,
   "metadata": {},
   "outputs": [],
   "source": [
    "ser.nlargest(3)"
   ]
  },
  {
   "cell_type": "code",
   "execution_count": null,
   "metadata": {},
   "outputs": [],
   "source": [
    "ans = list(ser.nlargest(3).index)\n",
    "print(ans)"
   ]
  },
  {
   "cell_type": "code",
   "execution_count": null,
   "metadata": {
    "scrolled": true
   },
   "outputs": [],
   "source": [
    "def answer_22(df):\n",
    "    # filter county data\n",
    "    county_data = df[df[\"SUMLEV\"]==50]\n",
    "    \n",
    "    #nlargest state level\n",
    "    groupby_object = county_data.groupby(\"STNAME\")\n",
    "    top3_by_state = groupby_object['CENSUS2010POP'].nlargest(3)\n",
    "    groupby_object = top3_by_state.groupby('STNAME')\n",
    "    \n",
    "    #nlargest nation level\n",
    "    ser = groupby_object.sum()\n",
    "    ans = list(ser.nlargest(3).index)\n",
    "    \n",
    "    return ans\n",
    "\n",
    "answer_22(census_df)"
   ]
  },
  {
   "cell_type": "code",
   "execution_count": null,
   "metadata": {},
   "outputs": [],
   "source": [
    "#隨堂練習：哪個郡（county）在 2010-2015 期間人口改變數量最高？（POPESTIMATE2010:POPESTIMATE2015 這六個變數）\n",
    "#提示：如果 6 年的人口數分別為 120, 80, 105, 100, 130, 120 則人口改變數量為 130-80 = 50\n",
    "\n",
    "pop_max = county_data.loc[:, \"POPESTIMATE2010\":\"POPESTIMATE2015\"].max(axis=1)"
   ]
  },
  {
   "cell_type": "code",
   "execution_count": null,
   "metadata": {},
   "outputs": [],
   "source": [
    "pop_min = county_data.loc[:, \"POPESTIMATE2010\":\"POPESTIMATE2015\"].min(axis=1)"
   ]
  },
  {
   "cell_type": "code",
   "execution_count": null,
   "metadata": {},
   "outputs": [],
   "source": [
    "pop_dif = pop_max - pop_min"
   ]
  },
  {
   "cell_type": "code",
   "execution_count": null,
   "metadata": {},
   "outputs": [],
   "source": [
    "max_pop_diff_index = pop_dif.idxmax()"
   ]
  },
  {
   "cell_type": "code",
   "execution_count": null,
   "metadata": {},
   "outputs": [],
   "source": [
    "county_data['CTYNAME'][max_pop_diff_index]"
   ]
  },
  {
   "cell_type": "code",
   "execution_count": null,
   "metadata": {},
   "outputs": [],
   "source": [
    "def answer_3(df):\n",
    "    # filter county_data\n",
    "    county_data = df[df[\"SUMLEV\"]==50]\n",
    "    \n",
    "    #summerize by rows\n",
    "    pop_max = county_data.loc[:, \"POPESTIMATE2010\":\"POPESTIMATE2015\"].max(axis=1)\n",
    "    pop_min = county_data.loc[:, \"POPESTIMATE2010\":\"POPESTIMATE2015\"].min(axis=1)\n",
    "    pop_dif = pop_max - pop_min\n",
    "    max_pop_diff_index = pop_dif.idxmax()\n",
    "    ans = county_data['CTYNAME'][max_pop_diff_index]\n",
    "    return ans\n",
    "    \n",
    "answer_3(census_df)"
   ]
  },
  {
   "cell_type": "code",
   "execution_count": null,
   "metadata": {},
   "outputs": [],
   "source": [
    "#隨堂練習：篩選出屬於 REGION 1 或 2、開頭名稱為 Washington 並且 POPESTIMATE2015 大於 POPESTIMATE2014 的郡（county）\n",
    "region_filter = (county_data[\"REGION\"] == 1) | (county_data[\"REGION\"] == 2)\n",
    "county_data[region_filter].shape"
   ]
  },
  {
   "cell_type": "code",
   "execution_count": null,
   "metadata": {},
   "outputs": [],
   "source": [
    "ctyname_filter = county_data[\"CTYNAME\"].str.contains('Washington')\n",
    "county_data[ctyname_filter].shape"
   ]
  },
  {
   "cell_type": "code",
   "execution_count": null,
   "metadata": {},
   "outputs": [],
   "source": [
    "pop_filter = county_data['POPESTIMATE2015'] > county_data['POPESTIMATE2014']\n",
    "county_data[pop_filter].shape"
   ]
  },
  {
   "cell_type": "code",
   "execution_count": null,
   "metadata": {},
   "outputs": [],
   "source": [
    "interset_filter = region_filter & ctyname_filter & pop_filter"
   ]
  },
  {
   "cell_type": "code",
   "execution_count": null,
   "metadata": {
    "scrolled": true
   },
   "outputs": [],
   "source": [
    "county_data[interset_filter][['STNAME','CTYNAME']].reset_index(drop=True)"
   ]
  },
  {
   "cell_type": "code",
   "execution_count": null,
   "metadata": {},
   "outputs": [],
   "source": [
    "def answer_4(df):\n",
    "    # filter county_data\n",
    "    county_data = df[df[\"SUMLEV\"]==50]\n",
    "    \n",
    "    #create filter\n",
    "    region_filter = (county_data[\"REGION\"] == 1) | (county_data[\"REGION\"] == 2)\n",
    "    ctyname_filter = county_data[\"CTYNAME\"].str.contains('Washington')\n",
    "    pop_filter = county_data['POPESTIMATE2015'] > county_data['POPESTIMATE2014']\n",
    "    interset_filter = region_filter & ctyname_filter & pop_filter\n",
    "    answer_filter = county_data[interset_filter]\n",
    "    answer_select = answer_filter[['STNAME','CTYNAME']]\n",
    "    ans = answer_select.reset_index(drop=True)\n",
    "    return ans\n",
    "    "
   ]
  },
  {
   "cell_type": "code",
   "execution_count": null,
   "metadata": {
    "scrolled": true
   },
   "outputs": [],
   "source": [
    "answer_4(census_df)"
   ]
  },
  {
   "cell_type": "markdown",
   "metadata": {},
   "source": [
    "# Pandas專題"
   ]
  },
  {
   "cell_type": "markdown",
   "metadata": {},
   "source": [
    "## 前處理"
   ]
  },
  {
   "cell_type": "markdown",
   "metadata": {},
   "source": [
    "(邊做邊試)\n",
    "先處理合併儲存格，dataframe不處理合併儲存格。\n",
    "遺漏值是要去處理的\n",
    "不需要小計、總計"
   ]
  },
  {
   "cell_type": "markdown",
   "metadata": {},
   "source": [
    "處理步驟:\n",
    "1. 建立具有中文的資料來源網址\n",
    "2. 讀入試算表為資料框\n",
    "3. 判斷候選人人數\n",
    "4. 給定欄位名\n",
    "5. 填補行政區缺失\n",
    "6. 清理行政區的空字串\n",
    "7. 刪除得票數總計、小計列"
   ]
  },
  {
   "cell_type": "markdown",
   "metadata": {},
   "source": [
    "### 建立具有中文的資料來源網址"
   ]
  },
  {
   "cell_type": "code",
   "execution_count": 3,
   "metadata": {
    "scrolled": true
   },
   "outputs": [
    {
     "name": "stdout",
     "output_type": "stream",
     "text": [
      "%E7%B8%BD%E7%B5%B1-A05-4-%E5%80%99%E9%81%B8%E4%BA%BA%E5%BE%97%E7%A5%A8%E6%95%B8%E4%B8%80%E8%A6%BD%E8%A1%A8-%E5%90%84%E6%8A%95%E9%96%8B%E7%A5%A8%E6%89%80%28%E8%87%BA%E5%8C%97%E5%B8%82%29.xls\n"
     ]
    }
   ],
   "source": [
    "from urllib.parse import quote\n",
    "\n",
    "file_name = \"總統-A05-4-候選人得票數一覽表-各投開票所(臺北市).xls\"\n",
    "file_name_url = quote(file_name) #轉換網址名稱\n",
    "print(file_name_url)"
   ]
  },
  {
   "cell_type": "markdown",
   "metadata": {},
   "source": [
    "### 讀取檔案"
   ]
  },
  {
   "cell_type": "code",
   "execution_count": 4,
   "metadata": {},
   "outputs": [
    {
     "data": {
      "text/html": [
       "<div>\n",
       "<style scoped>\n",
       "    .dataframe tbody tr th:only-of-type {\n",
       "        vertical-align: middle;\n",
       "    }\n",
       "\n",
       "    .dataframe tbody tr th {\n",
       "        vertical-align: top;\n",
       "    }\n",
       "\n",
       "    .dataframe thead th {\n",
       "        text-align: right;\n",
       "    }\n",
       "</style>\n",
       "<table border=\"1\" class=\"dataframe\">\n",
       "  <thead>\n",
       "    <tr style=\"text-align: right;\">\n",
       "      <th></th>\n",
       "      <th>Unnamed: 0</th>\n",
       "      <th>Unnamed: 1</th>\n",
       "      <th>Unnamed: 2</th>\n",
       "      <th>(1)\\n宋楚瑜\\n余湘</th>\n",
       "      <th>(2)\\n韓國瑜\\n張善政</th>\n",
       "      <th>(3)\\n蔡英文\\n賴清德</th>\n",
       "      <th>Unnamed: 6</th>\n",
       "      <th>Unnamed: 7</th>\n",
       "      <th>Unnamed: 8</th>\n",
       "      <th>Unnamed: 9</th>\n",
       "      <th>Unnamed: 10</th>\n",
       "      <th>Unnamed: 11</th>\n",
       "      <th>Unnamed: 12</th>\n",
       "      <th>Unnamed: 13</th>\n",
       "    </tr>\n",
       "  </thead>\n",
       "  <tbody>\n",
       "    <tr>\n",
       "      <th>0</th>\n",
       "      <td>總　計</td>\n",
       "      <td>NaN</td>\n",
       "      <td>NaN</td>\n",
       "      <td>70,769</td>\n",
       "      <td>685,830</td>\n",
       "      <td>875,854</td>\n",
       "      <td>1,632,453</td>\n",
       "      <td>21,381</td>\n",
       "      <td>1,653,834</td>\n",
       "      <td>143</td>\n",
       "      <td>1,653,977</td>\n",
       "      <td>513,287</td>\n",
       "      <td>2,167,264</td>\n",
       "      <td>76.3098</td>\n",
       "    </tr>\n",
       "    <tr>\n",
       "      <th>1</th>\n",
       "      <td>松山區</td>\n",
       "      <td>NaN</td>\n",
       "      <td>NaN</td>\n",
       "      <td>5,436</td>\n",
       "      <td>55,918</td>\n",
       "      <td>64,207</td>\n",
       "      <td>125,561</td>\n",
       "      <td>1,762</td>\n",
       "      <td>127,323</td>\n",
       "      <td>2</td>\n",
       "      <td>127,325</td>\n",
       "      <td>37,329</td>\n",
       "      <td>164,654</td>\n",
       "      <td>77.3276</td>\n",
       "    </tr>\n",
       "    <tr>\n",
       "      <th>2</th>\n",
       "      <td>NaN</td>\n",
       "      <td>莊敬里</td>\n",
       "      <td>573.0</td>\n",
       "      <td>36</td>\n",
       "      <td>391</td>\n",
       "      <td>429</td>\n",
       "      <td>856</td>\n",
       "      <td>14</td>\n",
       "      <td>870</td>\n",
       "      <td>0</td>\n",
       "      <td>870</td>\n",
       "      <td>230</td>\n",
       "      <td>1,100</td>\n",
       "      <td>79.0909</td>\n",
       "    </tr>\n",
       "    <tr>\n",
       "      <th>3</th>\n",
       "      <td>NaN</td>\n",
       "      <td>莊敬里</td>\n",
       "      <td>574.0</td>\n",
       "      <td>46</td>\n",
       "      <td>382</td>\n",
       "      <td>438</td>\n",
       "      <td>866</td>\n",
       "      <td>12</td>\n",
       "      <td>878</td>\n",
       "      <td>0</td>\n",
       "      <td>878</td>\n",
       "      <td>259</td>\n",
       "      <td>1,137</td>\n",
       "      <td>77.2208</td>\n",
       "    </tr>\n",
       "    <tr>\n",
       "      <th>4</th>\n",
       "      <td>NaN</td>\n",
       "      <td>莊敬里</td>\n",
       "      <td>575.0</td>\n",
       "      <td>48</td>\n",
       "      <td>393</td>\n",
       "      <td>389</td>\n",
       "      <td>830</td>\n",
       "      <td>22</td>\n",
       "      <td>852</td>\n",
       "      <td>0</td>\n",
       "      <td>852</td>\n",
       "      <td>262</td>\n",
       "      <td>1,114</td>\n",
       "      <td>76.4811</td>\n",
       "    </tr>\n",
       "  </tbody>\n",
       "</table>\n",
       "</div>"
      ],
      "text/plain": [
       "  Unnamed: 0 Unnamed: 1  Unnamed: 2 (1)\\n宋楚瑜\\n余湘 (2)\\n韓國瑜\\n張善政 (3)\\n蔡英文\\n賴清德  \\\n",
       "0        總　計        NaN         NaN       70,769       685,830       875,854   \n",
       "1       　松山區        NaN         NaN        5,436        55,918        64,207   \n",
       "2        NaN        莊敬里       573.0           36           391           429   \n",
       "3        NaN        莊敬里       574.0           46           382           438   \n",
       "4        NaN        莊敬里       575.0           48           393           389   \n",
       "\n",
       "  Unnamed: 6 Unnamed: 7 Unnamed: 8  Unnamed: 9 Unnamed: 10 Unnamed: 11  \\\n",
       "0  1,632,453     21,381  1,653,834         143   1,653,977     513,287   \n",
       "1    125,561      1,762    127,323           2     127,325      37,329   \n",
       "2        856         14        870           0         870         230   \n",
       "3        866         12        878           0         878         259   \n",
       "4        830         22        852           0         852         262   \n",
       "\n",
       "  Unnamed: 12  Unnamed: 13  \n",
       "0   2,167,264      76.3098  \n",
       "1     164,654      77.3276  \n",
       "2       1,100      79.0909  \n",
       "3       1,137      77.2208  \n",
       "4       1,114      76.4811  "
      ]
     },
     "execution_count": 4,
     "metadata": {},
     "output_type": "execute_result"
    }
   ],
   "source": [
    "import pandas as pd\n",
    "\n",
    "file_path = \"https://taiwan-election-data.s3-ap-northeast-1.amazonaws.com/presidential_2020/{}\".format(file_name_url)\n",
    "xls_df = pd.read_excel(file_path, skiprows=[0, 1, 3, 4]) #略過合併儲存格的列\n",
    "xls_df.head()"
   ]
  },
  {
   "cell_type": "markdown",
   "metadata": {},
   "source": [
    "### 確定幾位候選人"
   ]
  },
  {
   "cell_type": "code",
   "execution_count": 5,
   "metadata": {},
   "outputs": [
    {
     "name": "stdout",
     "output_type": "stream",
     "text": [
      "['(1)\\n宋楚瑜\\n余湘', '(2)\\n韓國瑜\\n張善政', '(3)\\n蔡英文\\n賴清德']\n"
     ]
    }
   ],
   "source": [
    "column_names = list(xls_df.columns)\n",
    "n_candidates = len(column_names) - 11\n",
    "candidate_numbers_names = column_names[3:(3+n_candidates)]\n",
    "print(candidate_numbers_names)"
   ]
  },
  {
   "cell_type": "markdown",
   "metadata": {},
   "source": [
    "### 給定欄位名稱"
   ]
  },
  {
   "cell_type": "code",
   "execution_count": 6,
   "metadata": {},
   "outputs": [
    {
     "data": {
      "text/html": [
       "<div>\n",
       "<style scoped>\n",
       "    .dataframe tbody tr th:only-of-type {\n",
       "        vertical-align: middle;\n",
       "    }\n",
       "\n",
       "    .dataframe tbody tr th {\n",
       "        vertical-align: top;\n",
       "    }\n",
       "\n",
       "    .dataframe thead th {\n",
       "        text-align: right;\n",
       "    }\n",
       "</style>\n",
       "<table border=\"1\" class=\"dataframe\">\n",
       "  <thead>\n",
       "    <tr style=\"text-align: right;\">\n",
       "      <th></th>\n",
       "      <th>district</th>\n",
       "      <th>village</th>\n",
       "      <th>office</th>\n",
       "      <th>(1)\\n宋楚瑜\\n余湘</th>\n",
       "      <th>(2)\\n韓國瑜\\n張善政</th>\n",
       "      <th>(3)\\n蔡英文\\n賴清德</th>\n",
       "      <th>A</th>\n",
       "      <th>B</th>\n",
       "      <th>C</th>\n",
       "      <th>D</th>\n",
       "      <th>E</th>\n",
       "      <th>F</th>\n",
       "      <th>G</th>\n",
       "      <th>H</th>\n",
       "    </tr>\n",
       "  </thead>\n",
       "  <tbody>\n",
       "    <tr>\n",
       "      <th>0</th>\n",
       "      <td>總　計</td>\n",
       "      <td>NaN</td>\n",
       "      <td>NaN</td>\n",
       "      <td>70,769</td>\n",
       "      <td>685,830</td>\n",
       "      <td>875,854</td>\n",
       "      <td>1,632,453</td>\n",
       "      <td>21,381</td>\n",
       "      <td>1,653,834</td>\n",
       "      <td>143</td>\n",
       "      <td>1,653,977</td>\n",
       "      <td>513,287</td>\n",
       "      <td>2,167,264</td>\n",
       "      <td>76.3098</td>\n",
       "    </tr>\n",
       "    <tr>\n",
       "      <th>1</th>\n",
       "      <td>松山區</td>\n",
       "      <td>NaN</td>\n",
       "      <td>NaN</td>\n",
       "      <td>5,436</td>\n",
       "      <td>55,918</td>\n",
       "      <td>64,207</td>\n",
       "      <td>125,561</td>\n",
       "      <td>1,762</td>\n",
       "      <td>127,323</td>\n",
       "      <td>2</td>\n",
       "      <td>127,325</td>\n",
       "      <td>37,329</td>\n",
       "      <td>164,654</td>\n",
       "      <td>77.3276</td>\n",
       "    </tr>\n",
       "    <tr>\n",
       "      <th>2</th>\n",
       "      <td>NaN</td>\n",
       "      <td>莊敬里</td>\n",
       "      <td>573.0</td>\n",
       "      <td>36</td>\n",
       "      <td>391</td>\n",
       "      <td>429</td>\n",
       "      <td>856</td>\n",
       "      <td>14</td>\n",
       "      <td>870</td>\n",
       "      <td>0</td>\n",
       "      <td>870</td>\n",
       "      <td>230</td>\n",
       "      <td>1,100</td>\n",
       "      <td>79.0909</td>\n",
       "    </tr>\n",
       "    <tr>\n",
       "      <th>3</th>\n",
       "      <td>NaN</td>\n",
       "      <td>莊敬里</td>\n",
       "      <td>574.0</td>\n",
       "      <td>46</td>\n",
       "      <td>382</td>\n",
       "      <td>438</td>\n",
       "      <td>866</td>\n",
       "      <td>12</td>\n",
       "      <td>878</td>\n",
       "      <td>0</td>\n",
       "      <td>878</td>\n",
       "      <td>259</td>\n",
       "      <td>1,137</td>\n",
       "      <td>77.2208</td>\n",
       "    </tr>\n",
       "    <tr>\n",
       "      <th>4</th>\n",
       "      <td>NaN</td>\n",
       "      <td>莊敬里</td>\n",
       "      <td>575.0</td>\n",
       "      <td>48</td>\n",
       "      <td>393</td>\n",
       "      <td>389</td>\n",
       "      <td>830</td>\n",
       "      <td>22</td>\n",
       "      <td>852</td>\n",
       "      <td>0</td>\n",
       "      <td>852</td>\n",
       "      <td>262</td>\n",
       "      <td>1,114</td>\n",
       "      <td>76.4811</td>\n",
       "    </tr>\n",
       "  </tbody>\n",
       "</table>\n",
       "</div>"
      ],
      "text/plain": [
       "  district village  office (1)\\n宋楚瑜\\n余湘 (2)\\n韓國瑜\\n張善政 (3)\\n蔡英文\\n賴清德  \\\n",
       "0      總　計     NaN     NaN       70,769       685,830       875,854   \n",
       "1     　松山區     NaN     NaN        5,436        55,918        64,207   \n",
       "2      NaN     莊敬里   573.0           36           391           429   \n",
       "3      NaN     莊敬里   574.0           46           382           438   \n",
       "4      NaN     莊敬里   575.0           48           393           389   \n",
       "\n",
       "           A       B          C    D          E        F          G        H  \n",
       "0  1,632,453  21,381  1,653,834  143  1,653,977  513,287  2,167,264  76.3098  \n",
       "1    125,561   1,762    127,323    2    127,325   37,329    164,654  77.3276  \n",
       "2        856      14        870    0        870      230      1,100  79.0909  \n",
       "3        866      12        878    0        878      259      1,137  77.2208  \n",
       "4        830      22        852    0        852      262      1,114  76.4811  "
      ]
     },
     "execution_count": 6,
     "metadata": {},
     "output_type": "execute_result"
    }
   ],
   "source": [
    "from string import ascii_uppercase\n",
    "\n",
    "column_names = [\"district\", \"village\", \"office\"] + candidate_numbers_names + list(ascii_uppercase[:8])\n",
    "xls_df.columns = column_names\n",
    "xls_df.head()"
   ]
  },
  {
   "cell_type": "code",
   "execution_count": 7,
   "metadata": {
    "scrolled": false
   },
   "outputs": [
    {
     "name": "stdout",
     "output_type": "stream",
     "text": [
      "0        總　計\n",
      "1       　松山區\n",
      "2       　松山區\n",
      "3       　松山區\n",
      "4       　松山區\n",
      "        ... \n",
      "1736    　北投區\n",
      "1737    　北投區\n",
      "1738    　北投區\n",
      "1739    　北投區\n",
      "1740    　北投區\n",
      "Name: district, Length: 1741, dtype: object\n"
     ]
    }
   ],
   "source": [
    "imputed_district = xls_df['district']\n",
    "imputed_district = imputed_district.fillna(method=\"ffill\")\n",
    "print(imputed_district)"
   ]
  },
  {
   "cell_type": "code",
   "execution_count": 8,
   "metadata": {},
   "outputs": [],
   "source": [
    "xls_df = xls_df.drop('district', axis=1)"
   ]
  },
  {
   "cell_type": "code",
   "execution_count": 9,
   "metadata": {},
   "outputs": [],
   "source": [
    "# 插入欄位\n",
    "xls_df.insert(0, 'district', imputed_district)"
   ]
  },
  {
   "cell_type": "code",
   "execution_count": 10,
   "metadata": {
    "scrolled": true
   },
   "outputs": [
    {
     "data": {
      "text/html": [
       "<div>\n",
       "<style scoped>\n",
       "    .dataframe tbody tr th:only-of-type {\n",
       "        vertical-align: middle;\n",
       "    }\n",
       "\n",
       "    .dataframe tbody tr th {\n",
       "        vertical-align: top;\n",
       "    }\n",
       "\n",
       "    .dataframe thead th {\n",
       "        text-align: right;\n",
       "    }\n",
       "</style>\n",
       "<table border=\"1\" class=\"dataframe\">\n",
       "  <thead>\n",
       "    <tr style=\"text-align: right;\">\n",
       "      <th></th>\n",
       "      <th>district</th>\n",
       "      <th>village</th>\n",
       "      <th>office</th>\n",
       "      <th>(1)\\n宋楚瑜\\n余湘</th>\n",
       "      <th>(2)\\n韓國瑜\\n張善政</th>\n",
       "      <th>(3)\\n蔡英文\\n賴清德</th>\n",
       "      <th>A</th>\n",
       "      <th>B</th>\n",
       "      <th>C</th>\n",
       "      <th>D</th>\n",
       "      <th>E</th>\n",
       "      <th>F</th>\n",
       "      <th>G</th>\n",
       "      <th>H</th>\n",
       "    </tr>\n",
       "  </thead>\n",
       "  <tbody>\n",
       "    <tr>\n",
       "      <th>0</th>\n",
       "      <td>總　計</td>\n",
       "      <td>NaN</td>\n",
       "      <td>NaN</td>\n",
       "      <td>70,769</td>\n",
       "      <td>685,830</td>\n",
       "      <td>875,854</td>\n",
       "      <td>1,632,453</td>\n",
       "      <td>21,381</td>\n",
       "      <td>1,653,834</td>\n",
       "      <td>143</td>\n",
       "      <td>1,653,977</td>\n",
       "      <td>513,287</td>\n",
       "      <td>2,167,264</td>\n",
       "      <td>76.3098</td>\n",
       "    </tr>\n",
       "    <tr>\n",
       "      <th>1</th>\n",
       "      <td>松山區</td>\n",
       "      <td>NaN</td>\n",
       "      <td>NaN</td>\n",
       "      <td>5,436</td>\n",
       "      <td>55,918</td>\n",
       "      <td>64,207</td>\n",
       "      <td>125,561</td>\n",
       "      <td>1,762</td>\n",
       "      <td>127,323</td>\n",
       "      <td>2</td>\n",
       "      <td>127,325</td>\n",
       "      <td>37,329</td>\n",
       "      <td>164,654</td>\n",
       "      <td>77.3276</td>\n",
       "    </tr>\n",
       "    <tr>\n",
       "      <th>2</th>\n",
       "      <td>松山區</td>\n",
       "      <td>莊敬里</td>\n",
       "      <td>573.0</td>\n",
       "      <td>36</td>\n",
       "      <td>391</td>\n",
       "      <td>429</td>\n",
       "      <td>856</td>\n",
       "      <td>14</td>\n",
       "      <td>870</td>\n",
       "      <td>0</td>\n",
       "      <td>870</td>\n",
       "      <td>230</td>\n",
       "      <td>1,100</td>\n",
       "      <td>79.0909</td>\n",
       "    </tr>\n",
       "    <tr>\n",
       "      <th>3</th>\n",
       "      <td>松山區</td>\n",
       "      <td>莊敬里</td>\n",
       "      <td>574.0</td>\n",
       "      <td>46</td>\n",
       "      <td>382</td>\n",
       "      <td>438</td>\n",
       "      <td>866</td>\n",
       "      <td>12</td>\n",
       "      <td>878</td>\n",
       "      <td>0</td>\n",
       "      <td>878</td>\n",
       "      <td>259</td>\n",
       "      <td>1,137</td>\n",
       "      <td>77.2208</td>\n",
       "    </tr>\n",
       "    <tr>\n",
       "      <th>4</th>\n",
       "      <td>松山區</td>\n",
       "      <td>莊敬里</td>\n",
       "      <td>575.0</td>\n",
       "      <td>48</td>\n",
       "      <td>393</td>\n",
       "      <td>389</td>\n",
       "      <td>830</td>\n",
       "      <td>22</td>\n",
       "      <td>852</td>\n",
       "      <td>0</td>\n",
       "      <td>852</td>\n",
       "      <td>262</td>\n",
       "      <td>1,114</td>\n",
       "      <td>76.4811</td>\n",
       "    </tr>\n",
       "    <tr>\n",
       "      <th>...</th>\n",
       "      <td>...</td>\n",
       "      <td>...</td>\n",
       "      <td>...</td>\n",
       "      <td>...</td>\n",
       "      <td>...</td>\n",
       "      <td>...</td>\n",
       "      <td>...</td>\n",
       "      <td>...</td>\n",
       "      <td>...</td>\n",
       "      <td>...</td>\n",
       "      <td>...</td>\n",
       "      <td>...</td>\n",
       "      <td>...</td>\n",
       "      <td>...</td>\n",
       "    </tr>\n",
       "    <tr>\n",
       "      <th>95</th>\n",
       "      <td>松山區</td>\n",
       "      <td>吉祥里</td>\n",
       "      <td>1485.0</td>\n",
       "      <td>45</td>\n",
       "      <td>428</td>\n",
       "      <td>440</td>\n",
       "      <td>913</td>\n",
       "      <td>14</td>\n",
       "      <td>927</td>\n",
       "      <td>0</td>\n",
       "      <td>927</td>\n",
       "      <td>269</td>\n",
       "      <td>1,196</td>\n",
       "      <td>77.5084</td>\n",
       "    </tr>\n",
       "    <tr>\n",
       "      <th>96</th>\n",
       "      <td>松山區</td>\n",
       "      <td>新聚里</td>\n",
       "      <td>1486.0</td>\n",
       "      <td>38</td>\n",
       "      <td>428</td>\n",
       "      <td>548</td>\n",
       "      <td>1,014</td>\n",
       "      <td>15</td>\n",
       "      <td>1,029</td>\n",
       "      <td>0</td>\n",
       "      <td>1,029</td>\n",
       "      <td>323</td>\n",
       "      <td>1,352</td>\n",
       "      <td>76.1095</td>\n",
       "    </tr>\n",
       "    <tr>\n",
       "      <th>97</th>\n",
       "      <td>松山區</td>\n",
       "      <td>新聚里</td>\n",
       "      <td>1487.0</td>\n",
       "      <td>50</td>\n",
       "      <td>407</td>\n",
       "      <td>627</td>\n",
       "      <td>1,084</td>\n",
       "      <td>11</td>\n",
       "      <td>1,095</td>\n",
       "      <td>0</td>\n",
       "      <td>1,095</td>\n",
       "      <td>290</td>\n",
       "      <td>1,385</td>\n",
       "      <td>79.0614</td>\n",
       "    </tr>\n",
       "    <tr>\n",
       "      <th>98</th>\n",
       "      <td>松山區</td>\n",
       "      <td>新聚里</td>\n",
       "      <td>1488.0</td>\n",
       "      <td>39</td>\n",
       "      <td>432</td>\n",
       "      <td>528</td>\n",
       "      <td>999</td>\n",
       "      <td>10</td>\n",
       "      <td>1,009</td>\n",
       "      <td>0</td>\n",
       "      <td>1,009</td>\n",
       "      <td>326</td>\n",
       "      <td>1,335</td>\n",
       "      <td>75.5805</td>\n",
       "    </tr>\n",
       "    <tr>\n",
       "      <th>99</th>\n",
       "      <td>松山區</td>\n",
       "      <td>新聚里</td>\n",
       "      <td>1489.0</td>\n",
       "      <td>42</td>\n",
       "      <td>415</td>\n",
       "      <td>606</td>\n",
       "      <td>1,063</td>\n",
       "      <td>4</td>\n",
       "      <td>1,067</td>\n",
       "      <td>0</td>\n",
       "      <td>1,067</td>\n",
       "      <td>298</td>\n",
       "      <td>1,365</td>\n",
       "      <td>78.1685</td>\n",
       "    </tr>\n",
       "  </tbody>\n",
       "</table>\n",
       "<p>100 rows × 14 columns</p>\n",
       "</div>"
      ],
      "text/plain": [
       "   district village  office (1)\\n宋楚瑜\\n余湘 (2)\\n韓國瑜\\n張善政 (3)\\n蔡英文\\n賴清德  \\\n",
       "0       總　計     NaN     NaN       70,769       685,830       875,854   \n",
       "1      　松山區     NaN     NaN        5,436        55,918        64,207   \n",
       "2      　松山區     莊敬里   573.0           36           391           429   \n",
       "3      　松山區     莊敬里   574.0           46           382           438   \n",
       "4      　松山區     莊敬里   575.0           48           393           389   \n",
       "..      ...     ...     ...          ...           ...           ...   \n",
       "95     　松山區     吉祥里  1485.0           45           428           440   \n",
       "96     　松山區     新聚里  1486.0           38           428           548   \n",
       "97     　松山區     新聚里  1487.0           50           407           627   \n",
       "98     　松山區     新聚里  1488.0           39           432           528   \n",
       "99     　松山區     新聚里  1489.0           42           415           606   \n",
       "\n",
       "            A       B          C    D          E        F          G        H  \n",
       "0   1,632,453  21,381  1,653,834  143  1,653,977  513,287  2,167,264  76.3098  \n",
       "1     125,561   1,762    127,323    2    127,325   37,329    164,654  77.3276  \n",
       "2         856      14        870    0        870      230      1,100  79.0909  \n",
       "3         866      12        878    0        878      259      1,137  77.2208  \n",
       "4         830      22        852    0        852      262      1,114  76.4811  \n",
       "..        ...     ...        ...  ...        ...      ...        ...      ...  \n",
       "95        913      14        927    0        927      269      1,196  77.5084  \n",
       "96      1,014      15      1,029    0      1,029      323      1,352  76.1095  \n",
       "97      1,084      11      1,095    0      1,095      290      1,385  79.0614  \n",
       "98        999      10      1,009    0      1,009      326      1,335  75.5805  \n",
       "99      1,063       4      1,067    0      1,067      298      1,365  78.1685  \n",
       "\n",
       "[100 rows x 14 columns]"
      ]
     },
     "execution_count": 10,
     "metadata": {},
     "output_type": "execute_result"
    }
   ],
   "source": [
    "xls_df.head(100)"
   ]
  },
  {
   "cell_type": "markdown",
   "metadata": {},
   "source": [
    "### 清理空字串"
   ]
  },
  {
   "cell_type": "code",
   "execution_count": 11,
   "metadata": {
    "scrolled": true
   },
   "outputs": [
    {
     "name": "stdout",
     "output_type": "stream",
     "text": [
      "['總\\u3000計' '\\u3000松山區' '\\u3000信義區' '\\u3000大安區' '\\u3000中山區' '\\u3000中正區'\n",
      " '\\u3000大同區' '\\u3000萬華區' '\\u3000文山區' '\\u3000南港區' '\\u3000內湖區' '\\u3000士林區'\n",
      " '\\u3000北投區']\n"
     ]
    }
   ],
   "source": [
    "print(xls_df[\"district\"].unique())\n",
    "\n",
    "# \\u3000 是全形空字串"
   ]
  },
  {
   "cell_type": "code",
   "execution_count": 12,
   "metadata": {},
   "outputs": [],
   "source": [
    "xls_df['district'] = xls_df['district'].str.replace('\\u3000', '').str.strip()"
   ]
  },
  {
   "cell_type": "code",
   "execution_count": 13,
   "metadata": {},
   "outputs": [
    {
     "name": "stdout",
     "output_type": "stream",
     "text": [
      "['總計' '松山區' '信義區' '大安區' '中山區' '中正區' '大同區' '萬華區' '文山區' '南港區' '內湖區' '士林區'\n",
      " '北投區']\n"
     ]
    }
   ],
   "source": [
    "print(xls_df[\"district\"].unique())"
   ]
  },
  {
   "cell_type": "markdown",
   "metadata": {},
   "source": [
    "### 刪除得票數總計、小計列"
   ]
  },
  {
   "cell_type": "code",
   "execution_count": 14,
   "metadata": {},
   "outputs": [],
   "source": [
    "xls_df = xls_df.dropna().reset_index(drop=True)"
   ]
  },
  {
   "cell_type": "code",
   "execution_count": 15,
   "metadata": {},
   "outputs": [
    {
     "data": {
      "text/html": [
       "<div>\n",
       "<style scoped>\n",
       "    .dataframe tbody tr th:only-of-type {\n",
       "        vertical-align: middle;\n",
       "    }\n",
       "\n",
       "    .dataframe tbody tr th {\n",
       "        vertical-align: top;\n",
       "    }\n",
       "\n",
       "    .dataframe thead th {\n",
       "        text-align: right;\n",
       "    }\n",
       "</style>\n",
       "<table border=\"1\" class=\"dataframe\">\n",
       "  <thead>\n",
       "    <tr style=\"text-align: right;\">\n",
       "      <th></th>\n",
       "      <th>district</th>\n",
       "      <th>village</th>\n",
       "      <th>office</th>\n",
       "      <th>(1)\\n宋楚瑜\\n余湘</th>\n",
       "      <th>(2)\\n韓國瑜\\n張善政</th>\n",
       "      <th>(3)\\n蔡英文\\n賴清德</th>\n",
       "      <th>A</th>\n",
       "      <th>B</th>\n",
       "      <th>C</th>\n",
       "      <th>D</th>\n",
       "      <th>E</th>\n",
       "      <th>F</th>\n",
       "      <th>G</th>\n",
       "      <th>H</th>\n",
       "    </tr>\n",
       "  </thead>\n",
       "  <tbody>\n",
       "    <tr>\n",
       "      <th>0</th>\n",
       "      <td>松山區</td>\n",
       "      <td>莊敬里</td>\n",
       "      <td>573.0</td>\n",
       "      <td>36</td>\n",
       "      <td>391</td>\n",
       "      <td>429</td>\n",
       "      <td>856</td>\n",
       "      <td>14</td>\n",
       "      <td>870</td>\n",
       "      <td>0</td>\n",
       "      <td>870</td>\n",
       "      <td>230</td>\n",
       "      <td>1,100</td>\n",
       "      <td>79.0909</td>\n",
       "    </tr>\n",
       "    <tr>\n",
       "      <th>1</th>\n",
       "      <td>松山區</td>\n",
       "      <td>莊敬里</td>\n",
       "      <td>574.0</td>\n",
       "      <td>46</td>\n",
       "      <td>382</td>\n",
       "      <td>438</td>\n",
       "      <td>866</td>\n",
       "      <td>12</td>\n",
       "      <td>878</td>\n",
       "      <td>0</td>\n",
       "      <td>878</td>\n",
       "      <td>259</td>\n",
       "      <td>1,137</td>\n",
       "      <td>77.2208</td>\n",
       "    </tr>\n",
       "    <tr>\n",
       "      <th>2</th>\n",
       "      <td>松山區</td>\n",
       "      <td>莊敬里</td>\n",
       "      <td>575.0</td>\n",
       "      <td>48</td>\n",
       "      <td>393</td>\n",
       "      <td>389</td>\n",
       "      <td>830</td>\n",
       "      <td>22</td>\n",
       "      <td>852</td>\n",
       "      <td>0</td>\n",
       "      <td>852</td>\n",
       "      <td>262</td>\n",
       "      <td>1,114</td>\n",
       "      <td>76.4811</td>\n",
       "    </tr>\n",
       "    <tr>\n",
       "      <th>3</th>\n",
       "      <td>松山區</td>\n",
       "      <td>莊敬里</td>\n",
       "      <td>576.0</td>\n",
       "      <td>43</td>\n",
       "      <td>389</td>\n",
       "      <td>462</td>\n",
       "      <td>894</td>\n",
       "      <td>14</td>\n",
       "      <td>908</td>\n",
       "      <td>0</td>\n",
       "      <td>908</td>\n",
       "      <td>271</td>\n",
       "      <td>1,179</td>\n",
       "      <td>77.0144</td>\n",
       "    </tr>\n",
       "    <tr>\n",
       "      <th>4</th>\n",
       "      <td>松山區</td>\n",
       "      <td>東榮里</td>\n",
       "      <td>577.0</td>\n",
       "      <td>38</td>\n",
       "      <td>431</td>\n",
       "      <td>545</td>\n",
       "      <td>1,014</td>\n",
       "      <td>18</td>\n",
       "      <td>1,032</td>\n",
       "      <td>0</td>\n",
       "      <td>1,032</td>\n",
       "      <td>272</td>\n",
       "      <td>1,304</td>\n",
       "      <td>79.1411</td>\n",
       "    </tr>\n",
       "  </tbody>\n",
       "</table>\n",
       "</div>"
      ],
      "text/plain": [
       "  district village  office (1)\\n宋楚瑜\\n余湘 (2)\\n韓國瑜\\n張善政 (3)\\n蔡英文\\n賴清德      A  \\\n",
       "0      松山區     莊敬里   573.0           36           391           429    856   \n",
       "1      松山區     莊敬里   574.0           46           382           438    866   \n",
       "2      松山區     莊敬里   575.0           48           393           389    830   \n",
       "3      松山區     莊敬里   576.0           43           389           462    894   \n",
       "4      松山區     東榮里   577.0           38           431           545  1,014   \n",
       "\n",
       "    B      C  D      E    F      G        H  \n",
       "0  14    870  0    870  230  1,100  79.0909  \n",
       "1  12    878  0    878  259  1,137  77.2208  \n",
       "2  22    852  0    852  262  1,114  76.4811  \n",
       "3  14    908  0    908  271  1,179  77.0144  \n",
       "4  18  1,032  0  1,032  272  1,304  79.1411  "
      ]
     },
     "execution_count": 15,
     "metadata": {},
     "output_type": "execute_result"
    }
   ],
   "source": [
    "xls_df.head()"
   ]
  },
  {
   "cell_type": "markdown",
   "metadata": {},
   "source": [
    "### 封裝程式"
   ]
  },
  {
   "cell_type": "code",
   "execution_count": 16,
   "metadata": {},
   "outputs": [],
   "source": [
    "import pandas as pd\n",
    "from string import ascii_uppercase  \n",
    "\n",
    "\n",
    "def get_tidy_data(file_path):\n",
    "    xls_df = pd.read_excel(file_path, skiprows=[0, 1, 3, 4]) #略過合併儲存格的列\n",
    "    column_names = list(xls_df.columns)\n",
    "    n_candidates = len(column_names) - 11\n",
    "    candidate_numbers_names = column_names[3:(3+n_candidates)]\n",
    "    column_names = [\"district\", \"village\", \"office\"] + candidate_numbers_names + list(ascii_uppercase[:8])\n",
    "    xls_df.columns = column_names\n",
    "    imputed_district = xls_df['district']\n",
    "    imputed_district = imputed_district.fillna(method=\"ffill\")\n",
    "    xls_df = xls_df.drop('district', axis=1)\n",
    "    xls_df.insert(0, 'district', imputed_district)\n",
    "    xls_df['district'] = xls_df['district'].str.replace('\\u3000', '').str.strip()\n",
    "    tidy_data = xls_df.dropna().reset_index(drop=True)\n",
    "    return tidy_data"
   ]
  },
  {
   "cell_type": "code",
   "execution_count": 17,
   "metadata": {},
   "outputs": [
    {
     "name": "stdout",
     "output_type": "stream",
     "text": [
      "%E7%B8%BD%E7%B5%B1-A05-4-%E5%80%99%E9%81%B8%E4%BA%BA%E5%BE%97%E7%A5%A8%E6%95%B8%E4%B8%80%E8%A6%BD%E8%A1%A8-%E5%90%84%E6%8A%95%E9%96%8B%E7%A5%A8%E6%89%80%28%E6%96%B0%E5%8C%97%E5%B8%82%29.xls\n"
     ]
    }
   ],
   "source": [
    "from urllib.parse import quote\n",
    "\n",
    "file_name = \"總統-A05-4-候選人得票數一覽表-各投開票所(新北市).xls\"\n",
    "file_name_url = quote(file_name) #轉換網址名稱\n",
    "print(file_name_url)\n",
    "\n",
    "file_path = \"https://taiwan-election-data.s3-ap-northeast-1.amazonaws.com/presidential_2020/{}\".format(file_name_url)"
   ]
  },
  {
   "cell_type": "code",
   "execution_count": 18,
   "metadata": {
    "scrolled": true
   },
   "outputs": [
    {
     "data": {
      "text/html": [
       "<div>\n",
       "<style scoped>\n",
       "    .dataframe tbody tr th:only-of-type {\n",
       "        vertical-align: middle;\n",
       "    }\n",
       "\n",
       "    .dataframe tbody tr th {\n",
       "        vertical-align: top;\n",
       "    }\n",
       "\n",
       "    .dataframe thead th {\n",
       "        text-align: right;\n",
       "    }\n",
       "</style>\n",
       "<table border=\"1\" class=\"dataframe\">\n",
       "  <thead>\n",
       "    <tr style=\"text-align: right;\">\n",
       "      <th></th>\n",
       "      <th>district</th>\n",
       "      <th>village</th>\n",
       "      <th>office</th>\n",
       "      <th>(1)\\n宋楚瑜\\n余湘</th>\n",
       "      <th>(2)\\n韓國瑜\\n張善政</th>\n",
       "      <th>(3)\\n蔡英文\\n賴清德</th>\n",
       "      <th>A</th>\n",
       "      <th>B</th>\n",
       "      <th>C</th>\n",
       "      <th>D</th>\n",
       "      <th>E</th>\n",
       "      <th>F</th>\n",
       "      <th>G</th>\n",
       "      <th>H</th>\n",
       "    </tr>\n",
       "  </thead>\n",
       "  <tbody>\n",
       "    <tr>\n",
       "      <th>0</th>\n",
       "      <td>板橋區</td>\n",
       "      <td>留侯里</td>\n",
       "      <td>1124.0</td>\n",
       "      <td>58</td>\n",
       "      <td>430</td>\n",
       "      <td>557</td>\n",
       "      <td>1,045</td>\n",
       "      <td>24</td>\n",
       "      <td>1,069</td>\n",
       "      <td>0</td>\n",
       "      <td>1,069</td>\n",
       "      <td>304</td>\n",
       "      <td>1,373</td>\n",
       "      <td>77.8587</td>\n",
       "    </tr>\n",
       "    <tr>\n",
       "      <th>1</th>\n",
       "      <td>板橋區</td>\n",
       "      <td>流芳里</td>\n",
       "      <td>1125.0</td>\n",
       "      <td>50</td>\n",
       "      <td>345</td>\n",
       "      <td>534</td>\n",
       "      <td>929</td>\n",
       "      <td>6</td>\n",
       "      <td>935</td>\n",
       "      <td>0</td>\n",
       "      <td>935</td>\n",
       "      <td>311</td>\n",
       "      <td>1,246</td>\n",
       "      <td>75.0401</td>\n",
       "    </tr>\n",
       "    <tr>\n",
       "      <th>2</th>\n",
       "      <td>板橋區</td>\n",
       "      <td>赤松里</td>\n",
       "      <td>1126.0</td>\n",
       "      <td>24</td>\n",
       "      <td>218</td>\n",
       "      <td>336</td>\n",
       "      <td>578</td>\n",
       "      <td>15</td>\n",
       "      <td>593</td>\n",
       "      <td>0</td>\n",
       "      <td>593</td>\n",
       "      <td>153</td>\n",
       "      <td>746</td>\n",
       "      <td>79.4906</td>\n",
       "    </tr>\n",
       "    <tr>\n",
       "      <th>3</th>\n",
       "      <td>板橋區</td>\n",
       "      <td>黃石里</td>\n",
       "      <td>1127.0</td>\n",
       "      <td>35</td>\n",
       "      <td>248</td>\n",
       "      <td>423</td>\n",
       "      <td>706</td>\n",
       "      <td>13</td>\n",
       "      <td>719</td>\n",
       "      <td>0</td>\n",
       "      <td>719</td>\n",
       "      <td>230</td>\n",
       "      <td>949</td>\n",
       "      <td>75.7640</td>\n",
       "    </tr>\n",
       "    <tr>\n",
       "      <th>4</th>\n",
       "      <td>板橋區</td>\n",
       "      <td>挹秀里</td>\n",
       "      <td>1128.0</td>\n",
       "      <td>37</td>\n",
       "      <td>289</td>\n",
       "      <td>351</td>\n",
       "      <td>677</td>\n",
       "      <td>13</td>\n",
       "      <td>690</td>\n",
       "      <td>0</td>\n",
       "      <td>690</td>\n",
       "      <td>188</td>\n",
       "      <td>878</td>\n",
       "      <td>78.5877</td>\n",
       "    </tr>\n",
       "    <tr>\n",
       "      <th>...</th>\n",
       "      <td>...</td>\n",
       "      <td>...</td>\n",
       "      <td>...</td>\n",
       "      <td>...</td>\n",
       "      <td>...</td>\n",
       "      <td>...</td>\n",
       "      <td>...</td>\n",
       "      <td>...</td>\n",
       "      <td>...</td>\n",
       "      <td>...</td>\n",
       "      <td>...</td>\n",
       "      <td>...</td>\n",
       "      <td>...</td>\n",
       "      <td>...</td>\n",
       "    </tr>\n",
       "    <tr>\n",
       "      <th>2554</th>\n",
       "      <td>烏來區</td>\n",
       "      <td>烏來里</td>\n",
       "      <td>2300.0</td>\n",
       "      <td>38</td>\n",
       "      <td>363</td>\n",
       "      <td>438</td>\n",
       "      <td>839</td>\n",
       "      <td>5</td>\n",
       "      <td>844</td>\n",
       "      <td>0</td>\n",
       "      <td>844</td>\n",
       "      <td>324</td>\n",
       "      <td>1,168</td>\n",
       "      <td>72.2603</td>\n",
       "    </tr>\n",
       "    <tr>\n",
       "      <th>2555</th>\n",
       "      <td>烏來區</td>\n",
       "      <td>烏來里</td>\n",
       "      <td>2301.0</td>\n",
       "      <td>47</td>\n",
       "      <td>454</td>\n",
       "      <td>304</td>\n",
       "      <td>805</td>\n",
       "      <td>9</td>\n",
       "      <td>814</td>\n",
       "      <td>0</td>\n",
       "      <td>814</td>\n",
       "      <td>330</td>\n",
       "      <td>1,144</td>\n",
       "      <td>71.1538</td>\n",
       "    </tr>\n",
       "    <tr>\n",
       "      <th>2556</th>\n",
       "      <td>烏來區</td>\n",
       "      <td>孝義里</td>\n",
       "      <td>2302.0</td>\n",
       "      <td>3</td>\n",
       "      <td>63</td>\n",
       "      <td>112</td>\n",
       "      <td>178</td>\n",
       "      <td>4</td>\n",
       "      <td>182</td>\n",
       "      <td>0</td>\n",
       "      <td>182</td>\n",
       "      <td>51</td>\n",
       "      <td>233</td>\n",
       "      <td>78.1116</td>\n",
       "    </tr>\n",
       "    <tr>\n",
       "      <th>2557</th>\n",
       "      <td>烏來區</td>\n",
       "      <td>信賢里</td>\n",
       "      <td>2303.0</td>\n",
       "      <td>11</td>\n",
       "      <td>158</td>\n",
       "      <td>172</td>\n",
       "      <td>341</td>\n",
       "      <td>6</td>\n",
       "      <td>347</td>\n",
       "      <td>0</td>\n",
       "      <td>347</td>\n",
       "      <td>136</td>\n",
       "      <td>483</td>\n",
       "      <td>71.8427</td>\n",
       "    </tr>\n",
       "    <tr>\n",
       "      <th>2558</th>\n",
       "      <td>烏來區</td>\n",
       "      <td>福山里</td>\n",
       "      <td>2304.0</td>\n",
       "      <td>12</td>\n",
       "      <td>252</td>\n",
       "      <td>110</td>\n",
       "      <td>374</td>\n",
       "      <td>8</td>\n",
       "      <td>382</td>\n",
       "      <td>0</td>\n",
       "      <td>382</td>\n",
       "      <td>221</td>\n",
       "      <td>603</td>\n",
       "      <td>63.3499</td>\n",
       "    </tr>\n",
       "  </tbody>\n",
       "</table>\n",
       "<p>2559 rows × 14 columns</p>\n",
       "</div>"
      ],
      "text/plain": [
       "     district village  office (1)\\n宋楚瑜\\n余湘 (2)\\n韓國瑜\\n張善政 (3)\\n蔡英文\\n賴清德      A  \\\n",
       "0         板橋區     留侯里  1124.0           58           430           557  1,045   \n",
       "1         板橋區     流芳里  1125.0           50           345           534    929   \n",
       "2         板橋區     赤松里  1126.0           24           218           336    578   \n",
       "3         板橋區     黃石里  1127.0           35           248           423    706   \n",
       "4         板橋區     挹秀里  1128.0           37           289           351    677   \n",
       "...       ...     ...     ...          ...           ...           ...    ...   \n",
       "2554      烏來區     烏來里  2300.0           38           363           438    839   \n",
       "2555      烏來區     烏來里  2301.0           47           454           304    805   \n",
       "2556      烏來區     孝義里  2302.0            3            63           112    178   \n",
       "2557      烏來區     信賢里  2303.0           11           158           172    341   \n",
       "2558      烏來區     福山里  2304.0           12           252           110    374   \n",
       "\n",
       "       B      C  D      E    F      G        H  \n",
       "0     24  1,069  0  1,069  304  1,373  77.8587  \n",
       "1      6    935  0    935  311  1,246  75.0401  \n",
       "2     15    593  0    593  153    746  79.4906  \n",
       "3     13    719  0    719  230    949  75.7640  \n",
       "4     13    690  0    690  188    878  78.5877  \n",
       "...   ..    ... ..    ...  ...    ...      ...  \n",
       "2554   5    844  0    844  324  1,168  72.2603  \n",
       "2555   9    814  0    814  330  1,144  71.1538  \n",
       "2556   4    182  0    182   51    233  78.1116  \n",
       "2557   6    347  0    347  136    483  71.8427  \n",
       "2558   8    382  0    382  221    603  63.3499  \n",
       "\n",
       "[2559 rows x 14 columns]"
      ]
     },
     "execution_count": 18,
     "metadata": {},
     "output_type": "execute_result"
    }
   ],
   "source": [
    "get_tidy_data(file_path)"
   ]
  },
  {
   "cell_type": "markdown",
   "metadata": {},
   "source": [
    "### 盤點多張試算表"
   ]
  },
  {
   "cell_type": "code",
   "execution_count": 19,
   "metadata": {},
   "outputs": [],
   "source": [
    "admin_areas = [\"臺北市\", \"新北市\", \"桃園市\", \"臺中市\", \"臺南市\", \"高雄市\", \"新竹縣\", \"苗栗縣\", \"彰化縣\", \"南投縣\", \"雲林縣\", \"嘉義縣\", \"屏東縣\", \"宜蘭縣\", \"花蓮縣\", \"臺東縣\", \"澎湖縣\", \"基隆市\", \"新竹市\", \"嘉義市\", \"金門縣\", \"連江縣\"]\n",
    "file_names = [\"總統-A05-4-候選人得票數一覽表-各投開票所({}).xls\".format(admin_area) for admin_area in admin_areas]\n",
    "file_name_urls = [quote(file_name) for file_name in file_names]\n",
    "file_paths = [\"https://taiwan-election-data.s3-ap-northeast-1.amazonaws.com/presidential_2020/{}\".format(file_name_url) for file_name_url in file_name_urls]"
   ]
  },
  {
   "cell_type": "code",
   "execution_count": 20,
   "metadata": {
    "scrolled": true
   },
   "outputs": [
    {
     "name": "stdout",
     "output_type": "stream",
     "text": [
      "現在正在處理臺北市的資料...\n",
      "資料外觀為： (1728, 14)\n",
      "現在正在處理新北市的資料...\n",
      "資料外觀為： (2559, 14)\n",
      "現在正在處理桃園市的資料...\n",
      "資料外觀為： (1242, 14)\n",
      "現在正在處理臺中市的資料...\n",
      "資料外觀為： (1849, 14)\n",
      "現在正在處理臺南市的資料...\n",
      "資料外觀為： (1507, 14)\n",
      "現在正在處理高雄市的資料...\n",
      "資料外觀為： (2006, 14)\n",
      "現在正在處理新竹縣的資料...\n",
      "資料外觀為： (445, 14)\n",
      "現在正在處理苗栗縣的資料...\n",
      "資料外觀為： (480, 14)\n",
      "現在正在處理彰化縣的資料...\n",
      "資料外觀為： (1071, 14)\n",
      "現在正在處理南投縣的資料...\n",
      "資料外觀為： (492, 14)\n",
      "現在正在處理雲林縣的資料...\n",
      "資料外觀為： (609, 14)\n",
      "現在正在處理嘉義縣的資料...\n",
      "資料外觀為： (530, 14)\n",
      "現在正在處理屏東縣的資料...\n",
      "資料外觀為： (705, 14)\n",
      "現在正在處理宜蘭縣的資料...\n",
      "資料外觀為： (421, 14)\n",
      "現在正在處理花蓮縣的資料...\n",
      "資料外觀為： (324, 14)\n",
      "現在正在處理臺東縣的資料...\n",
      "資料外觀為： (236, 14)\n",
      "現在正在處理澎湖縣的資料...\n",
      "資料外觀為： (119, 14)\n",
      "現在正在處理基隆市的資料...\n",
      "資料外觀為： (274, 14)\n",
      "現在正在處理新竹市的資料...\n",
      "資料外觀為： (344, 14)\n",
      "現在正在處理嘉義市的資料...\n",
      "資料外觀為： (191, 14)\n",
      "現在正在處理金門縣的資料...\n",
      "資料外觀為： (84, 14)\n",
      "現在正在處理連江縣的資料...\n",
      "資料外觀為： (10, 14)\n"
     ]
    }
   ],
   "source": [
    "df_dict = {}\n",
    "for file_path, admin_area in zip(file_paths, admin_areas):\n",
    "    tidy_df = get_tidy_data(file_path)\n",
    "    df_dict[admin_area] = tidy_df\n",
    "    print(\"現在正在處理{}的資料...\".format(admin_area))\n",
    "    print(\"資料外觀為：\", tidy_df.shape)"
   ]
  },
  {
   "cell_type": "code",
   "execution_count": 21,
   "metadata": {},
   "outputs": [
    {
     "data": {
      "text/html": [
       "<div>\n",
       "<style scoped>\n",
       "    .dataframe tbody tr th:only-of-type {\n",
       "        vertical-align: middle;\n",
       "    }\n",
       "\n",
       "    .dataframe tbody tr th {\n",
       "        vertical-align: top;\n",
       "    }\n",
       "\n",
       "    .dataframe thead th {\n",
       "        text-align: right;\n",
       "    }\n",
       "</style>\n",
       "<table border=\"1\" class=\"dataframe\">\n",
       "  <thead>\n",
       "    <tr style=\"text-align: right;\">\n",
       "      <th></th>\n",
       "      <th>district</th>\n",
       "      <th>village</th>\n",
       "      <th>office</th>\n",
       "      <th>(1)\\n宋楚瑜\\n余湘</th>\n",
       "      <th>(2)\\n韓國瑜\\n張善政</th>\n",
       "      <th>(3)\\n蔡英文\\n賴清德</th>\n",
       "      <th>A</th>\n",
       "      <th>B</th>\n",
       "      <th>C</th>\n",
       "      <th>D</th>\n",
       "      <th>E</th>\n",
       "      <th>F</th>\n",
       "      <th>G</th>\n",
       "      <th>H</th>\n",
       "    </tr>\n",
       "  </thead>\n",
       "  <tbody>\n",
       "    <tr>\n",
       "      <th>0</th>\n",
       "      <td>松山區</td>\n",
       "      <td>莊敬里</td>\n",
       "      <td>573.0</td>\n",
       "      <td>36</td>\n",
       "      <td>391</td>\n",
       "      <td>429</td>\n",
       "      <td>856</td>\n",
       "      <td>14</td>\n",
       "      <td>870</td>\n",
       "      <td>0</td>\n",
       "      <td>870</td>\n",
       "      <td>230</td>\n",
       "      <td>1,100</td>\n",
       "      <td>79.0909</td>\n",
       "    </tr>\n",
       "    <tr>\n",
       "      <th>1</th>\n",
       "      <td>松山區</td>\n",
       "      <td>莊敬里</td>\n",
       "      <td>574.0</td>\n",
       "      <td>46</td>\n",
       "      <td>382</td>\n",
       "      <td>438</td>\n",
       "      <td>866</td>\n",
       "      <td>12</td>\n",
       "      <td>878</td>\n",
       "      <td>0</td>\n",
       "      <td>878</td>\n",
       "      <td>259</td>\n",
       "      <td>1,137</td>\n",
       "      <td>77.2208</td>\n",
       "    </tr>\n",
       "    <tr>\n",
       "      <th>2</th>\n",
       "      <td>松山區</td>\n",
       "      <td>莊敬里</td>\n",
       "      <td>575.0</td>\n",
       "      <td>48</td>\n",
       "      <td>393</td>\n",
       "      <td>389</td>\n",
       "      <td>830</td>\n",
       "      <td>22</td>\n",
       "      <td>852</td>\n",
       "      <td>0</td>\n",
       "      <td>852</td>\n",
       "      <td>262</td>\n",
       "      <td>1,114</td>\n",
       "      <td>76.4811</td>\n",
       "    </tr>\n",
       "    <tr>\n",
       "      <th>3</th>\n",
       "      <td>松山區</td>\n",
       "      <td>莊敬里</td>\n",
       "      <td>576.0</td>\n",
       "      <td>43</td>\n",
       "      <td>389</td>\n",
       "      <td>462</td>\n",
       "      <td>894</td>\n",
       "      <td>14</td>\n",
       "      <td>908</td>\n",
       "      <td>0</td>\n",
       "      <td>908</td>\n",
       "      <td>271</td>\n",
       "      <td>1,179</td>\n",
       "      <td>77.0144</td>\n",
       "    </tr>\n",
       "    <tr>\n",
       "      <th>4</th>\n",
       "      <td>松山區</td>\n",
       "      <td>東榮里</td>\n",
       "      <td>577.0</td>\n",
       "      <td>38</td>\n",
       "      <td>431</td>\n",
       "      <td>545</td>\n",
       "      <td>1,014</td>\n",
       "      <td>18</td>\n",
       "      <td>1,032</td>\n",
       "      <td>0</td>\n",
       "      <td>1,032</td>\n",
       "      <td>272</td>\n",
       "      <td>1,304</td>\n",
       "      <td>79.1411</td>\n",
       "    </tr>\n",
       "  </tbody>\n",
       "</table>\n",
       "</div>"
      ],
      "text/plain": [
       "  district village  office (1)\\n宋楚瑜\\n余湘 (2)\\n韓國瑜\\n張善政 (3)\\n蔡英文\\n賴清德      A  \\\n",
       "0      松山區     莊敬里   573.0           36           391           429    856   \n",
       "1      松山區     莊敬里   574.0           46           382           438    866   \n",
       "2      松山區     莊敬里   575.0           48           393           389    830   \n",
       "3      松山區     莊敬里   576.0           43           389           462    894   \n",
       "4      松山區     東榮里   577.0           38           431           545  1,014   \n",
       "\n",
       "    B      C  D      E    F      G        H  \n",
       "0  14    870  0    870  230  1,100  79.0909  \n",
       "1  12    878  0    878  259  1,137  77.2208  \n",
       "2  22    852  0    852  262  1,114  76.4811  \n",
       "3  14    908  0    908  271  1,179  77.0144  \n",
       "4  18  1,032  0  1,032  272  1,304  79.1411  "
      ]
     },
     "execution_count": 21,
     "metadata": {},
     "output_type": "execute_result"
    }
   ],
   "source": [
    "df_dict['臺北市'].head()"
   ]
  },
  {
   "cell_type": "code",
   "execution_count": 22,
   "metadata": {},
   "outputs": [
    {
     "data": {
      "text/html": [
       "<div>\n",
       "<style scoped>\n",
       "    .dataframe tbody tr th:only-of-type {\n",
       "        vertical-align: middle;\n",
       "    }\n",
       "\n",
       "    .dataframe tbody tr th {\n",
       "        vertical-align: top;\n",
       "    }\n",
       "\n",
       "    .dataframe thead th {\n",
       "        text-align: right;\n",
       "    }\n",
       "</style>\n",
       "<table border=\"1\" class=\"dataframe\">\n",
       "  <thead>\n",
       "    <tr style=\"text-align: right;\">\n",
       "      <th></th>\n",
       "      <th>district</th>\n",
       "      <th>village</th>\n",
       "      <th>office</th>\n",
       "      <th>(1)\\n宋楚瑜\\n余湘</th>\n",
       "      <th>(2)\\n韓國瑜\\n張善政</th>\n",
       "      <th>(3)\\n蔡英文\\n賴清德</th>\n",
       "      <th>A</th>\n",
       "      <th>B</th>\n",
       "      <th>C</th>\n",
       "      <th>D</th>\n",
       "      <th>E</th>\n",
       "      <th>F</th>\n",
       "      <th>G</th>\n",
       "      <th>H</th>\n",
       "    </tr>\n",
       "  </thead>\n",
       "  <tbody>\n",
       "    <tr>\n",
       "      <th>0</th>\n",
       "      <td>板橋區</td>\n",
       "      <td>留侯里</td>\n",
       "      <td>1124.0</td>\n",
       "      <td>58</td>\n",
       "      <td>430</td>\n",
       "      <td>557</td>\n",
       "      <td>1,045</td>\n",
       "      <td>24</td>\n",
       "      <td>1,069</td>\n",
       "      <td>0</td>\n",
       "      <td>1,069</td>\n",
       "      <td>304</td>\n",
       "      <td>1,373</td>\n",
       "      <td>77.8587</td>\n",
       "    </tr>\n",
       "    <tr>\n",
       "      <th>1</th>\n",
       "      <td>板橋區</td>\n",
       "      <td>流芳里</td>\n",
       "      <td>1125.0</td>\n",
       "      <td>50</td>\n",
       "      <td>345</td>\n",
       "      <td>534</td>\n",
       "      <td>929</td>\n",
       "      <td>6</td>\n",
       "      <td>935</td>\n",
       "      <td>0</td>\n",
       "      <td>935</td>\n",
       "      <td>311</td>\n",
       "      <td>1,246</td>\n",
       "      <td>75.0401</td>\n",
       "    </tr>\n",
       "    <tr>\n",
       "      <th>2</th>\n",
       "      <td>板橋區</td>\n",
       "      <td>赤松里</td>\n",
       "      <td>1126.0</td>\n",
       "      <td>24</td>\n",
       "      <td>218</td>\n",
       "      <td>336</td>\n",
       "      <td>578</td>\n",
       "      <td>15</td>\n",
       "      <td>593</td>\n",
       "      <td>0</td>\n",
       "      <td>593</td>\n",
       "      <td>153</td>\n",
       "      <td>746</td>\n",
       "      <td>79.4906</td>\n",
       "    </tr>\n",
       "    <tr>\n",
       "      <th>3</th>\n",
       "      <td>板橋區</td>\n",
       "      <td>黃石里</td>\n",
       "      <td>1127.0</td>\n",
       "      <td>35</td>\n",
       "      <td>248</td>\n",
       "      <td>423</td>\n",
       "      <td>706</td>\n",
       "      <td>13</td>\n",
       "      <td>719</td>\n",
       "      <td>0</td>\n",
       "      <td>719</td>\n",
       "      <td>230</td>\n",
       "      <td>949</td>\n",
       "      <td>75.7640</td>\n",
       "    </tr>\n",
       "    <tr>\n",
       "      <th>4</th>\n",
       "      <td>板橋區</td>\n",
       "      <td>挹秀里</td>\n",
       "      <td>1128.0</td>\n",
       "      <td>37</td>\n",
       "      <td>289</td>\n",
       "      <td>351</td>\n",
       "      <td>677</td>\n",
       "      <td>13</td>\n",
       "      <td>690</td>\n",
       "      <td>0</td>\n",
       "      <td>690</td>\n",
       "      <td>188</td>\n",
       "      <td>878</td>\n",
       "      <td>78.5877</td>\n",
       "    </tr>\n",
       "  </tbody>\n",
       "</table>\n",
       "</div>"
      ],
      "text/plain": [
       "  district village  office (1)\\n宋楚瑜\\n余湘 (2)\\n韓國瑜\\n張善政 (3)\\n蔡英文\\n賴清德      A  \\\n",
       "0      板橋區     留侯里  1124.0           58           430           557  1,045   \n",
       "1      板橋區     流芳里  1125.0           50           345           534    929   \n",
       "2      板橋區     赤松里  1126.0           24           218           336    578   \n",
       "3      板橋區     黃石里  1127.0           35           248           423    706   \n",
       "4      板橋區     挹秀里  1128.0           37           289           351    677   \n",
       "\n",
       "    B      C  D      E    F      G        H  \n",
       "0  24  1,069  0  1,069  304  1,373  77.8587  \n",
       "1   6    935  0    935  311  1,246  75.0401  \n",
       "2  15    593  0    593  153    746  79.4906  \n",
       "3  13    719  0    719  230    949  75.7640  \n",
       "4  13    690  0    690  188    878  78.5877  "
      ]
     },
     "execution_count": 22,
     "metadata": {},
     "output_type": "execute_result"
    }
   ],
   "source": [
    "df_dict['新北市'].head()"
   ]
  },
  {
   "cell_type": "markdown",
   "metadata": {},
   "source": [
    "## 多張試算表處理步驟-垂直合併\n",
    "1. 將歸屬於「投票所」的變數欄位捨棄\n",
    "2. 轉置資料框將得票數歸屬到「候選人」\n",
    "3. 垂直合併 22 個資料框\n",
    "4. 新增「候選人號碼」與「候選人姓名」\n",
    "5. 新增「政黨」\n",
    "6. 調整變數的型別"
   ]
  },
  {
   "cell_type": "code",
   "execution_count": null,
   "metadata": {},
   "outputs": [],
   "source": [
    "tpe = df_dict['臺北市']\n",
    "tpe.head()"
   ]
  },
  {
   "cell_type": "code",
   "execution_count": null,
   "metadata": {
    "scrolled": true
   },
   "outputs": [],
   "source": [
    "tpe.drop(list(ascii_uppercase[:8]), axis=1)"
   ]
  },
  {
   "cell_type": "code",
   "execution_count": null,
   "metadata": {},
   "outputs": [],
   "source": [
    "# 轉置\n",
    "candidate_infos = list(tpe.columns[3:])\n",
    "tpe = pd.melt(tpe, id_vars=['district', 'village', 'office'], value_vars=candidate_infos, var_name=\"candidate_info\", value_name='votes')\n",
    "tpe.head()"
   ]
  },
  {
   "cell_type": "code",
   "execution_count": 25,
   "metadata": {},
   "outputs": [],
   "source": [
    "presidential_votes = pd.DataFrame()\n",
    "\n",
    "for admin_area in admin_areas:\n",
    "    admin_area_df = df_dict[admin_area]\n",
    "    #drop\n",
    "    admin_area_df = admin_area_df.drop(list(ascii_uppercase[:8]), axis=1)\n",
    "    \n",
    "    #transpose\n",
    "    candidate_infos = list(admin_area_df.columns[3:])\n",
    "    long_format = pd.melt(admin_area_df, id_vars=['district', 'village', 'office'], value_vars=candidate_infos, var_name=\"candidate_info\", value_name='votes')\n",
    "    long_format['admin_area'] = admin_area\n",
    "    presidential_votes = presidential_votes.append(long_format)\n",
    "    \n",
    "presidential_votes = presidential_votes.reset_index(drop=True)\n"
   ]
  },
  {
   "cell_type": "code",
   "execution_count": 26,
   "metadata": {},
   "outputs": [
    {
     "data": {
      "text/html": [
       "<div>\n",
       "<style scoped>\n",
       "    .dataframe tbody tr th:only-of-type {\n",
       "        vertical-align: middle;\n",
       "    }\n",
       "\n",
       "    .dataframe tbody tr th {\n",
       "        vertical-align: top;\n",
       "    }\n",
       "\n",
       "    .dataframe thead th {\n",
       "        text-align: right;\n",
       "    }\n",
       "</style>\n",
       "<table border=\"1\" class=\"dataframe\">\n",
       "  <thead>\n",
       "    <tr style=\"text-align: right;\">\n",
       "      <th></th>\n",
       "      <th>district</th>\n",
       "      <th>village</th>\n",
       "      <th>office</th>\n",
       "      <th>candidate_info</th>\n",
       "      <th>votes</th>\n",
       "      <th>admin_area</th>\n",
       "    </tr>\n",
       "  </thead>\n",
       "  <tbody>\n",
       "    <tr>\n",
       "      <th>0</th>\n",
       "      <td>松山區</td>\n",
       "      <td>莊敬里</td>\n",
       "      <td>573.0</td>\n",
       "      <td>(1)\\n宋楚瑜\\n余湘</td>\n",
       "      <td>36</td>\n",
       "      <td>臺北市</td>\n",
       "    </tr>\n",
       "    <tr>\n",
       "      <th>1</th>\n",
       "      <td>松山區</td>\n",
       "      <td>莊敬里</td>\n",
       "      <td>574.0</td>\n",
       "      <td>(1)\\n宋楚瑜\\n余湘</td>\n",
       "      <td>46</td>\n",
       "      <td>臺北市</td>\n",
       "    </tr>\n",
       "    <tr>\n",
       "      <th>2</th>\n",
       "      <td>松山區</td>\n",
       "      <td>莊敬里</td>\n",
       "      <td>575.0</td>\n",
       "      <td>(1)\\n宋楚瑜\\n余湘</td>\n",
       "      <td>48</td>\n",
       "      <td>臺北市</td>\n",
       "    </tr>\n",
       "    <tr>\n",
       "      <th>3</th>\n",
       "      <td>松山區</td>\n",
       "      <td>莊敬里</td>\n",
       "      <td>576.0</td>\n",
       "      <td>(1)\\n宋楚瑜\\n余湘</td>\n",
       "      <td>43</td>\n",
       "      <td>臺北市</td>\n",
       "    </tr>\n",
       "    <tr>\n",
       "      <th>4</th>\n",
       "      <td>松山區</td>\n",
       "      <td>東榮里</td>\n",
       "      <td>577.0</td>\n",
       "      <td>(1)\\n宋楚瑜\\n余湘</td>\n",
       "      <td>38</td>\n",
       "      <td>臺北市</td>\n",
       "    </tr>\n",
       "  </tbody>\n",
       "</table>\n",
       "</div>"
      ],
      "text/plain": [
       "  district village  office candidate_info votes admin_area\n",
       "0      松山區     莊敬里   573.0   (1)\\n宋楚瑜\\n余湘    36        臺北市\n",
       "1      松山區     莊敬里   574.0   (1)\\n宋楚瑜\\n余湘    46        臺北市\n",
       "2      松山區     莊敬里   575.0   (1)\\n宋楚瑜\\n余湘    48        臺北市\n",
       "3      松山區     莊敬里   576.0   (1)\\n宋楚瑜\\n余湘    43        臺北市\n",
       "4      松山區     東榮里   577.0   (1)\\n宋楚瑜\\n余湘    38        臺北市"
      ]
     },
     "execution_count": 26,
     "metadata": {},
     "output_type": "execute_result"
    }
   ],
   "source": [
    "presidential_votes.head()"
   ]
  },
  {
   "cell_type": "code",
   "execution_count": 27,
   "metadata": {},
   "outputs": [
    {
     "data": {
      "text/html": [
       "<div>\n",
       "<style scoped>\n",
       "    .dataframe tbody tr th:only-of-type {\n",
       "        vertical-align: middle;\n",
       "    }\n",
       "\n",
       "    .dataframe tbody tr th {\n",
       "        vertical-align: top;\n",
       "    }\n",
       "\n",
       "    .dataframe thead th {\n",
       "        text-align: right;\n",
       "    }\n",
       "</style>\n",
       "<table border=\"1\" class=\"dataframe\">\n",
       "  <thead>\n",
       "    <tr style=\"text-align: right;\">\n",
       "      <th></th>\n",
       "      <th>district</th>\n",
       "      <th>village</th>\n",
       "      <th>office</th>\n",
       "      <th>candidate_info</th>\n",
       "      <th>votes</th>\n",
       "      <th>admin_area</th>\n",
       "    </tr>\n",
       "  </thead>\n",
       "  <tbody>\n",
       "    <tr>\n",
       "      <th>51673</th>\n",
       "      <td>北竿鄉</td>\n",
       "      <td>塘岐村、后沃村</td>\n",
       "      <td>6.0</td>\n",
       "      <td>(3)\\n蔡英文\\n賴清德</td>\n",
       "      <td>121</td>\n",
       "      <td>連江縣</td>\n",
       "    </tr>\n",
       "    <tr>\n",
       "      <th>51674</th>\n",
       "      <td>北竿鄉</td>\n",
       "      <td>橋仔村、芹壁村、坂里村、白沙村</td>\n",
       "      <td>7.0</td>\n",
       "      <td>(3)\\n蔡英文\\n賴清德</td>\n",
       "      <td>80</td>\n",
       "      <td>連江縣</td>\n",
       "    </tr>\n",
       "    <tr>\n",
       "      <th>51675</th>\n",
       "      <td>莒光鄉</td>\n",
       "      <td>青帆村、田沃村、西坵村</td>\n",
       "      <td>8.0</td>\n",
       "      <td>(3)\\n蔡英文\\n賴清德</td>\n",
       "      <td>43</td>\n",
       "      <td>連江縣</td>\n",
       "    </tr>\n",
       "    <tr>\n",
       "      <th>51676</th>\n",
       "      <td>莒光鄉</td>\n",
       "      <td>福正村、大坪村</td>\n",
       "      <td>9.0</td>\n",
       "      <td>(3)\\n蔡英文\\n賴清德</td>\n",
       "      <td>62</td>\n",
       "      <td>連江縣</td>\n",
       "    </tr>\n",
       "    <tr>\n",
       "      <th>51677</th>\n",
       "      <td>東引鄉</td>\n",
       "      <td>中柳村、樂華村</td>\n",
       "      <td>10.0</td>\n",
       "      <td>(3)\\n蔡英文\\n賴清德</td>\n",
       "      <td>136</td>\n",
       "      <td>連江縣</td>\n",
       "    </tr>\n",
       "  </tbody>\n",
       "</table>\n",
       "</div>"
      ],
      "text/plain": [
       "      district          village  office candidate_info votes admin_area\n",
       "51673      北竿鄉          塘岐村、后沃村     6.0  (3)\\n蔡英文\\n賴清德   121        連江縣\n",
       "51674      北竿鄉  橋仔村、芹壁村、坂里村、白沙村     7.0  (3)\\n蔡英文\\n賴清德    80        連江縣\n",
       "51675      莒光鄉      青帆村、田沃村、西坵村     8.0  (3)\\n蔡英文\\n賴清德    43        連江縣\n",
       "51676      莒光鄉          福正村、大坪村     9.0  (3)\\n蔡英文\\n賴清德    62        連江縣\n",
       "51677      東引鄉          中柳村、樂華村    10.0  (3)\\n蔡英文\\n賴清德   136        連江縣"
      ]
     },
     "execution_count": 27,
     "metadata": {},
     "output_type": "execute_result"
    }
   ],
   "source": [
    "presidential_votes.tail()"
   ]
  },
  {
   "cell_type": "code",
   "execution_count": 28,
   "metadata": {},
   "outputs": [
    {
     "data": {
      "text/html": [
       "<div>\n",
       "<style scoped>\n",
       "    .dataframe tbody tr th:only-of-type {\n",
       "        vertical-align: middle;\n",
       "    }\n",
       "\n",
       "    .dataframe tbody tr th {\n",
       "        vertical-align: top;\n",
       "    }\n",
       "\n",
       "    .dataframe thead th {\n",
       "        text-align: right;\n",
       "    }\n",
       "</style>\n",
       "<table border=\"1\" class=\"dataframe\">\n",
       "  <thead>\n",
       "    <tr style=\"text-align: right;\">\n",
       "      <th></th>\n",
       "      <th>district</th>\n",
       "      <th>village</th>\n",
       "      <th>office</th>\n",
       "      <th>candidate_info</th>\n",
       "      <th>votes</th>\n",
       "      <th>admin_area</th>\n",
       "      <th>number</th>\n",
       "      <th>candidates</th>\n",
       "    </tr>\n",
       "  </thead>\n",
       "  <tbody>\n",
       "    <tr>\n",
       "      <th>0</th>\n",
       "      <td>松山區</td>\n",
       "      <td>莊敬里</td>\n",
       "      <td>573.0</td>\n",
       "      <td>(1)\\n宋楚瑜\\n余湘</td>\n",
       "      <td>36</td>\n",
       "      <td>臺北市</td>\n",
       "      <td>1</td>\n",
       "      <td>宋楚瑜/余湘</td>\n",
       "    </tr>\n",
       "    <tr>\n",
       "      <th>1</th>\n",
       "      <td>松山區</td>\n",
       "      <td>莊敬里</td>\n",
       "      <td>574.0</td>\n",
       "      <td>(1)\\n宋楚瑜\\n余湘</td>\n",
       "      <td>46</td>\n",
       "      <td>臺北市</td>\n",
       "      <td>1</td>\n",
       "      <td>宋楚瑜/余湘</td>\n",
       "    </tr>\n",
       "    <tr>\n",
       "      <th>2</th>\n",
       "      <td>松山區</td>\n",
       "      <td>莊敬里</td>\n",
       "      <td>575.0</td>\n",
       "      <td>(1)\\n宋楚瑜\\n余湘</td>\n",
       "      <td>48</td>\n",
       "      <td>臺北市</td>\n",
       "      <td>1</td>\n",
       "      <td>宋楚瑜/余湘</td>\n",
       "    </tr>\n",
       "    <tr>\n",
       "      <th>3</th>\n",
       "      <td>松山區</td>\n",
       "      <td>莊敬里</td>\n",
       "      <td>576.0</td>\n",
       "      <td>(1)\\n宋楚瑜\\n余湘</td>\n",
       "      <td>43</td>\n",
       "      <td>臺北市</td>\n",
       "      <td>1</td>\n",
       "      <td>宋楚瑜/余湘</td>\n",
       "    </tr>\n",
       "    <tr>\n",
       "      <th>4</th>\n",
       "      <td>松山區</td>\n",
       "      <td>東榮里</td>\n",
       "      <td>577.0</td>\n",
       "      <td>(1)\\n宋楚瑜\\n余湘</td>\n",
       "      <td>38</td>\n",
       "      <td>臺北市</td>\n",
       "      <td>1</td>\n",
       "      <td>宋楚瑜/余湘</td>\n",
       "    </tr>\n",
       "  </tbody>\n",
       "</table>\n",
       "</div>"
      ],
      "text/plain": [
       "  district village  office candidate_info votes admin_area number candidates\n",
       "0      松山區     莊敬里   573.0   (1)\\n宋楚瑜\\n余湘    36        臺北市      1     宋楚瑜/余湘\n",
       "1      松山區     莊敬里   574.0   (1)\\n宋楚瑜\\n余湘    46        臺北市      1     宋楚瑜/余湘\n",
       "2      松山區     莊敬里   575.0   (1)\\n宋楚瑜\\n余湘    48        臺北市      1     宋楚瑜/余湘\n",
       "3      松山區     莊敬里   576.0   (1)\\n宋楚瑜\\n余湘    43        臺北市      1     宋楚瑜/余湘\n",
       "4      松山區     東榮里   577.0   (1)\\n宋楚瑜\\n余湘    38        臺北市      1     宋楚瑜/余湘"
      ]
     },
     "execution_count": 28,
     "metadata": {},
     "output_type": "execute_result"
    }
   ],
   "source": [
    "split_candidate_info = presidential_votes[\"candidate_info\"].str.split(\"\\n\", expand=True)\n",
    "presidential_votes[\"number\"] = split_candidate_info[0].str.replace('\\(', '').str.replace('\\)', '') #小括號是在集合有意義的，所以要加 \\(跳脫字元)\n",
    "presidential_votes[\"candidates\"] = split_candidate_info[1].str.cat(split_candidate_info[2], '/')\n",
    "presidential_votes.head()"
   ]
  },
  {
   "cell_type": "code",
   "execution_count": 29,
   "metadata": {},
   "outputs": [],
   "source": [
    "def get_party(number):\n",
    "    if number == '1':\n",
    "        party = '親民黨'\n",
    "    elif number == '2':\n",
    "        party = '中國國民黨'\n",
    "    elif number =='3':\n",
    "        party = '民主進步黨'\n",
    "    \n",
    "    return party"
   ]
  },
  {
   "cell_type": "code",
   "execution_count": 30,
   "metadata": {},
   "outputs": [],
   "source": [
    "presidential_votes['party'] = presidential_votes['number'].apply(get_party)"
   ]
  },
  {
   "cell_type": "code",
   "execution_count": 31,
   "metadata": {},
   "outputs": [
    {
     "data": {
      "text/plain": [
       "中國國民黨    17226\n",
       "民主進步黨    17226\n",
       "親民黨      17226\n",
       "Name: party, dtype: int64"
      ]
     },
     "execution_count": 31,
     "metadata": {},
     "output_type": "execute_result"
    }
   ],
   "source": [
    "presidential_votes['party'].value_counts()"
   ]
  },
  {
   "cell_type": "code",
   "execution_count": 32,
   "metadata": {
    "scrolled": true
   },
   "outputs": [
    {
     "data": {
      "text/plain": [
       "(51678, 9)"
      ]
     },
     "execution_count": 32,
     "metadata": {},
     "output_type": "execute_result"
    }
   ],
   "source": [
    "presidential_votes.shape"
   ]
  },
  {
   "cell_type": "code",
   "execution_count": 33,
   "metadata": {},
   "outputs": [],
   "source": [
    "presidential_votes = presidential_votes[[\"admin_area\", \"district\", \"village\", \"office\", \"number\", \"party\", \"candidates\", \"votes\"]]"
   ]
  },
  {
   "cell_type": "code",
   "execution_count": 34,
   "metadata": {},
   "outputs": [
    {
     "data": {
      "text/html": [
       "<div>\n",
       "<style scoped>\n",
       "    .dataframe tbody tr th:only-of-type {\n",
       "        vertical-align: middle;\n",
       "    }\n",
       "\n",
       "    .dataframe tbody tr th {\n",
       "        vertical-align: top;\n",
       "    }\n",
       "\n",
       "    .dataframe thead th {\n",
       "        text-align: right;\n",
       "    }\n",
       "</style>\n",
       "<table border=\"1\" class=\"dataframe\">\n",
       "  <thead>\n",
       "    <tr style=\"text-align: right;\">\n",
       "      <th></th>\n",
       "      <th>admin_area</th>\n",
       "      <th>district</th>\n",
       "      <th>village</th>\n",
       "      <th>office</th>\n",
       "      <th>number</th>\n",
       "      <th>party</th>\n",
       "      <th>candidates</th>\n",
       "      <th>votes</th>\n",
       "    </tr>\n",
       "  </thead>\n",
       "  <tbody>\n",
       "    <tr>\n",
       "      <th>0</th>\n",
       "      <td>臺北市</td>\n",
       "      <td>松山區</td>\n",
       "      <td>莊敬里</td>\n",
       "      <td>573.0</td>\n",
       "      <td>1</td>\n",
       "      <td>親民黨</td>\n",
       "      <td>宋楚瑜/余湘</td>\n",
       "      <td>36</td>\n",
       "    </tr>\n",
       "    <tr>\n",
       "      <th>1</th>\n",
       "      <td>臺北市</td>\n",
       "      <td>松山區</td>\n",
       "      <td>莊敬里</td>\n",
       "      <td>574.0</td>\n",
       "      <td>1</td>\n",
       "      <td>親民黨</td>\n",
       "      <td>宋楚瑜/余湘</td>\n",
       "      <td>46</td>\n",
       "    </tr>\n",
       "    <tr>\n",
       "      <th>2</th>\n",
       "      <td>臺北市</td>\n",
       "      <td>松山區</td>\n",
       "      <td>莊敬里</td>\n",
       "      <td>575.0</td>\n",
       "      <td>1</td>\n",
       "      <td>親民黨</td>\n",
       "      <td>宋楚瑜/余湘</td>\n",
       "      <td>48</td>\n",
       "    </tr>\n",
       "    <tr>\n",
       "      <th>3</th>\n",
       "      <td>臺北市</td>\n",
       "      <td>松山區</td>\n",
       "      <td>莊敬里</td>\n",
       "      <td>576.0</td>\n",
       "      <td>1</td>\n",
       "      <td>親民黨</td>\n",
       "      <td>宋楚瑜/余湘</td>\n",
       "      <td>43</td>\n",
       "    </tr>\n",
       "    <tr>\n",
       "      <th>4</th>\n",
       "      <td>臺北市</td>\n",
       "      <td>松山區</td>\n",
       "      <td>東榮里</td>\n",
       "      <td>577.0</td>\n",
       "      <td>1</td>\n",
       "      <td>親民黨</td>\n",
       "      <td>宋楚瑜/余湘</td>\n",
       "      <td>38</td>\n",
       "    </tr>\n",
       "    <tr>\n",
       "      <th>...</th>\n",
       "      <td>...</td>\n",
       "      <td>...</td>\n",
       "      <td>...</td>\n",
       "      <td>...</td>\n",
       "      <td>...</td>\n",
       "      <td>...</td>\n",
       "      <td>...</td>\n",
       "      <td>...</td>\n",
       "    </tr>\n",
       "    <tr>\n",
       "      <th>51673</th>\n",
       "      <td>連江縣</td>\n",
       "      <td>北竿鄉</td>\n",
       "      <td>塘岐村、后沃村</td>\n",
       "      <td>6.0</td>\n",
       "      <td>3</td>\n",
       "      <td>民主進步黨</td>\n",
       "      <td>蔡英文/賴清德</td>\n",
       "      <td>121</td>\n",
       "    </tr>\n",
       "    <tr>\n",
       "      <th>51674</th>\n",
       "      <td>連江縣</td>\n",
       "      <td>北竿鄉</td>\n",
       "      <td>橋仔村、芹壁村、坂里村、白沙村</td>\n",
       "      <td>7.0</td>\n",
       "      <td>3</td>\n",
       "      <td>民主進步黨</td>\n",
       "      <td>蔡英文/賴清德</td>\n",
       "      <td>80</td>\n",
       "    </tr>\n",
       "    <tr>\n",
       "      <th>51675</th>\n",
       "      <td>連江縣</td>\n",
       "      <td>莒光鄉</td>\n",
       "      <td>青帆村、田沃村、西坵村</td>\n",
       "      <td>8.0</td>\n",
       "      <td>3</td>\n",
       "      <td>民主進步黨</td>\n",
       "      <td>蔡英文/賴清德</td>\n",
       "      <td>43</td>\n",
       "    </tr>\n",
       "    <tr>\n",
       "      <th>51676</th>\n",
       "      <td>連江縣</td>\n",
       "      <td>莒光鄉</td>\n",
       "      <td>福正村、大坪村</td>\n",
       "      <td>9.0</td>\n",
       "      <td>3</td>\n",
       "      <td>民主進步黨</td>\n",
       "      <td>蔡英文/賴清德</td>\n",
       "      <td>62</td>\n",
       "    </tr>\n",
       "    <tr>\n",
       "      <th>51677</th>\n",
       "      <td>連江縣</td>\n",
       "      <td>東引鄉</td>\n",
       "      <td>中柳村、樂華村</td>\n",
       "      <td>10.0</td>\n",
       "      <td>3</td>\n",
       "      <td>民主進步黨</td>\n",
       "      <td>蔡英文/賴清德</td>\n",
       "      <td>136</td>\n",
       "    </tr>\n",
       "  </tbody>\n",
       "</table>\n",
       "<p>51678 rows × 8 columns</p>\n",
       "</div>"
      ],
      "text/plain": [
       "      admin_area district          village  office number  party candidates  \\\n",
       "0            臺北市      松山區              莊敬里   573.0      1    親民黨     宋楚瑜/余湘   \n",
       "1            臺北市      松山區              莊敬里   574.0      1    親民黨     宋楚瑜/余湘   \n",
       "2            臺北市      松山區              莊敬里   575.0      1    親民黨     宋楚瑜/余湘   \n",
       "3            臺北市      松山區              莊敬里   576.0      1    親民黨     宋楚瑜/余湘   \n",
       "4            臺北市      松山區              東榮里   577.0      1    親民黨     宋楚瑜/余湘   \n",
       "...          ...      ...              ...     ...    ...    ...        ...   \n",
       "51673        連江縣      北竿鄉          塘岐村、后沃村     6.0      3  民主進步黨    蔡英文/賴清德   \n",
       "51674        連江縣      北竿鄉  橋仔村、芹壁村、坂里村、白沙村     7.0      3  民主進步黨    蔡英文/賴清德   \n",
       "51675        連江縣      莒光鄉      青帆村、田沃村、西坵村     8.0      3  民主進步黨    蔡英文/賴清德   \n",
       "51676        連江縣      莒光鄉          福正村、大坪村     9.0      3  民主進步黨    蔡英文/賴清德   \n",
       "51677        連江縣      東引鄉          中柳村、樂華村    10.0      3  民主進步黨    蔡英文/賴清德   \n",
       "\n",
       "      votes  \n",
       "0        36  \n",
       "1        46  \n",
       "2        48  \n",
       "3        43  \n",
       "4        38  \n",
       "...     ...  \n",
       "51673   121  \n",
       "51674    80  \n",
       "51675    43  \n",
       "51676    62  \n",
       "51677   136  \n",
       "\n",
       "[51678 rows x 8 columns]"
      ]
     },
     "execution_count": 34,
     "metadata": {},
     "output_type": "execute_result"
    }
   ],
   "source": [
    "presidential_votes"
   ]
  },
  {
   "cell_type": "code",
   "execution_count": 35,
   "metadata": {},
   "outputs": [
    {
     "name": "stdout",
     "output_type": "stream",
     "text": [
      "<class 'pandas.core.frame.DataFrame'>\n",
      "RangeIndex: 51678 entries, 0 to 51677\n",
      "Data columns (total 8 columns):\n",
      " #   Column      Non-Null Count  Dtype  \n",
      "---  ------      --------------  -----  \n",
      " 0   admin_area  51678 non-null  object \n",
      " 1   district    51678 non-null  object \n",
      " 2   village     51678 non-null  object \n",
      " 3   office      51678 non-null  float64\n",
      " 4   number      51678 non-null  object \n",
      " 5   party       51678 non-null  object \n",
      " 6   candidates  51678 non-null  object \n",
      " 7   votes       51678 non-null  object \n",
      "dtypes: float64(1), object(7)\n",
      "memory usage: 3.2+ MB\n"
     ]
    }
   ],
   "source": [
    "presidential_votes.info()"
   ]
  },
  {
   "cell_type": "code",
   "execution_count": 36,
   "metadata": {},
   "outputs": [],
   "source": [
    "presidential_votes['number'] = presidential_votes['number'].astype(int)\n",
    "presidential_votes['office'] = presidential_votes['office'].astype(int)\n",
    "presidential_votes['votes'] = presidential_votes['votes'].astype(str)\n",
    "presidential_votes['votes'] = presidential_votes['votes'].str.replace(',', '').astype(int)"
   ]
  },
  {
   "cell_type": "code",
   "execution_count": 37,
   "metadata": {},
   "outputs": [],
   "source": [
    "presidential_votes.to_csv('presidential_votes.csv', index=False, encoding='utf_8_sig')"
   ]
  }
 ],
 "metadata": {
  "kernelspec": {
   "display_name": "Python 3",
   "language": "python",
   "name": "python3"
  },
  "language_info": {
   "codemirror_mode": {
    "name": "ipython",
    "version": 3
   },
   "file_extension": ".py",
   "mimetype": "text/x-python",
   "name": "python",
   "nbconvert_exporter": "python",
   "pygments_lexer": "ipython3",
   "version": "3.7.3"
  }
 },
 "nbformat": 4,
 "nbformat_minor": 2
}
