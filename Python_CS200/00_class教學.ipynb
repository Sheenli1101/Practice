{
 "cells": [
  {
   "cell_type": "markdown",
   "metadata": {},
   "source": [
    "# 在Python的世界裡，所有東西都是物件"
   ]
  },
  {
   "cell_type": "markdown",
   "metadata": {},
   "source": [
    "- class 就是種類(類類)\n",
    "- 每一個物件都有它的種類(class)\n",
    "    -有屬性 dir(x)"
   ]
  },
  {
   "cell_type": "code",
   "execution_count": 2,
   "metadata": {},
   "outputs": [
    {
     "data": {
      "text/plain": [
       "['__abs__',\n",
       " '__add__',\n",
       " '__and__',\n",
       " '__bool__',\n",
       " '__ceil__',\n",
       " '__class__',\n",
       " '__delattr__',\n",
       " '__dir__',\n",
       " '__divmod__',\n",
       " '__doc__',\n",
       " '__eq__',\n",
       " '__float__',\n",
       " '__floor__',\n",
       " '__floordiv__',\n",
       " '__format__',\n",
       " '__ge__',\n",
       " '__getattribute__',\n",
       " '__getnewargs__',\n",
       " '__gt__',\n",
       " '__hash__',\n",
       " '__index__',\n",
       " '__init__',\n",
       " '__init_subclass__',\n",
       " '__int__',\n",
       " '__invert__',\n",
       " '__le__',\n",
       " '__lshift__',\n",
       " '__lt__',\n",
       " '__mod__',\n",
       " '__mul__',\n",
       " '__ne__',\n",
       " '__neg__',\n",
       " '__new__',\n",
       " '__or__',\n",
       " '__pos__',\n",
       " '__pow__',\n",
       " '__radd__',\n",
       " '__rand__',\n",
       " '__rdivmod__',\n",
       " '__reduce__',\n",
       " '__reduce_ex__',\n",
       " '__repr__',\n",
       " '__rfloordiv__',\n",
       " '__rlshift__',\n",
       " '__rmod__',\n",
       " '__rmul__',\n",
       " '__ror__',\n",
       " '__round__',\n",
       " '__rpow__',\n",
       " '__rrshift__',\n",
       " '__rshift__',\n",
       " '__rsub__',\n",
       " '__rtruediv__',\n",
       " '__rxor__',\n",
       " '__setattr__',\n",
       " '__sizeof__',\n",
       " '__str__',\n",
       " '__sub__',\n",
       " '__subclasshook__',\n",
       " '__truediv__',\n",
       " '__trunc__',\n",
       " '__xor__',\n",
       " 'bit_length',\n",
       " 'conjugate',\n",
       " 'denominator',\n",
       " 'from_bytes',\n",
       " 'imag',\n",
       " 'numerator',\n",
       " 'real',\n",
       " 'to_bytes']"
      ]
     },
     "execution_count": 2,
     "metadata": {},
     "output_type": "execute_result"
    }
   ],
   "source": [
    "x = 5\n",
    "type(x)\n",
    "dir(x) #雙底線開頭、結尾只有python獨有的編碼"
   ]
  },
  {
   "cell_type": "markdown",
   "metadata": {},
   "source": [
    "int、str...都為python內建的calss"
   ]
  },
  {
   "cell_type": "markdown",
   "metadata": {},
   "source": [
    "# 寫class是在設計一張藍圖"
   ]
  },
  {
   "cell_type": "code",
   "execution_count": 26,
   "metadata": {
    "scrolled": false
   },
   "outputs": [
    {
     "name": "stdout",
     "output_type": "stream",
     "text": [
      "我誕生了\n",
      "我誕生了\n",
      "我在做作業\n",
      "我在讀書\n",
      "我在讀書\n",
      "John Sheen\n",
      "80 90\n",
      "我在讀書\n",
      "95\n"
     ]
    }
   ],
   "source": [
    "# class是最大的收納層級\n",
    "class Student:\n",
    "    def __init__(self, name, score): # initialize 初始化 為內建函數，python會自動認得(執行)!!\n",
    "        self.name = name  # 利用self創造屬性(非function，沒有雙底線!!)\n",
    "        self.score = score\n",
    "        print('我誕生了')\n",
    "    \n",
    "    def do_hw(self):\n",
    "        print('我在做作業') # 因為do_hw非內建函數，python不會自動運行\n",
    "        self.study() #如果不加self城市舞法判斷study()是從哪裡來的\n",
    "    \n",
    "    def study(self):\n",
    "        print('我在讀書')\n",
    "        self.score += 5\n",
    "    \n",
    "    def sleep(self):\n",
    "        print('I am sleeping!')\n",
    "        \n",
    "s1 = Student('John', 80) #有括號就是有運行的意味，產生一物件，若有參數就會投到 __init__裡面\n",
    "s2 = Student('Sheen', 90)\n",
    "\n",
    "s.do_hw()\n",
    "s.study()\n",
    "print(s1.name, s2.name)\n",
    "print(s1.score, s2.score)\n",
    "\n",
    "s2.study() # 執行後 +5分\n",
    "\n",
    "print(s2.score)"
   ]
  },
  {
   "cell_type": "code",
   "execution_count": 9,
   "metadata": {
    "scrolled": true
   },
   "outputs": [
    {
     "name": "stdout",
     "output_type": "stream",
     "text": [
      "I am sleeping!\n"
     ]
    }
   ],
   "source": [
    "s.sleep()"
   ]
  },
  {
   "cell_type": "markdown",
   "metadata": {},
   "source": [
    "1. self = self-reference 我在講我自己\n",
    "2. 在class裡面寫Function會自動投入第一個參數(self)，若複數參數就需要設參數\n",
    "3. 使用self賦予屬性"
   ]
  },
  {
   "cell_type": "code",
   "execution_count": 13,
   "metadata": {
    "scrolled": true
   },
   "outputs": [
    {
     "name": "stdout",
     "output_type": "stream",
     "text": [
      "['__class__', '__delattr__', '__dict__', '__dir__', '__doc__', '__eq__', '__format__', '__ge__', '__getattribute__', '__gt__', '__hash__', '__init__', '__init_subclass__', '__le__', '__lt__', '__module__', '__ne__', '__new__', '__reduce__', '__reduce_ex__', '__repr__', '__setattr__', '__sizeof__', '__str__', '__subclasshook__', '__weakref__', 'do_hw', 'name', 'sleep', 'study']\n"
     ]
    }
   ],
   "source": [
    "print(dir(s))"
   ]
  },
  {
   "cell_type": "code",
   "execution_count": 31,
   "metadata": {},
   "outputs": [
    {
     "name": "stdout",
     "output_type": "stream",
     "text": [
      "我被製造出來了\n",
      "Red\n"
     ]
    }
   ],
   "source": [
    "class Desk(): #只有python的原生class開頭才是小寫，其他一定是大寫開頭!!\n",
    "    def __init__(self, color):\n",
    "        self.color = color\n",
    "        print('我被製造出來了')\n",
    "    \n",
    "    def re_color(self, new_color):\n",
    "        self.color = new_color\n",
    "        \n",
    "#Desk() # instantiation 實體化\n",
    "\n",
    "d = Desk('Blue')\n",
    "d.re_color('Red')\n",
    "print(d.color)"
   ]
  },
  {
   "cell_type": "code",
   "execution_count": 33,
   "metadata": {
    "scrolled": true
   },
   "outputs": [
    {
     "name": "stdout",
     "output_type": "stream",
     "text": [
      "我誕生了\n",
      "我誕生了\n",
      "John 的分數是 80\n",
      "Sheen 的分數是 90\n"
     ]
    }
   ],
   "source": [
    "# class是最大的收納層級\n",
    "class Student:\n",
    "    def __init__(self, name, score): # initialize 初始化 為內建函數，python會自動認得(執行)!!\n",
    "        self.name = name  # 利用self創造屬性(非function，沒有雙底線!!)\n",
    "        self.score = score\n",
    "        print('我誕生了')\n",
    "    \n",
    "    def do_hw(self):\n",
    "        print('我在做作業') # 因為do_hw非內建函數，python不會自動運行\n",
    "        self.study() #如果不加self城市舞法判斷study()是從哪裡來的\n",
    "    \n",
    "    def study(self):\n",
    "        print('我在讀書')\n",
    "        self.score += 5\n",
    "    \n",
    "    def sleep(self):\n",
    "        print('I am sleeping!')\n",
    "        \n",
    "s1 = Student('John', 80) #有括號就是有運行的意味，產生一物件，若有參數就會投到 __init__裡面\n",
    "s2 = Student('Sheen', 90)\n",
    "\n",
    "students = [s1, s2]\n",
    "\n",
    "for s in students:\n",
    "    print(s.name, '的分數是', s.score)"
   ]
  },
  {
   "cell_type": "markdown",
   "metadata": {},
   "source": [
    "# Class的三大好處\n",
    "1. 把所有function收納在一起\n",
    "2. 透過self來共用身上的屬性\n",
    "3. 包裝程式碼，方便使用"
   ]
  },
  {
   "cell_type": "markdown",
   "metadata": {},
   "source": [
    "引入第三方套件，再創成物件。\n"
   ]
  },
  {
   "cell_type": "code",
   "execution_count": null,
   "metadata": {},
   "outputs": [],
   "source": [
    "from c3 import Youtubedownloader\n",
    "ytd = youtubedownloader()"
   ]
  },
  {
   "cell_type": "markdown",
   "metadata": {},
   "source": [
    "# class的提點\n",
    "1. class第一個字一定要大寫\n",
    "2. class裡的function沒有順序的差別\n",
    "3. self. 增加的屬性不一定要在init裡\n",
    "4. class裡的function叫做method\n",
    "5. method間隔一行，function間隔兩行"
   ]
  },
  {
   "cell_type": "code",
   "execution_count": 10,
   "metadata": {},
   "outputs": [
    {
     "name": "stdout",
     "output_type": "stream",
     "text": [
      "我誕生了\n",
      "我誕生了\n",
      "10\n",
      "Allen attacking Sheen\n",
      "95\n"
     ]
    }
   ],
   "source": [
    "class Player:\n",
    "    def __init__(self, name, ap):\n",
    "        print('我誕生了')\n",
    "        self.name = name\n",
    "        self.hp = 100\n",
    "        self.ap = ap\n",
    "        \n",
    "    def attack(self, target):\n",
    "        print(self.name, 'attacking', target.name) #target是隱藏假設是Player的class\n",
    "        target.hp = target.hp - self.ap\n",
    "\n",
    "        \n",
    "p1 = Player('Allen', 5)\n",
    "p2 = Player('Sheen', 10)\n",
    "print(p2.ap)\n",
    "p1.attack(p2)\n",
    "print(p2.hp)\n",
    "\n"
   ]
  }
 ],
 "metadata": {
  "kernelspec": {
   "display_name": "Python 3",
   "language": "python",
   "name": "python3"
  },
  "language_info": {
   "codemirror_mode": {
    "name": "ipython",
    "version": 3
   },
   "file_extension": ".py",
   "mimetype": "text/x-python",
   "name": "python",
   "nbconvert_exporter": "python",
   "pygments_lexer": "ipython3",
   "version": "3.7.3"
  }
 },
 "nbformat": 4,
 "nbformat_minor": 2
}
