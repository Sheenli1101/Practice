{
 "cells": [
  {
   "cell_type": "markdown",
   "metadata": {},
   "source": [
    "1. _\n",
    "2. _name\n",
    "3. name_\n",
    "4. __name (前雙底線)\n",
    "5. __name__ (前後雙底線)"
   ]
  },
  {
   "cell_type": "code",
   "execution_count": 1,
   "metadata": {},
   "outputs": [
    {
     "name": "stdout",
     "output_type": "stream",
     "text": [
      "0 hi\n",
      "1 hi\n",
      "2 hi\n",
      "3 hi\n",
      "4 hi\n",
      "5 hi\n",
      "6 hi\n",
      "7 hi\n",
      "8 hi\n",
      "9 hi\n"
     ]
    }
   ],
   "source": [
    "# _ : 此變數不重要、臨時變數\n",
    "for _ in range(10):\n",
    "    print(_, 'hi')"
   ]
  },
  {
   "cell_type": "code",
   "execution_count": 2,
   "metadata": {},
   "outputs": [],
   "source": [
    "name, _ = 'name$age'.split('$')"
   ]
  },
  {
   "cell_type": "code",
   "execution_count": 3,
   "metadata": {},
   "outputs": [
    {
     "data": {
      "text/plain": [
       "'name'"
      ]
     },
     "execution_count": 3,
     "metadata": {},
     "output_type": "execute_result"
    }
   ],
   "source": [
    "name"
   ]
  },
  {
   "cell_type": "code",
   "execution_count": null,
   "metadata": {},
   "outputs": [],
   "source": [
    "# _name : 這個物件是private\n",
    "\n",
    "#public\n",
    "#private 一種嚴謹的設計\n",
    "# helper function\n",
    "# 只供內部使用，不會被複寫\n",
    "class Person:\n",
    "    def _private_function(self):\n",
    "        print('asdasd')\n",
    "        "
   ]
  },
  {
   "cell_type": "code",
   "execution_count": null,
   "metadata": {},
   "outputs": [],
   "source": [
    "def f():\n",
    "    print('123')"
   ]
  },
  {
   "cell_type": "markdown",
   "metadata": {},
   "source": [
    "from module import *\n",
    "，有前底線的會避開import，才有效"
   ]
  },
  {
   "cell_type": "code",
   "execution_count": 4,
   "metadata": {},
   "outputs": [],
   "source": [
    "# name_ : 只是為了避開已使用的變數名稱\n"
   ]
  },
  {
   "cell_type": "code",
   "execution_count": 8,
   "metadata": {},
   "outputs": [
    {
     "name": "stdout",
     "output_type": "stream",
     "text": [
      "1\n",
      "1\n",
      "['_Person__z', '__class__', '__delattr__', '__dict__', '__dir__', '__doc__', '__eq__', '__format__', '__ge__', '__getattribute__', '__gt__', '__hash__', '__init__', '__init_subclass__', '__le__', '__lt__', '__module__', '__ne__', '__new__', '__reduce__', '__reduce_ex__', '__repr__', '__setattr__', '__sizeof__', '__str__', '__subclasshook__', '__weakref__', '_y', 'x']\n"
     ]
    }
   ],
   "source": [
    "# __name :　用在class裡面，避免撞名，用來給python的interpretor改名\n",
    "class Person:\n",
    "    def __init__(self):\n",
    "        self.x = 1\n",
    "        self._y = 1\n",
    "        self.__z = 1 #重新改名 因為class可以寫延伸的class -> '_Person__z'\n",
    "p = Person()\n",
    "print(p.x)\n",
    "print(p._y)\n",
    "# print(p.__z) 會出錯\n",
    "print(dir(p))"
   ]
  },
  {
   "cell_type": "code",
   "execution_count": null,
   "metadata": {},
   "outputs": [],
   "source": [
    "# __name__ : 是一種Python的function預留名\n",
    "# dunder methods / magic methods <- 是class裡的function\n",
    "# dunder = double underscore"
   ]
  }
 ],
 "metadata": {
  "kernelspec": {
   "display_name": "Python 3",
   "language": "python",
   "name": "python3"
  },
  "language_info": {
   "codemirror_mode": {
    "name": "ipython",
    "version": 3
   },
   "file_extension": ".py",
   "mimetype": "text/x-python",
   "name": "python",
   "nbconvert_exporter": "python",
   "pygments_lexer": "ipython3",
   "version": "3.7.3"
  }
 },
 "nbformat": 4,
 "nbformat_minor": 2
}
