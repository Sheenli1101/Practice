{
 "cells": [
  {
   "cell_type": "markdown",
   "metadata": {},
   "source": [
    "# 三大NameSpace\n",
    "- Built-in Namespace\n",
    "- Global Namespace\n",
    "- Local Namespace"
   ]
  },
  {
   "cell_type": "markdown",
   "metadata": {},
   "source": [
    "Namespace是種字典，用字典儲存變數名與物件的關係。\n",
    "- Built-in Namespace : 就是跟python無關，只要開啟pyhton直譯器，就會載入這些名稱。 eg. print() str()\n",
    "\n",
    "- Global(全域)Space : 一個Python檔案全部空間\n",
    "\n",
    "- Local(區域) Namespace : function內的\n",
    "\n",
    "- enclosed Namespace : 在一function內，在內部Function之上"
   ]
  },
  {
   "cell_type": "markdown",
   "metadata": {},
   "source": [
    "# LEGB\n",
    "\n",
    "## L : local\n",
    "## E : enclosed\n",
    "## G : global\n",
    "## B : built-in"
   ]
  },
  {
   "cell_type": "markdown",
   "metadata": {},
   "source": [
    "# Example"
   ]
  },
  {
   "cell_type": "code",
   "execution_count": 1,
   "metadata": {},
   "outputs": [],
   "source": [
    "y = 10\n",
    "x = 5\n",
    "def f():\n",
    "    x = 1\n",
    "    def defasdasd():\n",
    "        x = 5\n",
    "        \n",
    "def qwe():\n",
    "    q = 1\n",
    "    \n",
    "# global = {'y':10, 'x':5, 'f':function, 'qwe':function}\n",
    "# enclosed = {'x':1}\n",
    "# Local = {'x':5, 'q':1}"
   ]
  },
  {
   "cell_type": "code",
   "execution_count": 7,
   "metadata": {},
   "outputs": [],
   "source": [
    "import asd"
   ]
  },
  {
   "cell_type": "code",
   "execution_count": null,
   "metadata": {},
   "outputs": [],
   "source": [
    "from asd import f #會跟原本的f撞名，不適合這樣用!!!!"
   ]
  },
  {
   "cell_type": "code",
   "execution_count": null,
   "metadata": {},
   "outputs": [],
   "source": [
    "# 目前還不能叫出東西，猜測原因~是還設class"
   ]
  }
 ],
 "metadata": {
  "kernelspec": {
   "display_name": "Python 3",
   "language": "python",
   "name": "python3"
  },
  "language_info": {
   "codemirror_mode": {
    "name": "ipython",
    "version": 3
   },
   "file_extension": ".py",
   "mimetype": "text/x-python",
   "name": "python",
   "nbconvert_exporter": "python",
   "pygments_lexer": "ipython3",
   "version": "3.7.3"
  }
 },
 "nbformat": 4,
 "nbformat_minor": 2
}
