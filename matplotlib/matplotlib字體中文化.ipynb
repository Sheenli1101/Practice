{
 "cells": [
  {
   "cell_type": "markdown",
   "metadata": {},
   "source": [
    "# matplotlib的專有名詞\n",
    "- (1) figure : 代表整個面板\n",
    "- (2) Axes : 代表整個圖表\n",
    "- (3) Axis : 代表軸\n",
    "- (4) Legend : 代表圖示說明\n",
    "- (5) Label : 代表軸表頭\n",
    "- (6) title : 代表圖表表頭"
   ]
  },
  {
   "cell_type": "code",
   "execution_count": 2,
   "metadata": {},
   "outputs": [
    {
     "name": "stdout",
     "output_type": "stream",
     "text": [
      "   月份區域別   一月\n",
      "0    桃園區  305\n",
      "1    中壢區  271\n",
      "2    大溪區   54\n",
      "3    楊梅區  103\n",
      "4    蘆竹區  100\n",
      "5    大園區   59\n",
      "6    龜山區  100\n",
      "7    八德區  138\n",
      "8    龍潭區   75\n",
      "9    平鎮區  151\n",
      "10   新屋區   37\n",
      "11   觀音區   45\n",
      "12   復興區   11\n",
      "        一月\n",
      "月份區域別     \n",
      "桃園區    305\n",
      "中壢區    271\n",
      "大溪區     54\n",
      "楊梅區    103\n",
      "蘆竹區    100\n",
      "大園區     59\n",
      "龜山區    100\n",
      "八德區    138\n",
      "龍潭區     75\n",
      "平鎮區    151\n",
      "新屋區     37\n",
      "觀音區     45\n",
      "復興區     11\n"
     ]
    },
    {
     "data": {
      "image/png": "[encoded data removed]",
      "text/plain": [
       "<Figure size 432x288 with 1 Axes>"
      ]
     },
     "metadata": {
      "needs_background": "light"
     },
     "output_type": "display_data"
    }
   ],
   "source": [
    "import pandas as pd\n",
    "import matplotlib.pyplot as plt\n",
    "from matplotlib.font_manager import FontProperties\n",
    "\n",
    "# 讀入資料集檔案\n",
    "df = pd.read_csv('108結婚對數.csv')\n",
    "\n",
    "# loc 取值方式為 [索引, [欄位]]，取 月份區域別 出來當作 index\n",
    "data = df.loc[:, ['月份區域別', '一月']]\n",
    "print(data)\n",
    "\n",
    "# 原本 index 為 0, 1, 2, 3...12，改為 月份區域別，這樣 x 軸標籤就會改為 月份區域別\n",
    "data = data.set_index('月份區域別')\n",
    "print(data)\n",
    "\n",
    "# plot 函式會取 column 值代表 y 軸的值，index 索引代表 x 軸\n",
    "axes = data.plot(kind='bar')\n",
    "\n",
    "# 需要把該字體放在與程式同一個資料夾!\n",
    "myfont = FontProperties(fname=r'./NotoSansCJK-Black.ttc')\n",
    "\n",
    "# 設定標頭和字體\n",
    "plt.title('一月份各區域結婚數',fontproperties=myfont)\n",
    "\n",
    "# 設定 x 軸標頭和字體\n",
    "plt.xlabel('區域別',fontproperties=myfont)\n",
    "\n",
    "# 設定 y 軸標頭和字體\n",
    "plt.ylabel('結婚數', fontproperties=myfont)\n",
    "\n",
    "# 設定右上角說明圖示字體\n",
    "plt.legend(prop=myfont)\n",
    "\n",
    "# 使用 for 迴圈一一取出 x 軸標籤 label 設定字體，若 y 軸有中文字也是類似使用方式 get_yticklabels\n",
    "for label in axes.get_xticklabels():\n",
    "    label.set_fontproperties(myfont)\n",
    "\n",
    "# 顯示圖表\n",
    "plt.show()"
   ]
  }
 ],
 "metadata": {
  "kernelspec": {
   "display_name": "Python 3",
   "language": "python",
   "name": "python3"
  },
  "language_info": {
   "codemirror_mode": {
    "name": "ipython",
    "version": 3
   },
   "file_extension": ".py",
   "mimetype": "text/x-python",
   "name": "python",
   "nbconvert_exporter": "python",
   "pygments_lexer": "ipython3",
   "version": "3.7.3"
  }
 },
 "nbformat": 4,
 "nbformat_minor": 2
}
