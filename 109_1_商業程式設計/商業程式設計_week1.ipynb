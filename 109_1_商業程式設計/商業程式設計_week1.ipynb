{
 "cells": [
  {
   "cell_type": "code",
   "execution_count": 1,
   "metadata": {},
   "outputs": [
    {
     "name": "stdout",
     "output_type": "stream",
     "text": [
      "請輸入第一次期中考成績? 75\n",
      "請輸入第二次期中考成績? 80\n",
      "請輸入期末考成績? 65\n",
      "總分為 220 平均為 73.33333333333333\n"
     ]
    }
   ],
   "source": [
    "num_1 = int(input(\"請輸入第一次期中考成績? \"))\n",
    "num_2 = int(input(\"請輸入第二次期中考成績? \"))\n",
    "num_3 = int(input(\"請輸入期末考成績? \"))\n",
    "num = num_1 + num_2 + num_3\n",
    "ave = num / 3\n",
    "print(\"總分為\", num, '平均為', ave)"
   ]
  },
  {
   "cell_type": "code",
   "execution_count": 2,
   "metadata": {},
   "outputs": [
    {
     "name": "stdout",
     "output_type": "stream",
     "text": [
      "請輸入幾尺? 5\n",
      "請輸入幾吋? 8\n",
      "轉換成 172.72 公分\n"
     ]
    }
   ],
   "source": [
    "x = int(input(\"請輸入幾尺? \"))\n",
    "y = int(input(\"請輸入幾吋? \"))\n",
    "z = (x*12 + y) * 2.54\n",
    "print('轉換成', z ,\"公分\")"
   ]
  }
 ],
 "metadata": {
  "kernelspec": {
   "display_name": "Python 3",
   "language": "python",
   "name": "python3"
  },
  "language_info": {
   "codemirror_mode": {
    "name": "ipython",
    "version": 3
   },
   "file_extension": ".py",
   "mimetype": "text/x-python",
   "name": "python",
   "nbconvert_exporter": "python",
   "pygments_lexer": "ipython3",
   "version": "3.7.3"
  }
 },
 "nbformat": 4,
 "nbformat_minor": 2
}
