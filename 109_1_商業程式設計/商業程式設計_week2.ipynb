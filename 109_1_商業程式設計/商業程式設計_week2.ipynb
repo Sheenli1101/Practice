{
 "cells": [
  {
   "cell_type": "code",
   "execution_count": 3,
   "metadata": {
    "scrolled": true
   },
   "outputs": [
    {
     "ename": "TypeError",
     "evalue": "can only concatenate str (not \"int\") to str",
     "output_type": "error",
     "traceback": [
      "\u001b[1;31m---------------------------------------------------------------------------\u001b[0m",
      "\u001b[1;31mTypeError\u001b[0m                                 Traceback (most recent call last)",
      "\u001b[1;32m<ipython-input-3-6bed1c7ffceb>\u001b[0m in \u001b[0;36m<module>\u001b[1;34m\u001b[0m\n\u001b[1;32m----> 1\u001b[1;33m \u001b[0mprint\u001b[0m\u001b[1;33m(\u001b[0m\u001b[1;34m\"我的ID是:\"\u001b[0m\u001b[1;33m+\u001b[0m\u001b[0mint\u001b[0m\u001b[1;33m(\u001b[0m\u001b[1;34m\"123456\"\u001b[0m\u001b[1;33m)\u001b[0m\u001b[1;33m)\u001b[0m\u001b[1;33m\u001b[0m\u001b[1;33m\u001b[0m\u001b[0m\n\u001b[0m",
      "\u001b[1;31mTypeError\u001b[0m: can only concatenate str (not \"int\") to str"
     ]
    }
   ],
   "source": [
    "print(\"我的ID是:\"+int(\"123456\"))"
   ]
  },
  {
   "cell_type": "markdown",
   "metadata": {},
   "source": [
    "1. 如果雞和免子關在同一籠,請問共有幾隻腳？ 請使用兩個input指令取得雞和免的數目並顯示答案。"
   ]
  },
  {
   "cell_type": "code",
   "execution_count": 6,
   "metadata": {},
   "outputs": [
    {
     "name": "stdout",
     "output_type": "stream",
     "text": [
      "雞有幾隻? 5\n",
      "兔兔有幾隻? 7\n",
      "雞兔共有38隻腳\n"
     ]
    }
   ],
   "source": [
    "c_foot = int(input('雞有幾隻? '))\n",
    "r_foot = int(input('兔兔有幾隻? '))\n",
    "all_feet = 2*c_foot + 4*r_foot\n",
    "print(\"雞兔共有\"+str(all_feet)+\"隻腳\")"
   ]
  },
  {
   "cell_type": "markdown",
   "metadata": {},
   "source": [
    "2. 小明有100元零花錢，他買了X本書，每本9元。他還剩多少元？請使用一個input指令取得書本數量X。請顯示答案"
   ]
  },
  {
   "cell_type": "code",
   "execution_count": 29,
   "metadata": {},
   "outputs": [
    {
     "name": "stdout",
     "output_type": "stream",
     "text": [
      "小明買書本的數量為 9\n",
      "小明還剩19元\n"
     ]
    }
   ],
   "source": [
    "books = int(input(\"小明買書本的數量為 \"))\n",
    "money = 100 - 9*books\n",
    "print('小明還剩' + str(money) + '元')"
   ]
  },
  {
   "cell_type": "markdown",
   "metadata": {},
   "source": [
    "3. 如果 5箱蜜蜂一年可以取得375克蜂蜜。假設小明養了這樣的蜜蜂X箱，一年可以取得多少克蜂蜜？請使用一個input指令取得蜜蜂的箱量，請顯示答案."
   ]
  },
  {
   "cell_type": "code",
   "execution_count": 10,
   "metadata": {},
   "outputs": [
    {
     "name": "stdout",
     "output_type": "stream",
     "text": [
      "小明養蜜蜂箱數為 120\n",
      "小明一年可以取得9000克蜂蜜\n"
     ]
    }
   ],
   "source": [
    "x = int(input('小明養蜜蜂箱數為 '))\n",
    "y = x // 5\n",
    "g = 375 * y\n",
    "print('小明一年可以取得' + str(g) + '克蜂蜜')"
   ]
  },
  {
   "cell_type": "markdown",
   "metadata": {},
   "source": [
    "4. 請問到製作一個長方體的沒有加蓋子的金魚缸，長是X公尺，寬是Y公尺，高是Z公尺，所需玻璃的面積是多少平方公尺？如果每一平方公尺是3元？需要花多少錢？請顯示答案"
   ]
  },
  {
   "cell_type": "code",
   "execution_count": 12,
   "metadata": {},
   "outputs": [
    {
     "name": "stdout",
     "output_type": "stream",
     "text": [
      "長度 8.5\n",
      "寛度 5.5\n",
      "高度 6.5\n",
      "需玻璃的面積228.75平方公尺需玻璃的面積\n",
      "需要花686.25元\n"
     ]
    }
   ],
   "source": [
    "length = float(input('長度 '))\n",
    "wideth = float(input('寛度 '))\n",
    "heigh = float(input('高度 '))\n",
    "x_1 = length * wideth\n",
    "x_2 = 2 * wideth * heigh\n",
    "x_3 = 2 * length * heigh\n",
    "y = x_1 + x_2 + x_3\n",
    "z = 3*y\n",
    "print('需玻璃的面積'+str(y)+'平方公尺需玻璃的面積')\n",
    "print('需要花' + str(z) + '元')"
   ]
  },
  {
   "cell_type": "markdown",
   "metadata": {},
   "source": [
    "5. 一隻蝸牛爬X公尺高的牆壁？白天爬3公尺？由於晚上要睡覺滑下來2公尺？問它幾天能爬到頂端？ "
   ]
  },
  {
   "cell_type": "code",
   "execution_count": 13,
   "metadata": {},
   "outputs": [
    {
     "name": "stdout",
     "output_type": "stream",
     "text": [
      "牆壁的高度為20\n",
      "蝸牛爬上去的天數為18天\n"
     ]
    }
   ],
   "source": [
    "wall = int(input('牆壁的高度為'))\n",
    "wall_1 = wall - 3\n",
    "time = wall_1 // 1\n",
    "time_1 = time + 1\n",
    "print('蝸牛爬上去的天數為'+str(time_1)+'天')"
   ]
  },
  {
   "cell_type": "code",
   "execution_count": 27,
   "metadata": {},
   "outputs": [
    {
     "ename": "SyntaxError",
     "evalue": "invalid syntax (<ipython-input-27-ab66bbdf7506>, line 2)",
     "output_type": "error",
     "traceback": [
      "\u001b[1;36m  File \u001b[1;32m\"<ipython-input-27-ab66bbdf7506>\"\u001b[1;36m, line \u001b[1;32m2\u001b[0m\n\u001b[1;33m    print(s1'\\n''嗨')\u001b[0m\n\u001b[1;37m               ^\u001b[0m\n\u001b[1;31mSyntaxError\u001b[0m\u001b[1;31m:\u001b[0m invalid syntax\n"
     ]
    }
   ],
   "source": [
    "s1 = '作者\"孟浩然\"詩名\"春曉\"'\n",
    "print(s1,'\\n''嗨')"
   ]
  },
  {
   "cell_type": "code",
   "execution_count": 30,
   "metadata": {},
   "outputs": [],
   "source": [
    "s3 = '''\n",
    "      嗨'''"
   ]
  },
  {
   "cell_type": "code",
   "execution_count": 31,
   "metadata": {},
   "outputs": [
    {
     "data": {
      "text/plain": [
       "'\\n      嗨'"
      ]
     },
     "execution_count": 31,
     "metadata": {},
     "output_type": "execute_result"
    }
   ],
   "source": [
    "s3"
   ]
  },
  {
   "cell_type": "code",
   "execution_count": 34,
   "metadata": {},
   "outputs": [
    {
     "name": "stdout",
     "output_type": "stream",
     "text": [
      "請輸入座號?25\n",
      "5\n"
     ]
    }
   ],
   "source": [
    "number = int(input('請輸入座號?' ))\n",
    "x = (number + 4)//5\n",
    "print(x)"
   ]
  },
  {
   "cell_type": "code",
   "execution_count": null,
   "metadata": {},
   "outputs": [],
   "source": []
  }
 ],
 "metadata": {
  "kernelspec": {
   "display_name": "Python 3",
   "language": "python",
   "name": "python3"
  },
  "language_info": {
   "codemirror_mode": {
    "name": "ipython",
    "version": 3
   },
   "file_extension": ".py",
   "mimetype": "text/x-python",
   "name": "python",
   "nbconvert_exporter": "python",
   "pygments_lexer": "ipython3",
   "version": "3.7.3"
  }
 },
 "nbformat": 4,
 "nbformat_minor": 2
}
